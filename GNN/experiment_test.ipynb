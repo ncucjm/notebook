{
 "cells": [
  {
   "cell_type": "code",
   "execution_count": 14,
   "metadata": {},
   "outputs": [
    {
     "name": "stderr",
     "output_type": "stream",
     "text": [
      "2020-12-23 15:08:51,270\tINFO services.py:1169 -- View the Ray dashboard at \u001b[1m\u001b[32mhttp://127.0.0.1:8265\u001b[39m\u001b[22m\n"
     ]
    }
   ],
   "source": [
    "\"\"\"\n",
    "Calling ray.init() (without any address args) starts a Ray runtime on your laptop/machine. \n",
    "This laptop/machine becomes the “head node”.\n",
    "You must initialize Ray before any tasks or actors are called.\n",
    "\"\"\"\n",
    "import ray\n",
    "ray.shutdown()\n",
    "ray.init()\n",
    "\n",
    "@ray.remote(num_cpus=2, num_gpus=1)\n",
    "class GPUActor(object):\n",
    "    pass"
   ]
  },
  {
   "cell_type": "code",
   "execution_count": 16,
   "metadata": {},
   "outputs": [],
   "source": [
    "@ray.remote(num_cpus=2, num_gpus=1)\n",
    "class GPUActor2(object):\n",
    "    pass"
   ]
  },
  {
   "cell_type": "code",
   "execution_count": 19,
   "metadata": {},
   "outputs": [],
   "source": [
    "ray.shutdown()"
   ]
  },
  {
   "cell_type": "code",
   "execution_count": 18,
   "metadata": {},
   "outputs": [
    {
     "name": "stderr",
     "output_type": "stream",
     "text": [
      "2020-12-23 15:13:09,602\tINFO services.py:1169 -- View the Ray dashboard at \u001b[1m\u001b[32mhttp://127.0.0.1:8265\u001b[39m\u001b[22m\n"
     ]
    },
    {
     "data": {
      "text/plain": [
       "{'node_ip_address': '192.168.1.161',\n",
       " 'raylet_ip_address': '192.168.1.161',\n",
       " 'redis_address': '192.168.1.161:6379',\n",
       " 'object_store_address': '/tmp/ray/session_2020-12-23_15-13-09_245049_8425/sockets/plasma_store',\n",
       " 'raylet_socket_name': '/tmp/ray/session_2020-12-23_15-13-09_245049_8425/sockets/raylet',\n",
       " 'webui_url': '127.0.0.1:8265',\n",
       " 'session_dir': '/tmp/ray/session_2020-12-23_15-13-09_245049_8425',\n",
       " 'metrics_export_port': 64795,\n",
       " 'node_id': '414e055bc6ae249e65cb2631ad047faf33ff2cd37ad6513d7fc707e2'}"
      ]
     },
     "execution_count": 18,
     "metadata": {},
     "output_type": "execute_result"
    }
   ],
   "source": [
    "ray.init()"
   ]
  },
  {
   "cell_type": "code",
   "execution_count": 3,
   "metadata": {},
   "outputs": [
    {
     "name": "stdout",
     "output_type": "stream",
     "text": [
      "3\n"
     ]
    },
    {
     "data": {
      "text/plain": [
       "<__main__.B at 0x7f614df88a30>"
      ]
     },
     "execution_count": 3,
     "metadata": {},
     "output_type": "execute_result"
    }
   ],
   "source": [
    "class A:\n",
    "    def add(self,x):\n",
    "        y = x + 1\n",
    "        print(y)\n",
    "class B(A):\n",
    "    def add(self,x):\n",
    "        super().add(x)\n",
    "b = B()\n",
    "b.add(2)\n",
    "\n",
    "b"
   ]
  },
  {
   "cell_type": "code",
   "execution_count": 1,
   "metadata": {},
   "outputs": [
    {
     "name": "stdout",
     "output_type": "stream",
     "text": [
      "3.8.3 (default, Jul  2 2020, 16:21:59) \n",
      "[GCC 7.3.0]\n"
     ]
    }
   ],
   "source": [
    "import sys\n",
    "print(sys.version)"
   ]
  },
  {
   "cell_type": "code",
   "execution_count": 19,
   "metadata": {},
   "outputs": [
    {
     "name": "stdout",
     "output_type": "stream",
     "text": [
      "[0.05 0.1  0.15 0.05 0.2  0.1  0.25 0.1 ]\n"
     ]
    }
   ],
   "source": [
    "import math\n",
    "import numpy as np\n",
    "from collections import deque\n",
    "fitness = deque([1,2,3,1,4,2,5,2])\n",
    "fitness_v = np.array(fitness)\n",
    "probility_list = fitness_v/sum(fitness_v)\n",
    "print(probility_list)\n"
   ]
  },
  {
   "cell_type": "code",
   "execution_count": 24,
   "metadata": {},
   "outputs": [
    {
     "name": "stdout",
     "output_type": "stream",
     "text": [
      "cost time: 2.9939353466033936\n"
     ]
    }
   ],
   "source": [
    "import time\n",
    "start_time = time.time()\n",
    "for i in range(100000000):\n",
    "    i\n",
    "end_time =time.time()\n",
    "print(\"cost time:\",end_time - start_time)"
   ]
  },
  {
   "cell_type": "code",
   "execution_count": 25,
   "metadata": {},
   "outputs": [
    {
     "name": "stdout",
     "output_type": "stream",
     "text": [
      "('/home/jerry/local_git/notebook', '/home/jerry/local_git/notebook/GNN')\n"
     ]
    }
   ],
   "source": [
    "import os\n",
    "\n",
    "def path_get():\n",
    "    # 当前文件目录\n",
    "    current_path = os.path.abspath('')\n",
    "    # 当前文件夹父目录\n",
    "    father_path = os.path.abspath(os.path.dirname(current_path))\n",
    "    # corpus_path = os.path.join(father_path, corpus)\n",
    "    return father_path, current_path\n",
    "\n",
    "print(path_get())"
   ]
  },
  {
   "cell_type": "code",
   "execution_count": 43,
   "metadata": {},
   "outputs": [
    {
     "name": "stdout",
     "output_type": "stream",
     "text": [
      "['[1, 2, 3, 4, 5]\\n', '[1, 2, 3]']\n",
      "[1, 2, 3]\n",
      "<class 'list'>\n"
     ]
    }
   ],
   "source": [
    "import json\n",
    "a = [1,2,3,4,5]\n",
    "d = [1,2,3]\n",
    "current = path_get()[1]\n",
    "with open(current+\"/test_.txt\",'w') as f:\n",
    "#     for e in a:\n",
    "#         f.write(str(e)+\" \")\n",
    "    f.write(str(a))\n",
    "    f.write('\\n'+str(d))\n",
    "    \n",
    "with open(current+\"/test_.txt\",'r') as f:  \n",
    "    b = f.readlines()\n",
    "    print(b)\n",
    "    c = json.loads(b[1])\n",
    "    print(c)\n",
    "    print(type(c))"
   ]
  },
  {
   "cell_type": "code",
   "execution_count": 46,
   "metadata": {},
   "outputs": [
    {
     "name": "stdout",
     "output_type": "stream",
     "text": [
      "3\n"
     ]
    }
   ],
   "source": [
    "a = [1,2,3]\n",
    "b = [1,2,3]\n",
    "c = a+b\n",
    "print(c[-1])"
   ]
  },
  {
   "cell_type": "code",
   "execution_count": 2,
   "metadata": {},
   "outputs": [
    {
     "name": "stdout",
     "output_type": "stream",
     "text": [
      "deque([1, 2, 3])\n",
      "<class 'collections.deque'>\n",
      "1\n"
     ]
    }
   ],
   "source": [
    "from collections import deque\n",
    "a = [1,2,3]\n",
    "a = deque(a)\n",
    "print(a)\n",
    "print(type(a))\n",
    "print(a[0])"
   ]
  },
  {
   "cell_type": "code",
   "execution_count": null,
   "metadata": {},
   "outputs": [],
   "source": [
    "import matplotlib.pyplot as plt\n",
    "import numpy as np\n",
    "\n",
    "def demo_test():\n",
    "    y=[0.15,0.16,0.14,0.17,0.12,0.16,0.1,0.08,0.05,0.07,0.06]\n",
    "    x=[0.1,0.2,0.3,0.4,0.5,0.6,0.7,0.8,0.9,1.0,1.1]\n",
    "    \n",
    "    y_max_index = y.index(max(y))\n",
    "    \n",
    "    plt.plot(x,y,'r-o')\n",
    "    show_max='['+str(x[y_max_index])+' '+str(y[y_max_index])+']'\n",
    "    plt.annotate(show_max,xytext=(x[y_max_index],y[y_max_index]),xy=(x[y_max_index],y[y_max_index]))\n",
    "    plt.show()\n",
    "\n",
    "\n",
    "\n",
    "if __name__==\"__main__\":\n",
    "    demo_test();"
   ]
  },
  {
   "cell_type": "code",
   "execution_count": 5,
   "metadata": {},
   "outputs": [
    {
     "data": {
      "text/plain": [
       "[-0.8, -0.5, -0.8]"
      ]
     },
     "execution_count": 5,
     "metadata": {},
     "output_type": "execute_result"
    }
   ],
   "source": [
    "a = [0.2,0.5,0.2]\n",
    "b = [1,1,1]\n",
    "c = [i-j for i,j in zip(a,b)]\n",
    "c"
   ]
  },
  {
   "cell_type": "code",
   "execution_count": 6,
   "metadata": {},
   "outputs": [
    {
     "data": {
      "text/plain": [
       "[1, 1, 1, 1, 1, 1, 1, 1, 1, 1]"
      ]
     },
     "execution_count": 6,
     "metadata": {},
     "output_type": "execute_result"
    }
   ],
   "source": [
    "a = [1]\n",
    "a = [1]*10\n",
    "a"
   ]
  },
  {
   "cell_type": "code",
   "execution_count": 9,
   "metadata": {},
   "outputs": [
    {
     "data": {
      "text/plain": [
       "[1, 1, 1]"
      ]
     },
     "execution_count": 9,
     "metadata": {},
     "output_type": "execute_result"
    }
   ],
   "source": [
    "a = [0.5,0.6,0.7]\n",
    "b = [1]*len(a)\n",
    "b\n"
   ]
  },
  {
   "cell_type": "code",
   "execution_count": 14,
   "metadata": {},
   "outputs": [
    {
     "data": {
      "text/plain": [
       "array([0.5, 0.2, 0.3])"
      ]
     },
     "execution_count": 14,
     "metadata": {},
     "output_type": "execute_result"
    }
   ],
   "source": [
    "import numpy as np\n",
    "a = np.array([0.5,0.2,0.3])\n",
    "a"
   ]
  },
  {
   "cell_type": "code",
   "execution_count": 15,
   "metadata": {},
   "outputs": [
    {
     "data": {
      "text/plain": [
       "array([0.25, 0.4 , 0.35])"
      ]
     },
     "execution_count": 15,
     "metadata": {},
     "output_type": "execute_result"
    }
   ],
   "source": [
    "b = 1 - a\n",
    "c=b/sum(b)\n",
    "c"
   ]
  },
  {
   "cell_type": "code",
   "execution_count": 19,
   "metadata": {},
   "outputs": [
    {
     "name": "stdout",
     "output_type": "stream",
     "text": [
      "True\n",
      "12\n"
     ]
    }
   ],
   "source": [
    "a = [1,2,3]\n",
    "b = [[1,2,3],[1,2]]\n",
    "c = [12,123]\n",
    "if a in b:\n",
    "    print(True)\n",
    "index_ = b.index(a)\n",
    "acc = c[b.index(a)]\n",
    "print(acc)"
   ]
  },
  {
   "cell_type": "code",
   "execution_count": 20,
   "metadata": {},
   "outputs": [
    {
     "name": "stdout",
     "output_type": "stream",
     "text": [
      "[1, 2, 3, 2, 4]\n"
     ]
    }
   ],
   "source": [
    "a = [1,2,3]\n",
    "b = [2,4]\n",
    "c = a+b\n",
    "print(c)"
   ]
  },
  {
   "cell_type": "code",
   "execution_count": null,
   "metadata": {},
   "outputs": [],
   "source": [
    "a = [1,2,3]\n",
    "a."
   ]
  },
  {
   "cell_type": "code",
   "execution_count": 22,
   "metadata": {},
   "outputs": [
    {
     "name": "stdout",
     "output_type": "stream",
     "text": [
      "[[12, 3], [1, 3], [1, 2, 3]]\n"
     ]
    }
   ],
   "source": [
    "a = [1,2,3]\n",
    "b = [[12,3],[1,3]]\n",
    "if a not in b:\n",
    "    b.append(a)\n",
    "print(b)"
   ]
  },
  {
   "cell_type": "code",
   "execution_count": 1,
   "metadata": {},
   "outputs": [
    {
     "data": {
      "text/plain": [
       "2"
      ]
     },
     "execution_count": 1,
     "metadata": {},
     "output_type": "execute_result"
    }
   ],
   "source": [
    "a = [1,2,3,4,5,6]\n",
    "b = a.index(3)\n",
    "b"
   ]
  },
  {
   "cell_type": "code",
   "execution_count": 6,
   "metadata": {},
   "outputs": [
    {
     "data": {
      "image/png": "[encoded data removed]",
      "text/plain": [
       "<Figure size 432x288 with 1 Axes>"
      ]
     },
     "metadata": {
      "needs_background": "light"
     },
     "output_type": "display_data"
    }
   ],
   "source": [
    "# 导入包\n",
    "import numpy as np\n",
    "import pandas as pd\n",
    "import matplotlib.pyplot as plt\n",
    "import seaborn as sns\n",
    "\n",
    "import warnings\n",
    "warnings.filterwarnings('ignore')\n",
    "\n",
    "# 为了在jupyter notebook内嵌网页中显示图形，可打开以下开关\n",
    "# 如果没有打开开关，每次图形显示时要使用函数：plt.show()\n",
    "%matplotlib inline\n",
    "\n",
    "#解决中文显示问题\n",
    "plt.rcParams['font.sans-serif']=['SimHei']\n",
    "plt.rcParams['axes.unicode_minus'] = False\n",
    "\n",
    "x =  [1,2,3,4,5]\n",
    "y_1 = [78.72,79.26,80.16,80.16,80.16]\n",
    "y_2 = [79.48,79.88,80.16,80.16,80.24]\n",
    "y_3 = [80.24,80.8,80.8,80.88,81.00]\n",
    "\n",
    "plt.figure(figsize=(6, 4))# 新建一个图像，设置图像大小\n",
    "plt.plot(x, y_1, 'ro-', label='seed_num=1')# 设置颜色、标记符号、线型、图例标签\n",
    "plt.plot(x, y_2, 'bo-', label='seed_num_2')# 设置颜色、标记符号、线型、图例标签\n",
    "plt.plot(x, y_3, 'go-', label='seed_num_3')# 设置颜色、标记符号、线型、图例标签\n",
    "\n",
    "plt.title('seed_num 与 top 10 avg_val_acc关系', fontsize=15)# 标题\n",
    "plt.xlim(0, 6)# x轴范围\n",
    "plt.ylim(78.5, 81.2)# y轴范围\n",
    "plt.xlabel(\"epoch\", fontsize=15)# x轴标签\n",
    "plt.ylabel('avg_val_accuracy', fontsize=15)# y轴标签\n",
    "plt.legend(loc='best')# 图例\n",
    "plt.show()"
   ]
  },
  {
   "cell_type": "code",
   "execution_count": 11,
   "metadata": {},
   "outputs": [
    {
     "name": "stdout",
     "output_type": "stream",
     "text": [
      "ture\n"
     ]
    }
   ],
   "source": [
    "i = 3\n",
    "if (i+1)%2==0:\n",
    "    print(\"ture\")\n",
    "else:\n",
    "    print(\"false\")"
   ]
  },
  {
   "cell_type": "code",
   "execution_count": null,
   "metadata": {},
   "outputs": [],
   "source": []
  }
 ],
 "metadata": {
  "kernelspec": {
   "display_name": "Python 3",
   "language": "python",
   "name": "python3"
  },
  "language_info": {
   "codemirror_mode": {
    "name": "ipython",
    "version": 3
   },
   "file_extension": ".py",
   "mimetype": "text/x-python",
   "name": "python",
   "nbconvert_exporter": "python",
   "pygments_lexer": "ipython3",
   "version": "3.7.6"
  }
 },
 "nbformat": 4,
 "nbformat_minor": 4
}
