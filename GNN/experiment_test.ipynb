{
 "cells": [
  {
   "cell_type": "code",
   "execution_count": 3,
   "metadata": {},
   "outputs": [
    {
     "name": "stdout",
     "output_type": "stream",
     "text": [
      "3\n"
     ]
    },
    {
     "data": {
      "text/plain": [
       "<__main__.B at 0x7f614df88a30>"
      ]
     },
     "execution_count": 3,
     "metadata": {},
     "output_type": "execute_result"
    }
   ],
   "source": [
    "class A:\n",
    "    def add(self,x):\n",
    "        y = x + 1\n",
    "        print(y)\n",
    "class B(A):\n",
    "    def add(self,x):\n",
    "        super().add(x)\n",
    "b = B()\n",
    "b.add(2)\n",
    "\n",
    "b"
   ]
  },
  {
   "cell_type": "code",
   "execution_count": 19,
   "metadata": {},
   "outputs": [
    {
     "name": "stdout",
     "output_type": "stream",
     "text": [
      "[0.05 0.1  0.15 0.05 0.2  0.1  0.25 0.1 ]\n"
     ]
    }
   ],
   "source": [
    "import math\n",
    "import numpy as np\n",
    "from collections import deque\n",
    "fitness = deque([1,2,3,1,4,2,5,2])\n",
    "fitness_v = np.array(fitness)\n",
    "probility_list = fitness_v/sum(fitness_v)\n",
    "print(probility_list)\n"
   ]
  },
  {
   "cell_type": "code",
   "execution_count": 24,
   "metadata": {},
   "outputs": [
    {
     "name": "stdout",
     "output_type": "stream",
     "text": [
      "cost time: 2.9939353466033936\n"
     ]
    }
   ],
   "source": [
    "import time\n",
    "start_time = time.time()\n",
    "for i in range(100000000):\n",
    "    i\n",
    "end_time =time.time()\n",
    "print(\"cost time:\",end_time - start_time)"
   ]
  },
  {
   "cell_type": "code",
   "execution_count": 25,
   "metadata": {},
   "outputs": [
    {
     "name": "stdout",
     "output_type": "stream",
     "text": [
      "('/home/jerry/local_git/notebook', '/home/jerry/local_git/notebook/GNN')\n"
     ]
    }
   ],
   "source": [
    "import os\n",
    "\n",
    "def path_get():\n",
    "    # 当前文件目录\n",
    "    current_path = os.path.abspath('')\n",
    "    # 当前文件夹父目录\n",
    "    father_path = os.path.abspath(os.path.dirname(current_path))\n",
    "    # corpus_path = os.path.join(father_path, corpus)\n",
    "    return father_path, current_path\n",
    "\n",
    "print(path_get())"
   ]
  },
  {
   "cell_type": "code",
   "execution_count": 43,
   "metadata": {},
   "outputs": [
    {
     "name": "stdout",
     "output_type": "stream",
     "text": [
      "['[1, 2, 3, 4, 5]\\n', '[1, 2, 3]']\n",
      "[1, 2, 3]\n",
      "<class 'list'>\n"
     ]
    }
   ],
   "source": [
    "import json\n",
    "a = [1,2,3,4,5]\n",
    "d = [1,2,3]\n",
    "current = path_get()[1]\n",
    "with open(current+\"/test_.txt\",'w') as f:\n",
    "#     for e in a:\n",
    "#         f.write(str(e)+\" \")\n",
    "    f.write(str(a))\n",
    "    f.write('\\n'+str(d))\n",
    "    \n",
    "with open(current+\"/test_.txt\",'r') as f:  \n",
    "    b = f.readlines()\n",
    "    print(b)\n",
    "    c = json.loads(b[1])\n",
    "    print(c)\n",
    "    print(type(c))"
   ]
  },
  {
   "cell_type": "code",
   "execution_count": 46,
   "metadata": {},
   "outputs": [
    {
     "name": "stdout",
     "output_type": "stream",
     "text": [
      "3\n"
     ]
    }
   ],
   "source": [
    "a = [1,2,3]\n",
    "b = [1,2,3]\n",
    "c = a+b\n",
    "print(c[-1])"
   ]
  },
  {
   "cell_type": "code",
   "execution_count": 2,
   "metadata": {},
   "outputs": [
    {
     "name": "stdout",
     "output_type": "stream",
     "text": [
      "deque([1, 2, 3])\n",
      "<class 'collections.deque'>\n",
      "1\n"
     ]
    }
   ],
   "source": [
    "from collections import deque\n",
    "a = [1,2,3]\n",
    "a = deque(a)\n",
    "print(a)\n",
    "print(type(a))\n",
    "print(a[0])"
   ]
  },
  {
   "cell_type": "code",
   "execution_count": 6,
   "metadata": {},
   "outputs": [
    {
     "data": {
      "image/png": "[encoded data removed]",
      "text/plain": [
       "<Figure size 432x288 with 1 Axes>"
      ]
     },
     "metadata": {
      "needs_background": "light"
     },
     "output_type": "display_data"
    }
   ],
   "source": [
    "import matplotlib.pyplot as plt\n",
    "import numpy as np\n",
    "\n",
    "def demo_test():\n",
    "    y=[0.15,0.16,0.14,0.17,0.12,0.16,0.1,0.08,0.05,0.07,0.06]\n",
    "    x=[0.1,0.2,0.3,0.4,0.5,0.6,0.7,0.8,0.9,1.0,1.1]\n",
    "    \n",
    "    y_max_index = y.index(max(y))\n",
    "    \n",
    "    plt.plot(x,y,'r-o')\n",
    "    show_max='['+str(x[y_max_index])+' '+str(y[y_max_index])+']'\n",
    "    plt.annotate(show_max,xytext=(x[y_max_index],y[y_max_index]),xy=(x[y_max_index],y[y_max_index]))\n",
    "    plt.show()\n",
    "\n",
    "\n",
    "\n",
    "if __name__==\"__main__\":\n",
    "    demo_test();"
   ]
  }
 ],
 "metadata": {
  "kernelspec": {
   "display_name": "Python 3",
   "language": "python",
   "name": "python3"
  },
  "language_info": {
   "codemirror_mode": {
    "name": "ipython",
    "version": 3
   },
   "file_extension": ".py",
   "mimetype": "text/x-python",
   "name": "python",
   "nbconvert_exporter": "python",
   "pygments_lexer": "ipython3",
   "version": "3.8.3"
  }
 },
 "nbformat": 4,
 "nbformat_minor": 4
}
