{
 "cells": [
  {
   "cell_type": "code",
   "execution_count": 2,
   "metadata": {},
   "outputs": [
    {
     "name": "stdout",
     "output_type": "stream",
     "text": [
      "word_to_ix:\n",
      " {'me': 0, 'gusta': 1, 'comer': 2, 'en': 3, 'la': 4, 'cafeteria': 5, 'Give': 6, 'it': 7, 'to': 8, 'No': 9, 'creo': 10, 'que': 11, 'sea.': 12, 'una': 13, 'buena': 14, 'idea': 15, 'is': 16, 'not': 17, 'a': 18, 'good': 19, 'get': 20, 'lost': 21, 'at': 22, 'sea': 23, 'Yo': 24, 'si': 25, 'on': 26}\n",
      "label_to_ix:\n",
      " {'SPANISH': 0, 'ENGLISH': 1}\n",
      "tensor([[-0.1512, -1.9637]], device='cuda:0', grad_fn=<LogSoftmaxBackward>)\n",
      "tensor([[-2.3918, -0.0959]], device='cuda:0', grad_fn=<LogSoftmaxBackward>)\n",
      "tensor([ 0.4763, -0.4550], device='cuda:0', grad_fn=<SelectBackward>)\n"
     ]
    }
   ],
   "source": [
    "import torch \n",
    "import torch.autograd as autograd\n",
    "import torch.nn as nn \n",
    "import torch.nn.functional as F\n",
    "import torch.optim as optim \n",
    "\n",
    "device = torch.device( 'cuda' if torch.cuda.is_available() else 'cpu')\n",
    "torch.manual_seed(1)\n",
    "\n",
    "data = [('me gusta comer en la cafeteria'.split(), 'SPANISH'),\n",
    "        ('Give it to me'.split(), 'ENGLISH'),\n",
    "        ('No creo que sea. una buena idea'.split(), 'SPANISH'),\n",
    "        ('No it is not a good idea to get lost at sea'.split(), 'ENGLISH')]\n",
    "\n",
    "test_data = [('Yo creo que si'.split(), 'SPANSIH'),\n",
    "             ('it is lost on me'.split(),'ENGLISH')]\n",
    "\n",
    "word_to_ix = {}\n",
    "for sent, _ in data + test_data:\n",
    "    for word in sent:\n",
    "        if word not in word_to_ix:\n",
    "            word_to_ix[word]  = len(word_to_ix)\n",
    "            \n",
    "label_to_ix = {\"SPANISH\": 0, \"ENGLISH\": 1}\n",
    "print('word_to_ix:\\n',word_to_ix)\n",
    "print('label_to_ix:\\n',label_to_ix)\n",
    "\n",
    "def make_bow_vector(sentence, word_to_ix):\n",
    "    vec = torch.zeros(len(word_to_ix))\n",
    "    for word in sentence:\n",
    "        vec[word_to_ix[word]] = 1\n",
    "    return vec.view(1,-1)\n",
    "        \n",
    "def make_target(label, label_to_ix):    \n",
    "    return torch.LongTensor([label_to_ix[label]])\n",
    "    \n",
    "class BoWClassfier(nn.Module):\n",
    "    \n",
    "    def __init__(self, input_size, output_size):\n",
    "        super(BoWClassfier, self).__init__()\n",
    "        self.input_size = input_size\n",
    "        self.output_size = output_size\n",
    "        self.fc = nn.Linear(self.input_size, self.output_size)\n",
    "\n",
    "    def forward(self, inputs):\n",
    "        outs = F.log_softmax(self.fc(inputs), dim=1)\n",
    "        return outs \n",
    "    \n",
    "input_size = len(word_to_ix) # vocab_size\n",
    "output_size = 2 # num_label\n",
    "\n",
    "model = BoWClassfier(input_size, output_size).to(device) \n",
    "loss_function = nn.NLLLoss()\n",
    "optimizer = optim.SGD(model.parameters(), lr=0.1)\n",
    "\n",
    "for epoch in range(100):\n",
    "    for instance, label in data:\n",
    "        model.zero_grad() \n",
    "        bow_vec = autograd.Variable(make_bow_vector(instance, word_to_ix)).to(device)\n",
    "        target = autograd.Variable(make_target(label, label_to_ix)).to(device)\n",
    "        log_probs = model(bow_vec)\n",
    "        loss = loss_function(log_probs, target)\n",
    "        loss.backward()\n",
    "        optimizer.step()\n",
    "\n",
    "for instance, label in test_data:\n",
    "    bow_vec = autograd.Variable(make_bow_vector(instance, word_to_ix))\n",
    "    log_probs = model(bow_vec.to(device))\n",
    "    print(log_probs)\n",
    "\n",
    "print(next(model.parameters())[:,word_to_ix['creo']])    "
   ]
  },
  {
   "cell_type": "code",
   "execution_count": null,
   "metadata": {},
   "outputs": [],
   "source": [
    "class BoWClassfier(nn.Module):\n",
    "    \n",
    "    def __init__(self, input_size, output_size):\n",
    "        super(BoWClassfier, self).__init__()\n",
    "        self.input_size = input_size\n",
    "        self.output_size = output_size\n",
    "        self.fc = nn.Linear(self.input_size, self.output_size)\n",
    "\n",
    "    def forward(self, inputs):\n",
    "        outs = F.log_softmax(self.fc(inputs), dim=1)\n",
    "        \n",
    "        return outs \n",
    "    \n",
    "input_size = len(word_to_ix)\n",
    "output_size = 2\n",
    "\n",
    "model = BoWClassfier(input_size, output_size).to(device) \n",
    "loss_function = nn.NLLLoss()\n",
    "optimizer = optim.SGD(model.parameters(), lr=0.1)\n",
    "\n",
    "for epoch in range(100):\n",
    "    for instance, label in data:\n",
    "        model.zero_grad() \n",
    "        bow_vec = autograd.Variable(make_bow_vector(instance, word_to_ix)).to(device)\n",
    "        target = autograd.Variable(make_target(label, label_to_ix)).to(device)\n",
    "        log_probs = model(bow_vec)\n",
    "        loss = loss_function(log_probs, target)\n",
    "        loss.backward()\n",
    "        optimizer.step()"
   ]
  },
  {
   "cell_type": "code",
   "execution_count": 4,
   "metadata": {},
   "outputs": [
    {
     "name": "stdout",
     "output_type": "stream",
     "text": [
      "tensor([[0.3828, 0.7442, 0.5285],\n",
      "        [0.6642, 0.6099, 0.6818],\n",
      "        [0.7479, 0.0369, 0.7517],\n",
      "        [0.1484, 0.1227, 0.5304],\n",
      "        [0.4148, 0.7937, 0.2104]])\n"
     ]
    }
   ],
   "source": [
    "y = torch.rand(5, 3)\n",
    "print(y)"
   ]
  },
  {
   "cell_type": "code",
   "execution_count": 5,
   "metadata": {},
   "outputs": [
    {
     "name": "stderr",
     "output_type": "stream",
     "text": [
      "2020-12-23 18:20:42,684\tINFO services.py:1169 -- View the Ray dashboard at \u001b[1m\u001b[32mhttp://127.0.0.1:8265\u001b[39m\u001b[22m\n"
     ]
    },
    {
     "data": {
      "text/plain": [
       "{'node_ip_address': '192.168.1.161',\n",
       " 'raylet_ip_address': '192.168.1.161',\n",
       " 'redis_address': '192.168.1.161:6379',\n",
       " 'object_store_address': '/tmp/ray/session_2020-12-23_18-20-42_126616_7535/sockets/plasma_store',\n",
       " 'raylet_socket_name': '/tmp/ray/session_2020-12-23_18-20-42_126616_7535/sockets/raylet',\n",
       " 'webui_url': '127.0.0.1:8265',\n",
       " 'session_dir': '/tmp/ray/session_2020-12-23_18-20-42_126616_7535',\n",
       " 'metrics_export_port': 50675,\n",
       " 'node_id': 'e637bd94865b6fd5a6df93b625f68895c17cea41b4121546106507bc'}"
      ]
     },
     "execution_count": 5,
     "metadata": {},
     "output_type": "execute_result"
    }
   ],
   "source": [
    "import ray\n",
    "ray.init()"
   ]
  },
  {
   "cell_type": "code",
   "execution_count": 24,
   "metadata": {},
   "outputs": [
    {
     "name": "stderr",
     "output_type": "stream",
     "text": [
      "2020-12-24 09:26:50,996\tINFO services.py:1169 -- View the Ray dashboard at \u001b[1m\u001b[32mhttp://127.0.0.1:8265\u001b[39m\u001b[22m\n"
     ]
    },
    {
     "name": "stdout",
     "output_type": "stream",
     "text": [
      "Start : Thu Dec 24 09:26:51 2020\n"
     ]
    },
    {
     "name": "stderr",
     "output_type": "stream",
     "text": [
      "\u001b[2m\u001b[33m(pid=raylet)\u001b[0m E1224 09:26:51.501226182    8714 http_proxy.cc:78]           'https' scheme not supported in proxy URI\n",
      "\u001b[2m\u001b[33m(pid=raylet)\u001b[0m E1224 09:26:51.501226182    8714 http_proxy.cc:78]           'https' scheme not supported in proxy URI\n",
      "\u001b[2m\u001b[33m(pid=raylet)\u001b[0m E1224 09:26:51.501226182    8714 http_proxy.cc:78]           'https' scheme not supported in proxy URI\n",
      "\u001b[2m\u001b[33m(pid=raylet)\u001b[0m E1224 09:26:51.501226182    8714 http_proxy.cc:78]           'https' scheme not supported in proxy URI\n",
      "\u001b[2m\u001b[33m(pid=raylet)\u001b[0m E1224 09:26:51.501226182    8714 http_proxy.cc:78]           'https' scheme not supported in proxy URI\n",
      "\u001b[2m\u001b[33m(pid=raylet)\u001b[0m E1224 09:26:51.501226182    8714 http_proxy.cc:78]           'https' scheme not supported in proxy URI\n",
      "\u001b[2m\u001b[33m(pid=raylet)\u001b[0m E1224 09:26:51.501226182    8714 http_proxy.cc:78]           'https' scheme not supported in proxy URI\n",
      "\u001b[2m\u001b[33m(pid=raylet)\u001b[0m E1224 09:26:51.501226182    8714 http_proxy.cc:78]           'https' scheme not supported in proxy URI\n",
      "\u001b[2m\u001b[33m(pid=raylet)\u001b[0m E1224 09:26:51.501226182    8714 http_proxy.cc:78]           'https' scheme not supported in proxy URI\n",
      "\u001b[2m\u001b[33m(pid=raylet)\u001b[0m E1224 09:26:51.501226182    8714 http_proxy.cc:78]           'https' scheme not supported in proxy URI\n"
     ]
    },
    {
     "name": "stdout",
     "output_type": "stream",
     "text": [
      "\u001b[2m\u001b[36m(pid=8735)\u001b[0m print A run over\n",
      "\u001b[2m\u001b[36m(pid=8735)\u001b[0m print A run over\n",
      "\u001b[2m\u001b[36m(pid=8735)\u001b[0m print A run over\n",
      "\u001b[2m\u001b[36m(pid=8735)\u001b[0m print A run over\n",
      "\u001b[2m\u001b[36m(pid=8735)\u001b[0m print A run over\n",
      "\u001b[2m\u001b[36m(pid=8735)\u001b[0m print A run over\n",
      "\u001b[2m\u001b[36m(pid=8735)\u001b[0m print A run over\n",
      "\u001b[2m\u001b[36m(pid=8735)\u001b[0m print A run over\n",
      "\u001b[2m\u001b[36m(pid=8735)\u001b[0m print A run over\n",
      "\u001b[2m\u001b[36m(pid=8735)\u001b[0m print A run over\n",
      "End : Thu Dec 24 09:27:11 2020\n",
      "\u001b[2m\u001b[36m(pid=8724)\u001b[0m print B run over\n",
      "\u001b[2m\u001b[36m(pid=8724)\u001b[0m print B run over\n",
      "\u001b[2m\u001b[36m(pid=8724)\u001b[0m print B run over\n",
      "\u001b[2m\u001b[36m(pid=8724)\u001b[0m print B run over\n",
      "\u001b[2m\u001b[36m(pid=8724)\u001b[0m print B run over\n",
      "\u001b[2m\u001b[36m(pid=8724)\u001b[0m print B run over\n",
      "\u001b[2m\u001b[36m(pid=8724)\u001b[0m print B run over\n",
      "\u001b[2m\u001b[36m(pid=8724)\u001b[0m print B run over\n",
      "\u001b[2m\u001b[36m(pid=8724)\u001b[0m print B run over\n",
      "\u001b[2m\u001b[36m(pid=8724)\u001b[0m print B run over\n"
     ]
    }
   ],
   "source": [
    "import time\n",
    "import ray\n",
    "ray.shutdown()\n",
    "ray.init()\n",
    "\n",
    "@ray.remote\n",
    "def A():\n",
    "    time.sleep(10)\n",
    "    print(\"print A run over\")\n",
    "\n",
    "@ray.remote\n",
    "def B():\n",
    "    time.sleep(20)\n",
    "    print(\"print B run over\")\n",
    "\n",
    "task_A = A.remote()\n",
    "task_B = B.remote()\n",
    "task_list = [task_A,task_B]\n",
    "print (\"Start : %s\" % time.ctime())\n",
    "get_result = ray.get(task_list)\n",
    "print (\"End : %s\" % time.ctime())"
   ]
  },
  {
   "cell_type": "code",
   "execution_count": null,
   "metadata": {},
   "outputs": [],
   "source": []
  },
  {
   "cell_type": "code",
   "execution_count": 1,
   "metadata": {},
   "outputs": [
    {
     "name": "stderr",
     "output_type": "stream",
     "text": [
      "2021-01-27 13:00:56,137\tINFO services.py:1169 -- View the Ray dashboard at \u001b[1m\u001b[32mhttp://127.0.0.1:8266\u001b[39m\u001b[22m\n"
     ]
    },
    {
     "name": "stdout",
     "output_type": "stream",
     "text": [
      "task1_return: 9 5\n",
      "task2_return: 8 5\n",
      "\u001b[2m\u001b[36m(pid=1334)\u001b[0m the input number: 9\n",
      "\u001b[2m\u001b[36m(pid=1339)\u001b[0m the input number: 10\n"
     ]
    }
   ],
   "source": [
    "import time \n",
    "import ray\n",
    "#关闭ray，不关闭直接初始化ray可能会报错\n",
    "ray.shutdown()\n",
    "#初始化ray\n",
    "ray.init()\n",
    "\n",
    "@ray.remote(num_returns=2)\n",
    "def ParallelFunction(num):\n",
    "    time.sleep(5)\n",
    "    print(\"the input number:\",num)\n",
    "    return num - 1, 5\n",
    "\n",
    "r1,r2 = ParallelFunction.remote(10)\n",
    "r3,r4 = ParallelFunction.remote(9)\n",
    "\n",
    "task_list = [r1,r2,r3,r4]\n",
    "\n",
    "r1,r2,r3,r4 = ray.get(task_list)\n",
    "\n",
    "print(\"task1_return:\",r1,r2)\n",
    "print(\"task2_return:\",r3,r4)"
   ]
  }
 ],
 "metadata": {
  "kernelspec": {
   "display_name": "Python 3",
   "language": "python",
   "name": "python3"
  },
  "language_info": {
   "codemirror_mode": {
    "name": "ipython",
    "version": 3
   },
   "file_extension": ".py",
   "mimetype": "text/x-python",
   "name": "python",
   "nbconvert_exporter": "python",
   "pygments_lexer": "ipython3",
   "version": "3.8.3"
  }
 },
 "nbformat": 4,
 "nbformat_minor": 4
}
