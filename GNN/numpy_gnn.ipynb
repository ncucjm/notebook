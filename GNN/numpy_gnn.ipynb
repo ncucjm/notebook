{
 "cells": [
  {
   "cell_type": "code",
   "execution_count": 1,
   "metadata": {},
   "outputs": [],
   "source": [
    "import numpy\n",
    "L = numpy.array([[2,-1,0,0,-1,0],\n",
    "                 [-1,3,-1,0,-1,0],\n",
    "                 [0,-1,2,-1,0,0],\n",
    "                 [0,0,-1,3,-1,-1],\n",
    "                 [-1,-1,0,-1,3,0],\n",
    "                 [0,0,0,-1,0,1]])"
   ]
  },
  {
   "cell_type": "code",
   "execution_count": 2,
   "metadata": {},
   "outputs": [
    {
     "data": {
      "text/plain": [
       "array([[ 2, -1,  0,  0, -1,  0],\n",
       "       [-1,  3, -1,  0, -1,  0],\n",
       "       [ 0, -1,  2, -1,  0,  0],\n",
       "       [ 0,  0, -1,  3, -1, -1],\n",
       "       [-1, -1,  0, -1,  3,  0],\n",
       "       [ 0,  0,  0, -1,  0,  1]])"
      ]
     },
     "execution_count": 2,
     "metadata": {},
     "output_type": "execute_result"
    }
   ],
   "source": [
    "L"
   ]
  },
  {
   "cell_type": "code",
   "execution_count": 7,
   "metadata": {},
   "outputs": [],
   "source": [
    "from numpy.linalg import eig as eigenValuesAndVectors\n",
    "solution = eigenValuesAndVectors(L)"
   ]
  },
  {
   "cell_type": "code",
   "execution_count": 8,
   "metadata": {},
   "outputs": [],
   "source": [
    "eigenValues = solution[0]"
   ]
  },
  {
   "cell_type": "code",
   "execution_count": 9,
   "metadata": {},
   "outputs": [
    {
     "data": {
      "text/plain": [
       "array([3.33066907e-16, 7.21586391e-01, 1.68256939e+00, 3.00000000e+00,\n",
       "       3.70462437e+00, 4.89121985e+00])"
      ]
     },
     "execution_count": 9,
     "metadata": {},
     "output_type": "execute_result"
    }
   ],
   "source": [
    "eigenValues"
   ]
  },
  {
   "cell_type": "code",
   "execution_count": 11,
   "metadata": {},
   "outputs": [],
   "source": [
    "eigenVectors = solution[1]"
   ]
  },
  {
   "cell_type": "code",
   "execution_count": 12,
   "metadata": {},
   "outputs": [
    {
     "data": {
      "text/plain": [
       "array([[-0.40824829, -0.41486979, -0.50529469,  0.28867513, -0.56702343,\n",
       "        -0.03232265],\n",
       "       [-0.40824829, -0.30944167,  0.04026854,  0.28867513,  0.65812747,\n",
       "        -0.46850031],\n",
       "       [-0.40824829, -0.0692328 ,  0.75901025,  0.28867513, -0.20514371,\n",
       "         0.35640753],\n",
       "       [-0.40824829,  0.22093352,  0.20066454, -0.57735027, -0.30843449,\n",
       "        -0.56195221],\n",
       "       [-0.40824829, -0.22093352, -0.20066454, -0.57735027,  0.30843449,\n",
       "         0.56195221],\n",
       "       [-0.40824829,  0.79354426, -0.29398409,  0.28867513,  0.11403968,\n",
       "         0.14441544]])"
      ]
     },
     "execution_count": 12,
     "metadata": {},
     "output_type": "execute_result"
    }
   ],
   "source": [
    "eigenVectors"
   ]
  },
  {
   "cell_type": "code",
   "execution_count": 3,
   "metadata": {},
   "outputs": [],
   "source": [
    "a = numpy.array([[0,1,0,0,1,0],\n",
    "                [1,0,1,0,1,0],\n",
    "                [0,1,0,1,0,0],\n",
    "                [0,0,1,0,1,1],\n",
    "                [1,1,0,1,0,0],\n",
    "                [0,0,0,1,0,0]])"
   ]
  },
  {
   "cell_type": "code",
   "execution_count": 4,
   "metadata": {},
   "outputs": [
    {
     "data": {
      "text/plain": [
       "array([[0, 1, 0, 0, 1, 0],\n",
       "       [1, 0, 1, 0, 1, 0],\n",
       "       [0, 1, 0, 1, 0, 0],\n",
       "       [0, 0, 1, 0, 1, 1],\n",
       "       [1, 1, 0, 1, 0, 0],\n",
       "       [0, 0, 0, 1, 0, 0]])"
      ]
     },
     "execution_count": 4,
     "metadata": {},
     "output_type": "execute_result"
    }
   ],
   "source": [
    "a"
   ]
  },
  {
   "cell_type": "code",
   "execution_count": 12,
   "metadata": {},
   "outputs": [
    {
     "data": {
      "text/plain": [
       "array([[1, 0, 0, 0, 0, 0],\n",
       "       [0, 1, 0, 0, 0, 0],\n",
       "       [0, 0, 1, 0, 0, 0],\n",
       "       [0, 0, 0, 1, 0, 0],\n",
       "       [0, 0, 0, 0, 1, 0],\n",
       "       [0, 0, 0, 0, 0, 1]])"
      ]
     },
     "execution_count": 12,
     "metadata": {},
     "output_type": "execute_result"
    }
   ],
   "source": [
    "I = numpy.eye(6,dtype=int)\n",
    "I"
   ]
  },
  {
   "cell_type": "code",
   "execution_count": 13,
   "metadata": {},
   "outputs": [
    {
     "data": {
      "text/plain": [
       "array([[1, 1, 0, 0, 1, 0],\n",
       "       [1, 1, 1, 0, 1, 0],\n",
       "       [0, 1, 1, 1, 0, 0],\n",
       "       [0, 0, 1, 1, 1, 1],\n",
       "       [1, 1, 0, 1, 1, 0],\n",
       "       [0, 0, 0, 1, 0, 1]])"
      ]
     },
     "execution_count": 13,
     "metadata": {},
     "output_type": "execute_result"
    }
   ],
   "source": [
    "aa = a + I\n",
    "aa"
   ]
  },
  {
   "cell_type": "code",
   "execution_count": 25,
   "metadata": {},
   "outputs": [
    {
     "data": {
      "text/plain": [
       "array([[3, 3, 1, 1, 3, 0],\n",
       "       [3, 4, 2, 2, 3, 0],\n",
       "       [1, 2, 3, 2, 2, 1],\n",
       "       [1, 2, 2, 4, 2, 2],\n",
       "       [3, 3, 2, 2, 4, 1],\n",
       "       [0, 0, 1, 2, 1, 2]])"
      ]
     },
     "execution_count": 25,
     "metadata": {},
     "output_type": "execute_result"
    }
   ],
   "source": [
    "a22 = aa.dot(aa)\n",
    "a22"
   ]
  },
  {
   "cell_type": "code",
   "execution_count": 27,
   "metadata": {},
   "outputs": [
    {
     "data": {
      "text/plain": [
       "array([[2, 1, 1, 1, 1, 0],\n",
       "       [1, 3, 0, 2, 1, 0],\n",
       "       [1, 0, 2, 0, 2, 1],\n",
       "       [1, 2, 0, 3, 0, 0],\n",
       "       [1, 1, 2, 0, 3, 1],\n",
       "       [0, 0, 1, 0, 1, 1]])"
      ]
     },
     "execution_count": 27,
     "metadata": {},
     "output_type": "execute_result"
    }
   ],
   "source": [
    "a2 = a.dot(a)\n",
    "a2"
   ]
  },
  {
   "cell_type": "code",
   "execution_count": 28,
   "metadata": {},
   "outputs": [
    {
     "data": {
      "text/plain": [
       "array([[2, 4, 2, 2, 4, 1],\n",
       "       [4, 2, 5, 1, 6, 2],\n",
       "       [2, 5, 0, 5, 1, 0],\n",
       "       [2, 1, 5, 0, 6, 3],\n",
       "       [4, 6, 1, 6, 2, 0],\n",
       "       [1, 2, 0, 3, 0, 0]])"
      ]
     },
     "execution_count": 28,
     "metadata": {},
     "output_type": "execute_result"
    }
   ],
   "source": [
    "a3 = a2.dot(a)\n",
    "a3"
   ]
  },
  {
   "cell_type": "code",
   "execution_count": 26,
   "metadata": {},
   "outputs": [
    {
     "data": {
      "text/plain": [
       "array([[0, 1, 0, 0, 1, 0],\n",
       "       [1, 0, 1, 0, 1, 0],\n",
       "       [0, 1, 0, 1, 0, 0],\n",
       "       [0, 0, 1, 0, 1, 1],\n",
       "       [1, 1, 0, 1, 0, 0],\n",
       "       [0, 0, 0, 1, 0, 0]])"
      ]
     },
     "execution_count": 26,
     "metadata": {},
     "output_type": "execute_result"
    }
   ],
   "source": [
    "ab"
   ]
  },
  {
   "cell_type": "code",
   "execution_count": 6,
   "metadata": {},
   "outputs": [],
   "source": [
    "b = numpy.array([[0.33,0.29,0,0,0.29,0],\n",
    "                [0.29,0.25,0.29,0,0.25,0],\n",
    "                [0,0.29,0.33,0.29,0,0],\n",
    "                [0,0,0.29,0.25,0.25,0.35],\n",
    "                [0.29,0.25,0,0.25,0.25,0],\n",
    "                [0,0,0,0.35,0,0.5]])"
   ]
  },
  {
   "cell_type": "code",
   "execution_count": 7,
   "metadata": {},
   "outputs": [
    {
     "name": "stdout",
     "output_type": "stream",
     "text": [
      "b:\n",
      " [[0.33 0.29 0.   0.   0.29 0.  ]\n",
      " [0.29 0.25 0.29 0.   0.25 0.  ]\n",
      " [0.   0.29 0.33 0.29 0.   0.  ]\n",
      " [0.   0.   0.29 0.25 0.25 0.35]\n",
      " [0.29 0.25 0.   0.25 0.25 0.  ]\n",
      " [0.   0.   0.   0.35 0.   0.5 ]]\n",
      "b2:\n",
      " [[0.2771 0.2407 0.0841 0.0725 0.2407 0.    ]\n",
      " [0.2407 0.2932 0.1682 0.1466 0.2091 0.    ]\n",
      " [0.0841 0.1682 0.2771 0.1682 0.145  0.1015]\n",
      " [0.0725 0.1466 0.1682 0.3316 0.125  0.2625]\n",
      " [0.2407 0.2091 0.145  0.125  0.2716 0.0875]\n",
      " [0.     0.     0.1015 0.2625 0.0875 0.3725]]\n"
     ]
    }
   ],
   "source": [
    "b2 = b.dot(b)\n",
    "print('b:\\n',b)\n",
    "print('b2:\\n',b2)"
   ]
  },
  {
   "cell_type": "code",
   "execution_count": 33,
   "metadata": {},
   "outputs": [],
   "source": [
    "A = numpy.array([[1,2],[3,4]])"
   ]
  },
  {
   "cell_type": "code",
   "execution_count": 35,
   "metadata": {},
   "outputs": [
    {
     "data": {
      "text/plain": [
       "array([[ 7, 10],\n",
       "       [15, 22]])"
      ]
     },
     "execution_count": 35,
     "metadata": {},
     "output_type": "execute_result"
    }
   ],
   "source": [
    "B = A.dot(A)\n",
    "B"
   ]
  },
  {
   "cell_type": "code",
   "execution_count": 37,
   "metadata": {},
   "outputs": [
    {
     "data": {
      "text/plain": [
       "array([[ 1,  4],\n",
       "       [ 9, 16]])"
      ]
     },
     "execution_count": 37,
     "metadata": {},
     "output_type": "execute_result"
    }
   ],
   "source": [
    "C = A*A\n",
    "C"
   ]
  },
  {
   "cell_type": "code",
   "execution_count": 38,
   "metadata": {},
   "outputs": [
    {
     "data": {
      "text/plain": [
       "array([[ 6, 18, 12],\n",
       "       [-3, -9, -6],\n",
       "       [ 6, 18, 12]])"
      ]
     },
     "execution_count": 38,
     "metadata": {},
     "output_type": "execute_result"
    }
   ],
   "source": [
    "D = numpy.array([[2,6,4],\n",
    "                 [-1,-3,-2],\n",
    "                 [2,6,4]])\n",
    "D2 = D.dot(D)\n",
    "D2"
   ]
  },
  {
   "cell_type": "code",
   "execution_count": 1,
   "metadata": {},
   "outputs": [],
   "source": [
    "search_space = {\n",
    "                \"attention_type\": [\"gat\", \"gcn\", \"cos\", \"const\", \"gat_sym\", 'linear', 'generalized_linear'],\n",
    "                'aggregator_type': [\"sum\", \"mean\", \"max\", \"mlp\", ],\n",
    "                'activate_function': [\"sigmoid\", \"tanh\", \"relu\", \"linear\",\n",
    "                                      \"softplus\", \"leaky_relu\", \"relu6\", \"elu\"],\n",
    "                'number_of_heads': [1, 2, 4, 6, 8, 16],\n",
    "                'hidden_units': [4, 8, 16, 32, 64, 128, 256],\n",
    "            }"
   ]
  },
  {
   "cell_type": "code",
   "execution_count": 8,
   "metadata": {},
   "outputs": [
    {
     "name": "stdout",
     "output_type": "stream",
     "text": [
      "1\n"
     ]
    }
   ],
   "source": [
    "def action_index(action_name):\n",
    "        key_names = search_space.keys()\n",
    "        for i, key in enumerate(key_names):\n",
    "            if action_name == key:\n",
    "                return i\n",
    "value = action_index(\"aggregator_type\")\n",
    "print(value)"
   ]
  },
  {
   "cell_type": "code",
   "execution_count": 2,
   "metadata": {},
   "outputs": [
    {
     "name": "stdout",
     "output_type": "stream",
     "text": [
      "['attention_type', 'aggregator_type', 'activate_function', 'number_of_heads', 'hidden_units']\n"
     ]
    }
   ],
   "source": [
    "action_names = list(search_space.keys())\n",
    "print(action_names)"
   ]
  },
  {
   "cell_type": "code",
   "execution_count": 5,
   "metadata": {},
   "outputs": [],
   "source": [
    "action_list = 2*action_names"
   ]
  },
  {
   "cell_type": "code",
   "execution_count": 6,
   "metadata": {},
   "outputs": [
    {
     "name": "stdout",
     "output_type": "stream",
     "text": [
      "0 attention_type\n",
      "1 aggregator_type\n",
      "2 activate_function\n",
      "3 number_of_heads\n",
      "4 hidden_units\n",
      "5 attention_type\n",
      "6 aggregator_type\n",
      "7 activate_function\n",
      "8 number_of_heads\n",
      "9 hidden_units\n"
     ]
    }
   ],
   "source": [
    "for block_idx, action_name in enumerate(action_list):\n",
    "    print(block_idx,action_name)\n",
    "    "
   ]
  },
  {
   "cell_type": "code",
   "execution_count": 6,
   "metadata": {},
   "outputs": [
    {
     "data": {
      "text/plain": [
       "0.5"
      ]
     },
     "execution_count": 6,
     "metadata": {},
     "output_type": "execute_result"
    }
   ],
   "source": [
    "import numpy as np\n",
    "\n",
    "reward = 0.6\n",
    "a = np.clip(reward, -0.5, 0.5)\n",
    "a"
   ]
  },
  {
   "cell_type": "code",
   "execution_count": 11,
   "metadata": {},
   "outputs": [
    {
     "name": "stdout",
     "output_type": "stream",
     "text": [
      "[0.34, 0.32, 0.99]\n",
      "[1.65 1.31 0.99]\n"
     ]
    }
   ],
   "source": [
    "import scipy\n",
    "\n",
    "reward = [0.34,0.32,0.99]\n",
    "rewards = reward[::-1]\n",
    "f = scipy.signal.lfilter([1],[1,-1],reward[::-1],axis=0)[::-1]\n",
    "\n",
    "print(reward)\n",
    "print(f)"
   ]
  },
  {
   "cell_type": "code",
   "execution_count": 1,
   "metadata": {},
   "outputs": [
    {
     "ename": "ModuleNotFoundError",
     "evalue": "No module named 'numpy.core._multiarray_umath'",
     "output_type": "error",
     "traceback": [
      "\u001b[1;31m---------------------------------------------------------------------------\u001b[0m",
      "\u001b[1;31mModuleNotFoundError\u001b[0m                       Traceback (most recent call last)",
      "\u001b[1;32m<ipython-input-1-eb42ca6e4af3>\u001b[0m in \u001b[0;36m<module>\u001b[1;34m\u001b[0m\n\u001b[1;32m----> 1\u001b[1;33m \u001b[1;32mimport\u001b[0m \u001b[0mtorch\u001b[0m\u001b[1;33m\u001b[0m\u001b[1;33m\u001b[0m\u001b[0m\n\u001b[0m",
      "\u001b[1;32mD:\\anaconda3\\lib\\site-packages\\torch\\__init__.py\u001b[0m in \u001b[0;36m<module>\u001b[1;34m\u001b[0m\n\u001b[0;32m     77\u001b[0m \u001b[1;32mdel\u001b[0m \u001b[0m_dl_flags\u001b[0m\u001b[1;33m\u001b[0m\u001b[1;33m\u001b[0m\u001b[0m\n\u001b[0;32m     78\u001b[0m \u001b[1;33m\u001b[0m\u001b[0m\n\u001b[1;32m---> 79\u001b[1;33m \u001b[1;32mfrom\u001b[0m \u001b[0mtorch\u001b[0m\u001b[1;33m.\u001b[0m\u001b[0m_C\u001b[0m \u001b[1;32mimport\u001b[0m \u001b[1;33m*\u001b[0m\u001b[1;33m\u001b[0m\u001b[1;33m\u001b[0m\u001b[0m\n\u001b[0m\u001b[0;32m     80\u001b[0m \u001b[1;33m\u001b[0m\u001b[0m\n\u001b[0;32m     81\u001b[0m __all__ += [name for name in dir(_C)\n",
      "\u001b[1;31mModuleNotFoundError\u001b[0m: No module named 'numpy.core._multiarray_umath'"
     ]
    }
   ],
   "source": [
    "import torch"
   ]
  },
  {
   "cell_type": "code",
   "execution_count": 17,
   "metadata": {},
   "outputs": [],
   "source": [
    "score_0 = [0.56,0.282,0.572,0.169,0.394]\n",
    "score_4 = [0.634,0.595,0.723,0.646,0.675]\n",
    "score_9 = [0.653,0.734,0.698,0.727,0.733]"
   ]
  },
  {
   "cell_type": "code",
   "execution_count": 4,
   "metadata": {},
   "outputs": [
    {
     "data": {
      "text/plain": [
       "1.9770000000000003"
      ]
     },
     "execution_count": 4,
     "metadata": {},
     "output_type": "execute_result"
    }
   ],
   "source": [
    "sum_0 = sum(score_0)\n"
   ]
  },
  {
   "cell_type": "code",
   "execution_count": 10,
   "metadata": {},
   "outputs": [],
   "source": [
    "import numpy as np"
   ]
  },
  {
   "cell_type": "code",
   "execution_count": 20,
   "metadata": {},
   "outputs": [
    {
     "data": {
      "text/plain": [
       "0.709"
      ]
     },
     "execution_count": 20,
     "metadata": {},
     "output_type": "execute_result"
    }
   ],
   "source": [
    "mean_ = sum(score_9)/5\n",
    "mean_"
   ]
  },
  {
   "cell_type": "code",
   "execution_count": 21,
   "metadata": {},
   "outputs": [
    {
     "name": "stdout",
     "output_type": "stream",
     "text": [
      "0.03457600323924093\n"
     ]
    }
   ],
   "source": [
    "std_ = np.std(score_9,ddof=1)\n",
    "print(std_)"
   ]
  },
  {
   "cell_type": "code",
   "execution_count": 23,
   "metadata": {},
   "outputs": [
    {
     "name": "stdout",
     "output_type": "stream",
     "text": [
      "[0.6 0.7 0.8]\n"
     ]
    }
   ],
   "source": [
    "import numpy as np\n",
    "a = [0.5]\n",
    "b = [0.1,0.2,0.3]\n",
    "b_a = np.array(b)\n",
    "c =a + b_a\n",
    "print(c)"
   ]
  },
  {
   "cell_type": "code",
   "execution_count": 26,
   "metadata": {},
   "outputs": [
    {
     "name": "stdout",
     "output_type": "stream",
     "text": [
      "[[0.5, 0.6], [0.7, 0.8]]\n",
      "0.8\n"
     ]
    }
   ],
   "source": [
    "a=[[0.1,0.2],[0.3,0.4],[0.5,0.6],[0.7,0.8]]\n",
    "k = 2\n",
    "print(a[-k:])\n",
    "max_ = np.max(a[-k:])\n",
    "print(max_)"
   ]
  },
  {
   "cell_type": "code",
   "execution_count": 11,
   "metadata": {},
   "outputs": [
    {
     "data": {
      "text/plain": [
       "array([0.2, 0.2, 0.2, 0.2, 1.2])"
      ]
     },
     "execution_count": 11,
     "metadata": {},
     "output_type": "execute_result"
    }
   ],
   "source": [
    "import numpy as np\n",
    "\n",
    "a = np.array([0.2,0.2, 0.2,0.2,0.2])\n",
    "b = np.array([4,4,4,4,4])\n",
    "a[b] += 1\n",
    "a"
   ]
  }
 ],
 "metadata": {
  "kernelspec": {
   "display_name": "Python 3",
   "language": "python",
   "name": "python3"
  },
  "language_info": {
   "codemirror_mode": {
    "name": "ipython",
    "version": 3
   },
   "file_extension": ".py",
   "mimetype": "text/x-python",
   "name": "python",
   "nbconvert_exporter": "python",
   "pygments_lexer": "ipython3",
   "version": "3.7.6"
  }
 },
 "nbformat": 4,
 "nbformat_minor": 4
}
