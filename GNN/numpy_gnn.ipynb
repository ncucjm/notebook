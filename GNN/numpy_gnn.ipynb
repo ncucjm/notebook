{
 "cells": [
  {
   "cell_type": "code",
   "execution_count": 1,
   "metadata": {},
   "outputs": [],
   "source": [
    "import numpy\n",
    "L = numpy.array([[2,-1,0,0,-1,0],\n",
    "                 [-1,3,-1,0,-1,0],\n",
    "                 [0,-1,2,-1,0,0],\n",
    "                 [0,0,-1,3,-1,-1],\n",
    "                 [-1,-1,0,-1,3,0],\n",
    "                 [0,0,0,-1,0,1]])"
   ]
  },
  {
   "cell_type": "code",
   "execution_count": 2,
   "metadata": {},
   "outputs": [
    {
     "data": {
      "text/plain": [
       "array([[ 2, -1,  0,  0, -1,  0],\n",
       "       [-1,  3, -1,  0, -1,  0],\n",
       "       [ 0, -1,  2, -1,  0,  0],\n",
       "       [ 0,  0, -1,  3, -1, -1],\n",
       "       [-1, -1,  0, -1,  3,  0],\n",
       "       [ 0,  0,  0, -1,  0,  1]])"
      ]
     },
     "execution_count": 2,
     "metadata": {},
     "output_type": "execute_result"
    }
   ],
   "source": [
    "L"
   ]
  },
  {
   "cell_type": "code",
   "execution_count": 7,
   "metadata": {},
   "outputs": [],
   "source": [
    "from numpy.linalg import eig as eigenValuesAndVectors\n",
    "solution = eigenValuesAndVectors(L)"
   ]
  },
  {
   "cell_type": "code",
   "execution_count": 8,
   "metadata": {},
   "outputs": [],
   "source": [
    "eigenValues = solution[0]"
   ]
  },
  {
   "cell_type": "code",
   "execution_count": 9,
   "metadata": {},
   "outputs": [
    {
     "data": {
      "text/plain": [
       "array([3.33066907e-16, 7.21586391e-01, 1.68256939e+00, 3.00000000e+00,\n",
       "       3.70462437e+00, 4.89121985e+00])"
      ]
     },
     "execution_count": 9,
     "metadata": {},
     "output_type": "execute_result"
    }
   ],
   "source": [
    "eigenValues"
   ]
  },
  {
   "cell_type": "code",
   "execution_count": 11,
   "metadata": {},
   "outputs": [],
   "source": [
    "eigenVectors = solution[1]"
   ]
  },
  {
   "cell_type": "code",
   "execution_count": 12,
   "metadata": {},
   "outputs": [
    {
     "data": {
      "text/plain": [
       "array([[-0.40824829, -0.41486979, -0.50529469,  0.28867513, -0.56702343,\n",
       "        -0.03232265],\n",
       "       [-0.40824829, -0.30944167,  0.04026854,  0.28867513,  0.65812747,\n",
       "        -0.46850031],\n",
       "       [-0.40824829, -0.0692328 ,  0.75901025,  0.28867513, -0.20514371,\n",
       "         0.35640753],\n",
       "       [-0.40824829,  0.22093352,  0.20066454, -0.57735027, -0.30843449,\n",
       "        -0.56195221],\n",
       "       [-0.40824829, -0.22093352, -0.20066454, -0.57735027,  0.30843449,\n",
       "         0.56195221],\n",
       "       [-0.40824829,  0.79354426, -0.29398409,  0.28867513,  0.11403968,\n",
       "         0.14441544]])"
      ]
     },
     "execution_count": 12,
     "metadata": {},
     "output_type": "execute_result"
    }
   ],
   "source": [
    "eigenVectors"
   ]
  },
  {
   "cell_type": "code",
   "execution_count": 3,
   "metadata": {},
   "outputs": [],
   "source": [
    "a = numpy.array([[0,1,0,0,1,0],\n",
    "                [1,0,1,0,1,0],\n",
    "                [0,1,0,1,0,0],\n",
    "                [0,0,1,0,1,1],\n",
    "                [1,1,0,1,0,0],\n",
    "                [0,0,0,1,0,0]])"
   ]
  },
  {
   "cell_type": "code",
   "execution_count": 4,
   "metadata": {},
   "outputs": [
    {
     "data": {
      "text/plain": [
       "array([[0, 1, 0, 0, 1, 0],\n",
       "       [1, 0, 1, 0, 1, 0],\n",
       "       [0, 1, 0, 1, 0, 0],\n",
       "       [0, 0, 1, 0, 1, 1],\n",
       "       [1, 1, 0, 1, 0, 0],\n",
       "       [0, 0, 0, 1, 0, 0]])"
      ]
     },
     "execution_count": 4,
     "metadata": {},
     "output_type": "execute_result"
    }
   ],
   "source": [
    "a"
   ]
  },
  {
   "cell_type": "code",
   "execution_count": 12,
   "metadata": {},
   "outputs": [
    {
     "data": {
      "text/plain": [
       "array([[1, 0, 0, 0, 0, 0],\n",
       "       [0, 1, 0, 0, 0, 0],\n",
       "       [0, 0, 1, 0, 0, 0],\n",
       "       [0, 0, 0, 1, 0, 0],\n",
       "       [0, 0, 0, 0, 1, 0],\n",
       "       [0, 0, 0, 0, 0, 1]])"
      ]
     },
     "execution_count": 12,
     "metadata": {},
     "output_type": "execute_result"
    }
   ],
   "source": [
    "I = numpy.eye(6,dtype=int)\n",
    "I"
   ]
  },
  {
   "cell_type": "code",
   "execution_count": 13,
   "metadata": {},
   "outputs": [
    {
     "data": {
      "text/plain": [
       "array([[1, 1, 0, 0, 1, 0],\n",
       "       [1, 1, 1, 0, 1, 0],\n",
       "       [0, 1, 1, 1, 0, 0],\n",
       "       [0, 0, 1, 1, 1, 1],\n",
       "       [1, 1, 0, 1, 1, 0],\n",
       "       [0, 0, 0, 1, 0, 1]])"
      ]
     },
     "execution_count": 13,
     "metadata": {},
     "output_type": "execute_result"
    }
   ],
   "source": [
    "aa = a + I\n",
    "aa"
   ]
  },
  {
   "cell_type": "code",
   "execution_count": 25,
   "metadata": {},
   "outputs": [
    {
     "data": {
      "text/plain": [
       "array([[3, 3, 1, 1, 3, 0],\n",
       "       [3, 4, 2, 2, 3, 0],\n",
       "       [1, 2, 3, 2, 2, 1],\n",
       "       [1, 2, 2, 4, 2, 2],\n",
       "       [3, 3, 2, 2, 4, 1],\n",
       "       [0, 0, 1, 2, 1, 2]])"
      ]
     },
     "execution_count": 25,
     "metadata": {},
     "output_type": "execute_result"
    }
   ],
   "source": [
    "a22 = aa.dot(aa)\n",
    "a22"
   ]
  },
  {
   "cell_type": "code",
   "execution_count": 27,
   "metadata": {},
   "outputs": [
    {
     "data": {
      "text/plain": [
       "array([[2, 1, 1, 1, 1, 0],\n",
       "       [1, 3, 0, 2, 1, 0],\n",
       "       [1, 0, 2, 0, 2, 1],\n",
       "       [1, 2, 0, 3, 0, 0],\n",
       "       [1, 1, 2, 0, 3, 1],\n",
       "       [0, 0, 1, 0, 1, 1]])"
      ]
     },
     "execution_count": 27,
     "metadata": {},
     "output_type": "execute_result"
    }
   ],
   "source": [
    "a2 = a.dot(a)\n",
    "a2"
   ]
  },
  {
   "cell_type": "code",
   "execution_count": 28,
   "metadata": {},
   "outputs": [
    {
     "data": {
      "text/plain": [
       "array([[2, 4, 2, 2, 4, 1],\n",
       "       [4, 2, 5, 1, 6, 2],\n",
       "       [2, 5, 0, 5, 1, 0],\n",
       "       [2, 1, 5, 0, 6, 3],\n",
       "       [4, 6, 1, 6, 2, 0],\n",
       "       [1, 2, 0, 3, 0, 0]])"
      ]
     },
     "execution_count": 28,
     "metadata": {},
     "output_type": "execute_result"
    }
   ],
   "source": [
    "a3 = a2.dot(a)\n",
    "a3"
   ]
  },
  {
   "cell_type": "code",
   "execution_count": 26,
   "metadata": {},
   "outputs": [
    {
     "data": {
      "text/plain": [
       "array([[0, 1, 0, 0, 1, 0],\n",
       "       [1, 0, 1, 0, 1, 0],\n",
       "       [0, 1, 0, 1, 0, 0],\n",
       "       [0, 0, 1, 0, 1, 1],\n",
       "       [1, 1, 0, 1, 0, 0],\n",
       "       [0, 0, 0, 1, 0, 0]])"
      ]
     },
     "execution_count": 26,
     "metadata": {},
     "output_type": "execute_result"
    }
   ],
   "source": [
    "ab"
   ]
  },
  {
   "cell_type": "code",
   "execution_count": 6,
   "metadata": {},
   "outputs": [],
   "source": [
    "b = numpy.array([[0.33,0.29,0,0,0.29,0],\n",
    "                [0.29,0.25,0.29,0,0.25,0],\n",
    "                [0,0.29,0.33,0.29,0,0],\n",
    "                [0,0,0.29,0.25,0.25,0.35],\n",
    "                [0.29,0.25,0,0.25,0.25,0],\n",
    "                [0,0,0,0.35,0,0.5]])"
   ]
  },
  {
   "cell_type": "code",
   "execution_count": 7,
   "metadata": {},
   "outputs": [
    {
     "name": "stdout",
     "output_type": "stream",
     "text": [
      "b:\n",
      " [[0.33 0.29 0.   0.   0.29 0.  ]\n",
      " [0.29 0.25 0.29 0.   0.25 0.  ]\n",
      " [0.   0.29 0.33 0.29 0.   0.  ]\n",
      " [0.   0.   0.29 0.25 0.25 0.35]\n",
      " [0.29 0.25 0.   0.25 0.25 0.  ]\n",
      " [0.   0.   0.   0.35 0.   0.5 ]]\n",
      "b2:\n",
      " [[0.2771 0.2407 0.0841 0.0725 0.2407 0.    ]\n",
      " [0.2407 0.2932 0.1682 0.1466 0.2091 0.    ]\n",
      " [0.0841 0.1682 0.2771 0.1682 0.145  0.1015]\n",
      " [0.0725 0.1466 0.1682 0.3316 0.125  0.2625]\n",
      " [0.2407 0.2091 0.145  0.125  0.2716 0.0875]\n",
      " [0.     0.     0.1015 0.2625 0.0875 0.3725]]\n"
     ]
    }
   ],
   "source": [
    "b2 = b.dot(b)\n",
    "print('b:\\n',b)\n",
    "print('b2:\\n',b2)"
   ]
  },
  {
   "cell_type": "code",
   "execution_count": 33,
   "metadata": {},
   "outputs": [],
   "source": [
    "A = numpy.array([[1,2],[3,4]])"
   ]
  },
  {
   "cell_type": "code",
   "execution_count": 35,
   "metadata": {},
   "outputs": [
    {
     "data": {
      "text/plain": [
       "array([[ 7, 10],\n",
       "       [15, 22]])"
      ]
     },
     "execution_count": 35,
     "metadata": {},
     "output_type": "execute_result"
    }
   ],
   "source": [
    "B = A.dot(A)\n",
    "B"
   ]
  },
  {
   "cell_type": "code",
   "execution_count": 37,
   "metadata": {},
   "outputs": [
    {
     "data": {
      "text/plain": [
       "array([[ 1,  4],\n",
       "       [ 9, 16]])"
      ]
     },
     "execution_count": 37,
     "metadata": {},
     "output_type": "execute_result"
    }
   ],
   "source": [
    "C = A*A\n",
    "C"
   ]
  },
  {
   "cell_type": "code",
   "execution_count": 38,
   "metadata": {},
   "outputs": [
    {
     "data": {
      "text/plain": [
       "array([[ 6, 18, 12],\n",
       "       [-3, -9, -6],\n",
       "       [ 6, 18, 12]])"
      ]
     },
     "execution_count": 38,
     "metadata": {},
     "output_type": "execute_result"
    }
   ],
   "source": [
    "D = numpy.array([[2,6,4],\n",
    "                 [-1,-3,-2],\n",
    "                 [2,6,4]])\n",
    "D2 = D.dot(D)\n",
    "D2"
   ]
  }
 ],
 "metadata": {
  "kernelspec": {
   "display_name": "Python 3",
   "language": "python",
   "name": "python3"
  },
  "language_info": {
   "codemirror_mode": {
    "name": "ipython",
    "version": 3
   },
   "file_extension": ".py",
   "mimetype": "text/x-python",
   "name": "python",
   "nbconvert_exporter": "python",
   "pygments_lexer": "ipython3",
   "version": "3.7.6"
  }
 },
 "nbformat": 4,
 "nbformat_minor": 4
}
