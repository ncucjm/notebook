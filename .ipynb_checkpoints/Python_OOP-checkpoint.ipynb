{
 "cells": [
  {
   "cell_type": "markdown",
   "metadata": {},
   "source": [
    "# python面向对象"
   ]
  },
  {
   "cell_type": "markdown",
   "metadata": {},
   "source": [
    "## 类定义\n",
    "* 类（Class）：具有相同属性与方法定义的对象的集合，实例化一个类就得到了一个对象。\n",
    "\n",
    "![duixiang](data_structure/pic/duixiang.jpg)\n",
    "- - -\n",
    "     class Student:(类)\n",
    "        def __init__(self,name,age):\n",
    "            self.name = name\n",
    "            self.age = age\n",
    "     \n",
    "     student1 = Student('小红',10)(对象1)\n",
    "     student2 = Student('小明',11)(对象2)\n",
    "- - - \n",
    "*  类变量：类变量对于多有实例化的对象是公用的，定义在类中方法之外，一般不用做实例变量使用\n",
    "* 方法：类中定义的函数，第一个参数必须是self,且传参时self参数可不用传\n",
    "* 实例变量：定在方法中的变量，只能用于当前实例\n",
    "* 数据成员：包含(1)类变量(2)实例变量\n",
    "- - -\n",
    "    class A:\n",
    "        class_variable = 0（类变量）\n",
    "        def Method(self):\n",
    "            instance_variable = 0（实例变量）\n",
    "- - -\n",
    "* 继承：派生类（derived class）继承基类(base class)的属性与方法.\n",
    "* 方法重写：子类重写父类的方法，以满足子类的需求\n",
    "_ _ _\n",
    "    class Animal:\n",
    "        def Name(self):\n",
    "            print(\"没有名字\")\n",
    "    \n",
    "    class Dog(animal):\n",
    "        def Name(self):\n",
    "            print(\"小黄\")\n",
    "_ _ _\n",
    "\n",
    "* 实例化：创建一个类的实例，类的具体对象"
   ]
  },
  {
   "cell_type": "markdown",
   "metadata": {},
   "source": [
    "#### 类中的变量\n",
    "* 实例变量（定义在类方法中的变量）\n",
    "    * self.variable:实例单独所有，实例里的函数可以直接访问使用，作用域在整个实例类中，外部可访问\n",
    "    * variable:普通方法变量，作用域只在函数体内，外部不可以访问\n",
    "* 类变量在类函数中调用时，使用classname.variable访问"
   ]
  },
  {
   "cell_type": "code",
   "execution_count": 27,
   "metadata": {},
   "outputs": [
    {
     "name": "stdout",
     "output_type": "stream",
     "text": [
      "6\n",
      "80\n",
      "-94\n",
      "99\n",
      "100\n"
     ]
    }
   ],
   "source": [
    "class Student():\n",
    "    \n",
    "    good = 100#类变量，实例化以后每个是实例单独所有\n",
    "   \n",
    "    def __init__(self,name,age):\n",
    "        self.name = name\n",
    "        self.age = age\n",
    "    \n",
    "    def Score(self, grade, score):\n",
    "        self.grade = grade\n",
    "        score = score#函数变量，作用域在函数体内\n",
    "        self.abc = self.grade - Student.good#在类函数调用类变量要的用classname.variable\n",
    "        print(self.grade)\n",
    "        print(score) \n",
    "        print(self.abc)\n",
    "        \n",
    "    def family(self):\n",
    "        self.score = score - 10\n",
    "        print (self.score)\n",
    "        \n",
    "if __name__ == '__main__':\n",
    "    S = Student('Jerry', 10)\n",
    "    S.Score(6,80)\n",
    "    S.good = 99\n",
    "    print (S.good)\n",
    "    #S.family()#报错，name 'score' is not defined\n",
    "    #print(S.score)#报错， 'Student' object has no attribute 'score'\n",
    "    SS = Student('Jay', 12)\n",
    "    print (SS.good)\n",
    "    \n",
    "    \n",
    "    "
   ]
  },
  {
   "cell_type": "markdown",
   "metadata": {},
   "source": [
    "#### 类方法\n",
    "* 在python中.类方法 @classmethod 是一个函数修饰符，它表示接下来的是一个类方法，而对于平常我们见到的则叫做实例方法。\n",
    "* python中，类内部方法的调用在调用前加self."
   ]
  },
  {
   "cell_type": "code",
   "execution_count": 1,
   "metadata": {},
   "outputs": [
    {
     "name": "stdout",
     "output_type": "stream",
     "text": [
      "say I am method!\n",
      "say I am class_method!\n",
      "say I am method!\n",
      "say I am class_method!\n",
      "say I want to call method\n",
      "say I am method!\n"
     ]
    }
   ],
   "source": [
    "class info():\n",
    "    @classmethod\n",
    "    def class_method(cls):\n",
    "        print ('say I am class_method!')\n",
    "    \n",
    "    def method(self):\n",
    "        print ('say I am method!' )\n",
    "    \n",
    "    def method1(self):\n",
    "        print('say I want to call method')\n",
    "        self.method()#调用实例中的方法\n",
    "        \n",
    "if __name__ == '__main__':\n",
    "    a = info()\n",
    "    a.method()#实例调用实例方法\n",
    "    a.class_method()#实例调用类方法\n",
    "    info.method(a)#类调用实例方法，要把实例作为参数传入\n",
    "    info.class_method()#类调用类方法\n",
    "    a.method1()#类内部方法相互调用"
   ]
  },
  {
   "cell_type": "markdown",
   "metadata": {},
   "source": [
    "*  self代表**类的实例**，self在定义类的方法时必须作为**第一个参数**存在，调用时不必传入参数\n"
   ]
  },
  {
   "cell_type": "code",
   "execution_count": 43,
   "metadata": {},
   "outputs": [
    {
     "name": "stdout",
     "output_type": "stream",
     "text": [
      "<__main__.T object at 0x0000000005AE5A20>\n",
      "<class '__main__.T'>\n"
     ]
    }
   ],
   "source": [
    "class T:\n",
    "    def Printt(self):\n",
    "        print(self)\n",
    "        print(self.__class__)\n",
    "\n",
    "t = T()\n",
    "t.Printt()"
   ]
  },
  {
   "cell_type": "markdown",
   "metadata": {},
   "source": [
    "#### __init__(self)方法：\n",
    "* (1).init方法的第一参数永远是self，表示创建的类实例本身，因此，在init方法内部，就可以把各种属性绑定到self，因为self就指向创建的实例本身。\n",
    "* (2).有了init方法，在创建实例的时候，就不能传入空的参数了，必须传入与init方法匹配的参数，但self不需要传，Python解释器会自己把实例变量传进去"
   ]
  },
  {
   "cell_type": "code",
   "execution_count": 1,
   "metadata": {},
   "outputs": [
    {
     "name": "stdout",
     "output_type": "stream",
     "text": [
      "xiaoming\n",
      "10\n"
     ]
    }
   ],
   "source": [
    "class Student(object):\n",
    "    def __init__(self,name,score):\n",
    "        self.name = name\n",
    "        self.score = score\n",
    "if __name__ == '__main__':\n",
    "    student = Student('xiaoming', 10)\n",
    "    print (student.name)\n",
    "    print (student.score)"
   ]
  },
  {
   "cell_type": "markdown",
   "metadata": {},
   "source": [
    "* 这里self就是指类本身，self.name就是Student类的属性变量，是Student类所有。而name是外部传来的参数，不是Student类所自带的。故，self.name = name的意思就是把外部传来的参数name的值赋值给Student类自己的属性变量self.name\n",
    "* 和普通函数相比，在类中定义函数只有一点不同，就是第一参数永远是类的本身实例变量self，并且调用时，不用传递该参数。除此之外，类的方法(函数）和普通函数没啥区别，你既可以用默认参数、可变参数或者关键字参数\n",
    "* 既然Student类实例本身就拥有这些数据，那么要访问这些数据，就没必要从外面的函数去访问，而可以直接在Student类的内部定义访问数据的函数（方法），这样，就可以把”数据”封装起来。这些封装数据的函数是和Student类本身是关联起来的，称之为类的方法："
   ]
  },
  {
   "cell_type": "code",
   "execution_count": 5,
   "metadata": {},
   "outputs": [
    {
     "name": "stdout",
     "output_type": "stream",
     "text": [
      "High:99\n"
     ]
    }
   ],
   "source": [
    "class Student():\n",
    "    def __init__(self,name,score):\n",
    "        self.name = name\n",
    "        self.score = score\n",
    "    def print_score(self):\n",
    "        print(\"%s:%s\"%(self.name, self.score))\n",
    "\n",
    "if __name__ == '__main__':\n",
    "    student  =Student('High', 99)\n",
    "    student.print_score()"
   ]
  },
  {
   "cell_type": "markdown",
   "metadata": {},
   "source": [
    "* 我们从外部看Student类，就只需要知道，创建实例需要给出name和score。而如何打印，都是在Student类的内部定义的，这些数据和逻辑被封装起来了，调用很容易，但却不知道内部实现的细节。"
   ]
  },
  {
   "cell_type": "markdown",
   "metadata": {},
   "source": [
    "#### 访问属性的方法\n",
    "*  getattr(object,'name'):访问对象object的属性name，返回属性值\n",
    "*  hasattr(object,'name'):检查对象object是否存在name这个属性，返回True or False\n",
    "*  setattr(object,'name'):给对象object设置一个属性name，如国对象object没有name属性，则创建一个新的属性\n",
    "*  delattr(class,'name'):删除类class属性的属性，删除后所有实例化的对象中，将不存在此属性\n",
    "\n",
    "<left><font color = red size =2> **delattr不能对实例化后的object对象操作** </font><left>"
   ]
  },
  {
   "cell_type": "code",
   "execution_count": 198,
   "metadata": {
    "scrolled": false
   },
   "outputs": [
    {
     "name": "stdout",
     "output_type": "stream",
     "text": [
      "10\n",
      "11\n"
     ]
    }
   ],
   "source": [
    "class Student:\n",
    "    age = 10\n",
    "    \n",
    "s = Student()\n",
    "\n",
    "#getattr(s,'age')\n",
    "#hasattr(s,'age')\n",
    "setattr(s,'age',11)\n",
    "#delattr(Student,'age')\n",
    "print(Student.age)\n",
    "print(s.age)\n"
   ]
  },
  {
   "cell_type": "markdown",
   "metadata": {},
   "source": [
    "### python内置类属性\n",
    "* ClassName.__dict__:类的属性字典，包含类的所有信息\n",
    "* ClassName.__doc__:类中说明文档字符串\n",
    "* ClassName.__name__:类的名称\n",
    "* ClassName.__module__:类定义所在的模块\n",
    "* ClassName.__bases__:所有此子类的父类组成的元组"
   ]
  },
  {
   "cell_type": "code",
   "execution_count": 200,
   "metadata": {},
   "outputs": [
    {
     "name": "stdout",
     "output_type": "stream",
     "text": [
      "我是Employee的父类\n",
      "Employee.__doc__: 所有员工的基类\n",
      "Employee.__name__: Employee\n",
      "Employee.__module__: __main__\n",
      "Employee.__bases__: (<class '__main__.Em'>,)\n",
      "Employee.__dict__: {'__module__': '__main__', '__doc__': '所有员工的基类', 'empCount': 0, '__init__': <function Employee.__init__ at 0x00000000081DBC80>, 'displayCount': <function Employee.displayCount at 0x00000000081DBD90>, 'displayEmployee': <function Employee.displayEmployee at 0x00000000081DBF28>}\n"
     ]
    }
   ],
   "source": [
    "#!/usr/bin/python\n",
    "# -*- coding: UTF-8 -*-\n",
    "class Em:\n",
    "    print('我是Employee的父类')\n",
    "\n",
    "class Employee(Em):\n",
    "   '所有员工的基类'\n",
    "   empCount = 0\n",
    " \n",
    "   def __init__(name, salary):\n",
    "      self.name = name\n",
    "      self.salary = salary\n",
    "      Employee.empCount += 1\n",
    "   \n",
    "   def displayCount():\n",
    "     print (\"Total Employee %d\" % Employee.empCount)\n",
    " \n",
    "   def displayEmployee(self):\n",
    "      print (\"Name : \", self.name,  \", Salary: \", self.salary)\n",
    " \n",
    "print (\"Employee.__doc__:\", Employee.__doc__)\n",
    "print (\"Employee.__name__:\", Employee.__name__)\n",
    "print (\"Employee.__module__:\", Employee.__module__)\n",
    "print (\"Employee.__bases__:\", Employee.__bases__)\n",
    "print (\"Employee.__dict__:\", Employee.__dict__)"
   ]
  },
  {
   "cell_type": "markdown",
   "metadata": {},
   "source": [
    "#### 引用计数器与垃圾对象回收\n",
    "* python内部记录了所有正在使用的对象的引用数。\n",
    "* 引用计数器时内部的一个跟踪变量\n",
    "* 当一个对象被创建时，同时就创建了一个引用计数器变量，当这个对象不在需要时，这个对象的引用计数器变量就为0，这个对象就变成了垃圾对象，准备被回收。PS：回收过程不是‘立刻’，由解释器在适当的时机，将垃圾对象占用的内存空间释放\n",
    "___\n",
    "    a = 1 创建对象，同时自动创建引用计数器变量v，变量值为1\n",
    "    b = a 增加引用，v = 2\n",
    "    c = [b] 增加引用，v = 3\n",
    "\n",
    "    del a 减少引用，v = 2\n",
    "    b = 100 减少引用， v = 1\n",
    "    c[0] = -1 减少引用， v = 0，等待解释器释放内存\n",
    "___\n",
    "* 析构函数__del__:对象被销毁时调用"
   ]
  },
  {
   "cell_type": "code",
   "execution_count": 281,
   "metadata": {},
   "outputs": [
    {
     "name": "stdout",
     "output_type": "stream",
     "text": [
      "X 销毁\n",
      "129928272\n"
     ]
    }
   ],
   "source": [
    "class X:\n",
    "    a = 1\n",
    "    def __del__(self):\n",
    "        class_name = self.__class__.__name__\n",
    "        print (class_name,\"销毁\")\n",
    "\n",
    "x1 = X()\n",
    "print (id(x1))#id(object):返回对象内存地址"
   ]
  },
  {
   "cell_type": "markdown",
   "metadata": {},
   "source": [
    "#### 继承\n",
    "* 语法：class derivated_class_name(base_class_name):基类名称写在括号里\n",
    "* python总是先执行派生类中的方法，派生类中没有此方法，在去基类中执行此方法"
   ]
  },
  {
   "cell_type": "code",
   "execution_count": 283,
   "metadata": {},
   "outputs": [
    {
     "name": "stdout",
     "output_type": "stream",
     "text": [
      "调用子类构造方法\n",
      "调用子类方法\n",
      "调用父类方法\n",
      "父类属性: 10\n"
     ]
    }
   ],
   "source": [
    "class Parent:\n",
    "    parentAttr = 1\n",
    "    \n",
    "    def __init__(self):\n",
    "        print(\"调用父类构造方法\")\n",
    "    \n",
    "    def ParentMethod(self):\n",
    "        print(\"调用父类方法\")\n",
    "    \n",
    "    def setAttr(self, attr):\n",
    "        self.parentAttr = attr\n",
    "        \n",
    "    def getAttr(self):\n",
    "        print (\"父类属性:\",self.parentAttr)\n",
    "        \n",
    "class Child(Parent):\n",
    "    def __init__(self):\n",
    "        print(\"调用子类构造方法\")\n",
    "    \n",
    "    def ChildMethod(self):\n",
    "        print(\"调用子类方法\")\n",
    "        \n",
    "c = Child()\n",
    "c.ChildMethod()\n",
    "c.ParentMethod()\n",
    "c.setAttr(10)\n",
    "c.getAttr()"
   ]
  },
  {
   "cell_type": "markdown",
   "metadata": {},
   "source": [
    "* issubclass(class1,class2):判断类class1是另一个类class2的子类"
   ]
  },
  {
   "cell_type": "code",
   "execution_count": 348,
   "metadata": {},
   "outputs": [
    {
     "name": "stdout",
     "output_type": "stream",
     "text": [
      "False\n",
      "True\n"
     ]
    }
   ],
   "source": [
    "class P:\n",
    "    a = 1\n",
    "\n",
    "class C2(P):\n",
    "    c = 11\n",
    "\n",
    "class C1(C2):\n",
    "    b = 1\n",
    "\n",
    "print(isinstance(C1,P))\n",
    "print(issubclass(C2,P))"
   ]
  },
  {
   "cell_type": "markdown",
   "metadata": {},
   "source": [
    "* isinstance(obj,Class):如果object是Class类的实例对象或是Class子类实例对象返回true否则返回false"
   ]
  },
  {
   "cell_type": "code",
   "execution_count": 299,
   "metadata": {},
   "outputs": [
    {
     "data": {
      "text/plain": [
       "True"
      ]
     },
     "execution_count": 299,
     "metadata": {},
     "output_type": "execute_result"
    }
   ],
   "source": [
    "class A:\n",
    "    a = 1\n",
    "\n",
    "a = A()\n",
    "isinstance(a,A)"
   ]
  },
  {
   "cell_type": "markdown",
   "metadata": {},
   "source": [
    "#### 方法重写\n",
    "* 当父类中的方法无法满足子类的需求时，在子类重写父类的方法可以覆盖父类中相同的方法"
   ]
  },
  {
   "cell_type": "code",
   "execution_count": 354,
   "metadata": {},
   "outputs": [
    {
     "name": "stdout",
     "output_type": "stream",
     "text": [
      "子类中的hello方法\n"
     ]
    }
   ],
   "source": [
    "class P:\n",
    "    def hello(self):\n",
    "        print(\"父类中的hello方法\")\n",
    "        \n",
    "class C(P):\n",
    "    def hello(self):\n",
    "        print(\"子类中的hello方法\")\n",
    "c = C()\n",
    "c.hello()"
   ]
  },
  {
   "cell_type": "markdown",
   "metadata": {},
   "source": [
    "#### 类私有属性与方法\n",
    "* 类私有属性:两个下滑线开头，声明该属性为私有属性，不能在类的外部直接使用（.+属性名）访问，在类的内部使用时在前加self.\n",
    "* 类私有方法:两个下滑线开头，声明该方法为私有方法，不能在类的外部直接使用（.+方法名）调用，在类的内部调用时在前加self."
   ]
  },
  {
   "cell_type": "code",
   "execution_count": 366,
   "metadata": {},
   "outputs": [
    {
     "name": "stdout",
     "output_type": "stream",
     "text": [
      "1\n",
      "私有方法\n",
      "1\n",
      "100\n",
      "私有方法\n"
     ]
    }
   ],
   "source": [
    "class JustCounter:\n",
    "    __secretCount = 0  # 私有变量\n",
    "    publicCount = 0    # 公开变量\n",
    " \n",
    "    def count(self):\n",
    "        self.__secretCount += 1\n",
    "        self.publicCount += 1\n",
    "        print (self.__secretCount)\n",
    "        self.__private()\n",
    "        \n",
    "    def __private(self):\n",
    "        print(\"私有方法\")\n",
    " \n",
    "counter = JustCounter()\n",
    "counter.count()\n",
    "print(counter.publicCount) \n",
    "counter._JustCounter__secretCount = 100 # 在外部访问私有属性\n",
    "print (counter._JustCounter__secretCount)\n",
    "counter._JustCounter__private() #在外部调用私有方法"
   ]
  },
  {
   "cell_type": "markdown",
   "metadata": {},
   "source": [
    "* 在Python中，实例的变量名如果以开头，就变成了一个私有变量（private），只有内部可以访问，外部不能随意访问\n",
    "* 给Student类增加get_name\\get_score\\set_score这样的方法让外部的代码获取name与score，修改score"
   ]
  },
  {
   "cell_type": "code",
   "execution_count": 6,
   "metadata": {},
   "outputs": [
    {
     "name": "stdout",
     "output_type": "stream",
     "text": [
      "great\n",
      "10\n",
      "100\n"
     ]
    }
   ],
   "source": [
    "class Student(object):\n",
    "    def __init__(self, name, score):\n",
    "        self.__name = name \n",
    "        self.__score = score\n",
    "    \n",
    "    def get_name(self):\n",
    "        return self.__name\n",
    "    \n",
    "    def get_score(self):\n",
    "        return self.__score\n",
    "    \n",
    "    def set_score(self, score):\n",
    "        self.__score = score\n",
    "\n",
    "if __name__ == '__main__':\n",
    "    student =Student('great', 10)\n",
    "    print(student.get_name())\n",
    "    print(student.get_score())\n",
    "    student.set_score(100)\n",
    "    print(student.get_score())\n",
    "    "
   ]
  },
  {
   "cell_type": "markdown",
   "metadata": {},
   "source": [
    "* 需要注意的是，在Python中，变量名类似__xxx__的，也就是以双下划线开头，并且以双下划线结尾的，是特殊变量，特殊变量是可以直接访问的，不是private变量，所以，不能用__name__、__score__这样的变量名。"
   ]
  },
  {
   "cell_type": "markdown",
   "metadata": {},
   "source": [
    "#### 单下滑线、双下划线、头尾双下划线\n",
    "---\n",
    "    （1）__foo__ : 定义的是特殊方法，一般是系统定义名字，类似__init__()\n",
    "    （2）_foo:protected类型变量，保护类型变量只能允许其本身与子类进行访问\n",
    "    （3）__foo:私有变量\n",
    "---"
   ]
  }
 ],
 "metadata": {
  "kernelspec": {
   "display_name": "Python 3",
   "language": "python",
   "name": "python3"
  },
  "language_info": {
   "codemirror_mode": {
    "name": "ipython",
    "version": 3
   },
   "file_extension": ".py",
   "mimetype": "text/x-python",
   "name": "python",
   "nbconvert_exporter": "python",
   "pygments_lexer": "ipython3",
   "version": "3.8.3"
  }
 },
 "nbformat": 4,
 "nbformat_minor": 2
}
