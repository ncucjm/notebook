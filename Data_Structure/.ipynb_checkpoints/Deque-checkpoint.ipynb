{
 "cells": [
  {
   "cell_type": "markdown",
   "metadata": {},
   "source": [
    "### 双端队列\n",
    "#### 1.定义\n",
    "1. 有两个端（队首、队尾），添加的项在集合中的序保持不变,数据访问形式:LIFO;FIFO\n",
    "2. 具备栈与队列的能力\n",
    "![deque](deque.png)\n",
    "<center>双端队列结构图示<center>\n",
    "\n",
    "#### 2.双端队列操作\n",
    "* Deque()创建一个空的新deque。它不需要参数，并返回空的deque\n",
    "* addFront(item)将一个新项添加到deque的首部。它需要item参数并不返回任何内容\n",
    "* addRear(item)将一个新项添加到deque 的尾部。它需要item参数并不返回任何内容\n",
    "* removeFront()从deque 中删除首项。它不需要参数并返回item,deque被修改\n",
    "* removeRear()从deque中删除尾项。它不需要参数并返回item,deque被修改\n",
    "* isEmpty()测试deque是否为空。它不需要参数，并返回布尔值\n",
    "* size() 返回deque中的项数。它不需要参数，并返回一个整数\n",
    "\n",
    "#### 3.python实现"
   ]
  },
  {
   "cell_type": "code",
   "execution_count": 48,
   "metadata": {},
   "outputs": [],
   "source": [
    "class Deque():\n",
    "    def __init__(self):\n",
    "        self.items = []\n",
    "    \n",
    "    def addFront(self,item):\n",
    "        self.items.append(item)\n",
    "        \n",
    "    def addRear(self,item):\n",
    "        self.items.insert(0,item)\n",
    "        \n",
    "    def removeFront(self):\n",
    "        return self.items.pop()\n",
    "    \n",
    "    def removeRear(self):\n",
    "        return self.items.pop(0)\n",
    "        \n",
    "    def isEmpty(self):\n",
    "        return self.items == []\n",
    "    \n",
    "    def size(self):\n",
    "        return len(self.items)\n",
    "        "
   ]
  },
  {
   "cell_type": "markdown",
   "metadata": {},
   "source": [
    "#### 4.回文检查\n",
    "#### 问题描述：\n",
    "判断一个字符串是否关于中心对称，例如：level,abbabba"
   ]
  },
  {
   "cell_type": "code",
   "execution_count": 52,
   "metadata": {},
   "outputs": [
    {
     "name": "stdout",
     "output_type": "stream",
     "text": [
      "good\n"
     ]
    }
   ],
   "source": [
    "#mycode\n",
    "def Hwcheck(String):\n",
    "    deque = Deque()\n",
    "    for char in String:\n",
    "        deque.addFront(char)\n",
    "        \n",
    "    if int(deque.size()% 2) == 0:\n",
    "        for i in range(int(deque.size()/2)):\n",
    "            FrontChar = deque.removeFront()\n",
    "            RearChar = deque.removeRear()\n",
    "            if FrontChar != RearChar:\n",
    "                return 'No good'\n",
    "        return 'good'\n",
    "    else:\n",
    "        for i in range(int((deque.size()-1)/2)):\n",
    "            FrontChar = deque.removeFront()\n",
    "            RearChar = deque.removeRear()\n",
    "            if FrontChar != RearChar:\n",
    "                return 'No good'\n",
    "        return 'good'\n",
    "\n",
    "if __name__ == '__main__':\n",
    "    print(Hwcheck('aa'))"
   ]
  },
  {
   "cell_type": "code",
   "execution_count": 54,
   "metadata": {},
   "outputs": [
    {
     "name": "stdout",
     "output_type": "stream",
     "text": [
      "False\n",
      "True\n"
     ]
    }
   ],
   "source": [
    "#teach code\n",
    "from pythonds.basic.deque import Deque\n",
    "\n",
    "def palchecker(aString):\n",
    "    chardeque = Deque()\n",
    "\n",
    "    for ch in aString:\n",
    "        chardeque.addRear(ch)\n",
    "\n",
    "    stillEqual = True\n",
    "\n",
    "    while chardeque.size() > 1 and stillEqual:\n",
    "        first = chardeque.removeFront()\n",
    "        last = chardeque.removeRear()\n",
    "        if first != last:\n",
    "            stillEqual = False\n",
    "\n",
    "    return stillEqual\n",
    "\n",
    "print(palchecker(\"lsdkjfskf\"))\n",
    "print(palchecker(\"raar\"))"
   ]
  }
 ],
 "metadata": {
  "kernelspec": {
   "display_name": "Python 3",
   "language": "python",
   "name": "python3"
  },
  "language_info": {
   "codemirror_mode": {
    "name": "ipython",
    "version": 3
   },
   "file_extension": ".py",
   "mimetype": "text/x-python",
   "name": "python",
   "nbconvert_exporter": "python",
   "pygments_lexer": "ipython3",
   "version": "3.6.4"
  }
 },
 "nbformat": 4,
 "nbformat_minor": 2
}
