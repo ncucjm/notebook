{
 "cells": [
  {
   "cell_type": "markdown",
   "metadata": {},
   "source": [
    "# 1.基本数据结构"
   ]
  },
  {
   "cell_type": "markdown",
   "metadata": {},
   "source": [
    "__线性数结构：__\n",
    "\n",
    "1. 数据项之间的【顺序】由【添加】或者【删除】的顺序决定。\n",
    "2. 一个数据项被添加，它相对于前后元素一直保持该位置不变。\n",
    "3. 线性数据结构有两端\n",
    "\n",
    "__线性数据结构包括：栈、队列、双队列、列表__"
   ]
  },
  {
   "cell_type": "markdown",
   "metadata": {},
   "source": [
    "### 栈\n",
    "#### 1.定义\n",
    "1. 一个项的有序集合，有顶部与底部，添加或移除新项总是在栈顶发生‘先进后出’\n",
    "2. 栈结构的应用：浏览一个web网页，点击本层web页面按钮进入下一层web页面时，本层的web页面就被放入到一个栈的结构中，当多次点击后，每次点击返回就是从存储页面的栈结构中取出上一次存入的web页面，整个返回的web页面显示的过程正好与访问的过程相反\n",
    "![zhan](pic/zhan.png)\n",
    "<center>_栈结构图示_<center>\n",
    "\n",
    "#### 2.栈操作\n",
    "_根据栈的定义，抽象出栈的结构性质，并通过物理实现抽象栈结构性质，这个实现就是数据结构“栈”_\n",
    "* _Stack()_:创建一个空的新栈。无参数，返回一个空栈\n",
    "* _push(item)_:在栈的顶部添加一个新项。需参数item，无返回值\n",
    "* _pop()_:从栈顶部删除项。无参数，无返回值\n",
    "* _peek()_:从栈的顶部取出项。无参数，返回栈顶部item,不删除栈顶部item，不改变栈内容\n",
    "* _isEmpty()_:测试栈是否为空。无参数，无返回值\n",
    "* _size()_:返回栈中的item。无参数，返回整数\n",
    "\n",
    "#### 3.python栈实现\n",
    "* 对于面向对象语言，通过创建一个新类来实现抽象数据类型\n",
    "* 通过python原生的list数据结构作为底层实现，结构性质由python原生list函数的功能实现"
   ]
  },
  {
   "cell_type": "code",
   "execution_count": 1,
   "metadata": {},
   "outputs": [],
   "source": [
    "class Stack:\n",
    "    def __init__(self):\n",
    "        self.items = []\n",
    "        \n",
    "    def isEmpty(self):\n",
    "        return self.items == []\n",
    "    \n",
    "    def push(self,item):\n",
    "        self.items.append(item)\n",
    "        \n",
    "    def pop(self):\n",
    "        return self.items.pop()\n",
    "    \n",
    "    def peek(self):\n",
    "        return self.items[len(self.items) - 1]\n",
    "    \n",
    "    def size(self):\n",
    "        return len(self.items)"
   ]
  },
  {
   "cell_type": "code",
   "execution_count": 1,
   "metadata": {},
   "outputs": [
    {
     "name": "stdout",
     "output_type": "stream",
     "text": [
      "<bound method Stack.isEmpty of <pythonds.basic.stack.Stack object at 0x0000000005A89048>>\n",
      "dog\n",
      "3\n",
      "False\n",
      "8.4\n",
      "True\n",
      "2\n"
     ]
    }
   ],
   "source": [
    "from pythonds.basic.stack import Stack\n",
    "\n",
    "s = Stack()\n",
    "\n",
    "print (s.isEmpty)\n",
    "s.push(5)\n",
    "s.push('dog')\n",
    "print(s.peek())\n",
    "s.push(True)\n",
    "print(s.size())\n",
    "print(s.isEmpty())\n",
    "s.push(8.4)\n",
    "print(s.pop())\n",
    "print(s.pop())\n",
    "print(s.size())"
   ]
  },
  {
   "cell_type": "code",
   "execution_count": 39,
   "metadata": {},
   "outputs": [
    {
     "name": "stdout",
     "output_type": "stream",
     "text": [
      "True\n"
     ]
    }
   ],
   "source": [
    "#my code\n",
    "def ParChecker(parString):\n",
    "    s = Stack()\n",
    "    index = 0 \n",
    "    Match_State = True\n",
    "    while  index < len(parString) and Match_State:\n",
    "        par = parString[index]\n",
    "        if par == '(':\n",
    "            s.push(par)\n",
    "        else:\n",
    "            if s.isEmpty():\n",
    "                Match_State = False\n",
    "            else:\n",
    "                    s.pop()   \n",
    "        index += 1\n",
    "    \n",
    "    if s.isEmpty() and Match_State:\n",
    "        return True\n",
    "    else:\n",
    "        return False\n",
    "if __name__ == '__main__':\n",
    "    print(parChecker('()()'))"
   ]
  },
  {
   "cell_type": "code",
   "execution_count": 38,
   "metadata": {},
   "outputs": [
    {
     "name": "stdout",
     "output_type": "stream",
     "text": [
      "True\n"
     ]
    }
   ],
   "source": [
    "#my code\n",
    "def ParChecker(parString):\n",
    "    s = Stack()\n",
    "    index = 0 \n",
    "    Match_State = True\n",
    "    while  index < len(parString) and Match_State:\n",
    "        par = parString[index]\n",
    "        if par in ('(', '{', '['):\n",
    "            s.push(par)\n",
    "        else:\n",
    "            if s.isEmpty():\n",
    "                Match_State = False\n",
    "            else:\n",
    "                if s.peek() + par in ('()','{}','[]'):\n",
    "                    s.pop()\n",
    "                else:\n",
    "                    Match_State = False\n",
    "        index += 1\n",
    "    \n",
    "    if s.isEmpty() and Match_State:\n",
    "        return True\n",
    "    else:\n",
    "        return False\n",
    "if __name__ == '__main__':\n",
    "    print(parChecker('{}[]'))"
   ]
  },
  {
   "cell_type": "code",
   "execution_count": 42,
   "metadata": {},
   "outputs": [
    {
     "name": "stdout",
     "output_type": "stream",
     "text": [
      "11101001\n"
     ]
    }
   ],
   "source": [
    "#my code 十进制转换二进制\n",
    "def Decimalism2Binary(Num):\n",
    "    s = Stack()\n",
    "    Binary = ''\n",
    "    while Num != 0:\n",
    "        num = Num%2\n",
    "        s.push(num)\n",
    "        Num = int(Num/2)\n",
    "    for i in range(s.size()):\n",
    "        Binary = Binary + str(s.pop())\n",
    "    return Binary\n",
    "\n",
    "if __name__ == '__main__':\n",
    "    print(Decimalism2Binary(233))\n",
    "        "
   ]
  },
  {
   "cell_type": "markdown",
   "metadata": {},
   "source": [
    "#### 中缀表达式转后缀表达式算法逻辑\n",
    "1. 创建一个名为 opstack 的空栈以保存运算符。给输出创建一个空列表。\n",
    "2. 通过使用字符串方法拆分将输入的中缀字符串转换为标记列表。\n",
    "3. 从左到右扫描标记列表。\n",
    "\n",
    "    * 如果标记是操作数，将其附加到输出列表的末尾。\n",
    "    * 如果标记是左括号，将其压到 opstack 上。\n",
    "    * 如果标记是右括号，则弹出 opstack，直到删除相应的左括号。将每个运算符附加到输出列表的末尾。\n",
    "    * 如果标记是运算符，*，/，+或 - ，将其压入 opstack。但是，首先删除已经在 opstack 中具有更高或相等优先级的任何运算符，并将它们加到输出列表中。\n",
    "4. 当输入表达式被完全处理时，检查 opstack。仍然在栈上的任何运算符都可以删除并加到输出列表的末尾。"
   ]
  },
  {
   "cell_type": "code",
   "execution_count": 70,
   "metadata": {},
   "outputs": [
    {
     "name": "stdout",
     "output_type": "stream",
     "text": [
      "['A', 'B', '+', 'C', '*', 'D', 'E', '-', 'F', 'G', '+', '*', '-']\n"
     ]
    }
   ],
   "source": [
    "# my code 中缀表达式变后缀表达式\n",
    "''' \n",
    "注意：\n",
    "1.使用数据结构时存取数据时，指针溢出\n",
    "2.活用逻辑符号构建判断:and or not \n",
    "3.从集合的角度出发思考逻辑结构是否完备\n",
    "'''\n",
    "def Infix2Postfix(OperationString):\n",
    "    s = Stack()\n",
    "    index = 0\n",
    "    priority_dict = {'(' : 3, '*' : 2, '/' : 2, '+' : 1, '-' : 1}\n",
    "    postfix_list = []\n",
    "    while index < len(OperationString):\n",
    "            symbol = OperationString[index]\n",
    "            if symbol == '(':\n",
    "                s.push(symbol)\n",
    "            elif symbol in '*/+-':\n",
    "                if not s.isEmpty():\n",
    "                    while s.peek() ! =  '(' and priority_dict[symbol] <= priority_dict[s.peek()]:\n",
    "                        postfix_list.append(s.pop())  \n",
    "                        if s.isEmpty():\n",
    "                            break\n",
    "                    s.push(symbol)\n",
    "                else:\n",
    "                    s.push(symbol)\n",
    "            elif symbol == ')':\n",
    "                while s.peek() !=  '(':\n",
    "                    postfix_list.append(s.pop())\n",
    "                s.pop()\n",
    "            else:\n",
    "                postfix_list.append(symbol)\n",
    "            \n",
    "            index += 1\n",
    "            \n",
    "    while not s.isEmpty():\n",
    "        postfix_list.append(s.pop())\n",
    "    \n",
    "    return postfix_list\n",
    "\n",
    "if __name__ == '__main__':\n",
    "    print(Infix2Postfix('(A+B)*C-(D-E)*(F+G)'))   "
   ]
  },
  {
   "cell_type": "code",
   "execution_count": 65,
   "metadata": {},
   "outputs": [
    {
     "name": "stdout",
     "output_type": "stream",
     "text": [
      "A B * C D * +\n",
      "A B + C * D E - F G + * -\n"
     ]
    }
   ],
   "source": [
    "#teach code 中缀表达式变后缀表达式\n",
    "def infixToPostfix(infixexpr):\n",
    "    prec = {}\n",
    "    prec[\"*\"] = 3\n",
    "    prec[\"/\"] = 3\n",
    "    prec[\"+\"] = 2\n",
    "    prec[\"-\"] = 2\n",
    "    prec[\"(\"] = 1\n",
    "    opStack = Stack()\n",
    "    postfixList = []\n",
    "    tokenList = infixexpr.split()\n",
    "\n",
    "    for token in tokenList:\n",
    "        if token in \"ABCDEFGHIJKLMNOPQRSTUVWXYZ\" or token in \"0123456789\":\n",
    "            postfixList.append(token)\n",
    "        elif token == '(':\n",
    "            opStack.push(token)\n",
    "        elif token == ')':\n",
    "            topToken = opStack.pop()\n",
    "            while topToken != '(':\n",
    "                postfixList.append(topToken)\n",
    "                topToken = opStack.pop()\n",
    "        else:\n",
    "            while (not opStack.isEmpty()) and (prec[opStack.peek()] >= prec[token]):\n",
    "                  postfixList.append(opStack.pop())\n",
    "            opStack.push(token)\n",
    "\n",
    "    while not opStack.isEmpty():\n",
    "        postfixList.append(opStack.pop())\n",
    "    return \" \".join(postfixList)\n",
    "\n",
    "print(infixToPostfix(\"A * B + C * D\"))\n",
    "print(infixToPostfix(\"( A + B ) * C - ( D - E ) * ( F + G )\"))"
   ]
  },
  {
   "cell_type": "markdown",
   "metadata": {},
   "source": [
    "#### 后缀表达式求值\n",
    "1. 创建一个名为 operandStack 的空栈。\n",
    "2. 拆分字符串转换为标记列表。\n",
    "3. 从左到右扫描标记列表。\n",
    "    * 如果标记是操作数，将其从字符串转换为整数，并将值压到operandStack。\n",
    "    * 如果标记是运算符*，/，+或-，它将需要两个操作数。弹出operandStack 两次。 第一个弹出的是第二个操作数，第二个弹出的是第一个操作数。执行算术运算后，将结果压到操作数栈中。\n",
    "4. 当输入的表达式被完全处理后，结果就在栈上，弹出 operandStack 并返回值。"
   ]
  },
  {
   "cell_type": "code",
   "execution_count": 84,
   "metadata": {},
   "outputs": [
    {
     "name": "stdout",
     "output_type": "stream",
     "text": [
      "3.0\n",
      "81\n"
     ]
    }
   ],
   "source": [
    "#my code \n",
    "def PostfixCalculate(String):\n",
    "    OperandStack = Stack()\n",
    "    List = String.split()\n",
    "    for Index in range(len(List)):\n",
    "        Symbol = List[Index]\n",
    "        if Symbol in '+-*/':\n",
    "            OperNum2 = int(OperandStack.pop())\n",
    "            OperNum1 = int(OperandStack.pop())\n",
    "            if Symbol == '+':\n",
    "                OperNum = OperNum1 + OperNum2\n",
    "            elif Symbol == '-':\n",
    "                OperNum = OperNum1 - OperNum2\n",
    "            elif Symbol == '*':\n",
    "                 OperNum = OperNum1 * OperNum2\n",
    "            elif Symbol == '/':\n",
    "                OperNum = OperNum1 / OperNum2\n",
    "            OperandStack.push(OperNum)    \n",
    "        else:\n",
    "            OperandStack.push(Symbol)       \n",
    "    return OperandStack.pop()\n",
    "            \n",
    "if __name__ == '__main__':\n",
    "    print(PostfixCalculate('7 8 + 3 2 + /'))\n",
    "    print(PostfixCalculate('45 6 6 * +'))"
   ]
  },
  {
   "cell_type": "code",
   "execution_count": 80,
   "metadata": {},
   "outputs": [
    {
     "name": "stdout",
     "output_type": "stream",
     "text": [
      "3.0\n"
     ]
    }
   ],
   "source": [
    "# teach code\n",
    "from pythonds.basic.stack import Stack\n",
    "\n",
    "def postfixEval(postfixExpr):\n",
    "    operandStack = Stack()\n",
    "    tokenList = postfixExpr.split()\n",
    "\n",
    "    for token in tokenList:\n",
    "        if token in \"0123456789\":\n",
    "            operandStack.push(int(token))\n",
    "        else:\n",
    "            operand2 = operandStack.pop()\n",
    "            operand1 = operandStack.pop()\n",
    "            result = doMath(token,operand1,operand2)\n",
    "            operandStack.push(result)\n",
    "    return operandStack.pop()\n",
    "\n",
    "def doMath(op, op1, op2):\n",
    "    if op == \"*\":\n",
    "        return op1 * op2\n",
    "    elif op == \"/\":\n",
    "        return op1 / op2\n",
    "    elif op == \"+\":\n",
    "        return op1 + op2\n",
    "    else:\n",
    "        return op1 - op2\n",
    "\n",
    "print(postfixEval('7 8 + 3 2 + /'))"
   ]
  }
 ],
 "metadata": {
  "kernelspec": {
   "display_name": "Python 3",
   "language": "python",
   "name": "python3"
  },
  "language_info": {
   "codemirror_mode": {
    "name": "ipython",
    "version": 3
   },
   "file_extension": ".py",
   "mimetype": "text/x-python",
   "name": "python",
   "nbconvert_exporter": "python",
   "pygments_lexer": "ipython3",
   "version": "3.7.0"
  }
 },
 "nbformat": 4,
 "nbformat_minor": 2
}
