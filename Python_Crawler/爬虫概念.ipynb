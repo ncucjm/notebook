{
 "cells": [
  {
   "cell_type": "markdown",
   "metadata": {},
   "source": [
    "<img src=\"pic/pic_1.png\" width=\"300\" height=\"300\" align=\"left\" />"
   ]
  },
  {
   "cell_type": "markdown",
   "metadata": {},
   "source": [
    "### 抓包\n",
    "**百度定义：抓包（packet capture）就是将网络传输发送与接收的数据包进行截获、重发、编辑、转存等操作\n",
    "\n",
    "**爬虫抓包定义**：\n",
    "\n",
    "对于下载来说，具体要请求网站url是什么，调用什么api接口，传递什么参数，以及获取到数据后，用什么**规则**提取出需要的数据等等内容，都需要事先去分析和研究清楚，这个抓取网络请求的数据包的过程，一般叫做：抓包\n",
    "\n",
    "https://crifan.github.io/crawl_your_data_spider_technology/website/capture_package/"
   ]
  },
  {
   "cell_type": "markdown",
   "metadata": {},
   "source": [
    "### 抓包工具fiddler的配置\n",
    "需要正确配置抓包工具才能抓取https协议的网络数据包\n",
    "https://mp.weixin.qq.com/s/NGOUtPIW8n1whOYwR-LQYA"
   ]
  }
 ],
 "metadata": {
  "kernelspec": {
   "display_name": "Python 3",
   "language": "python",
   "name": "python3"
  },
  "language_info": {
   "codemirror_mode": {
    "name": "ipython",
    "version": 3
   },
   "file_extension": ".py",
   "mimetype": "text/x-python",
   "name": "python",
   "nbconvert_exporter": "python",
   "pygments_lexer": "ipython3",
   "version": "3.7.6"
  }
 },
 "nbformat": 4,
 "nbformat_minor": 4
}
