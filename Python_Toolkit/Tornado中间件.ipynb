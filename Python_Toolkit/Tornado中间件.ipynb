{
 "cells": [
  {
   "cell_type": "code",
   "execution_count": null,
   "metadata": {},
   "outputs": [],
   "source": [
    "\"\"\"\n",
    "tornado教程:\n",
    "http://demo.pythoner.com/itt2zh/index.html\n",
    "\"\"\"\n",
    "import json\n",
    "import tornado.httpserver\n",
    "import tornado.ioloop\n",
    "import tornado.options\n",
    "import tornado.web\n",
    "from tornado.options import define, options\n",
    "define(\"port\", default=8000, help=\"run on the given port\", type=int)\n",
    "\n",
    "class IndexHandler(tornado.web.RequestHandler):\n",
    "    \n",
    "    def post(self):\n",
    "        parameter = self.request.body.decode('utf-8')\n",
    "        string = json.loads(parameter)\n",
    "        string = 'this is a respond information!!'\n",
    "        data_dict = {'info': string}\n",
    "        data_dict2json = json.dumps(data_dict)\n",
    "        self.write(data_dict2json)\n",
    "    \n",
    "    # def set_default_headers(self):\n",
    "    #     self.set_header(\"Access-Control-Allow-Origin\", \"*\")\n",
    "    #     self.set_header(\"Access-Control-Allow-Headers\", \"x-requested-with\")\n",
    "    #     self.set_header('Access-Control-Allow-Methods', 'POST, GET, OPTIONS')\n",
    "\n",
    "if __name__ == \"__main__\":\n",
    "    tornado.options.parse_command_line()\n",
    "    app = tornado.web.Application(handlers=[(r\"/mytornado\", IndexHandler)])\n",
    "    http_server = tornado.httpserver.HTTPServer(app)\n",
    "    http_server.listen(options.port)\n",
    "    tornado.ioloop.IOLoop.instance().start()"
   ]
  },
  {
   "cell_type": "code",
   "execution_count": null,
   "metadata": {},
   "outputs": [],
   "source": [
    "import json\n",
    "import urllib.request\n",
    "\n",
    "if __name__ == '__main__':\n",
    "    post_string = '0月16日，在邯郸中院的统一部署下，广平、成安、磁县、峰峰、永年、肥乡、涉县' \\\n",
    "                '、武安、魏县法院依法对十二起拒不执行判决、裁定罪案件进行公开宣判。此次公开宣' \\\n",
    "                '判涉及劳务纠纷、民间借贷等案件类型，共13名被告人分别被依法判处拘役、有期徒刑。' \\\n",
    "                '同时，邯郸中院召开新闻发布会，向社会公布了10起拒不执行法院判决、裁定罪典型案件。' \\\n",
    "                '邯郸中院执行指挥中心负责人李国英在发布会上介绍了我市决胜“基本解决执行难”的工作措' \\\n",
    "                '施和相关情况。'\n",
    "\n",
    "    url = 'http://localhost:8000/mytornado'\n",
    "    data = {'str': pos_string}\n",
    "    data = json.dumps(data)\n",
    "    postdata = data.encode('utf-8')\n",
    "    headers = {'Content-Type': 'application/json'}\n",
    "    r = urllib.request.Request(url=url, headers=headers, data=postdata )\n",
    "    res = urllib.request.urlopen(r)\n",
    "    res = res.read().decode('utf-8')\n",
    "    res = json.loads(res)\n",
    "    print(res)"
   ]
  }
 ],
 "metadata": {
  "kernelspec": {
   "display_name": "Python 3",
   "language": "python",
   "name": "python3"
  },
  "language_info": {
   "codemirror_mode": {
    "name": "ipython",
    "version": 3
   },
   "file_extension": ".py",
   "mimetype": "text/x-python",
   "name": "python",
   "nbconvert_exporter": "python",
   "pygments_lexer": "ipython3",
   "version": "3.7.0"
  }
 },
 "nbformat": 4,
 "nbformat_minor": 2
}
