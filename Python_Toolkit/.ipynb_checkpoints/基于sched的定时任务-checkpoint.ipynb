{
 "cells": [
  {
   "cell_type": "code",
   "execution_count": 1,
   "metadata": {},
   "outputs": [
    {
     "ename": "NameError",
     "evalue": "name 'myMonitor' is not defined",
     "output_type": "error",
     "traceback": [
      "\u001b[1;31m---------------------------------------------------------------------------\u001b[0m",
      "\u001b[1;31mNameError\u001b[0m                                 Traceback (most recent call last)",
      "\u001b[1;32m<ipython-input-1-a371217e1460>\u001b[0m in \u001b[0;36m<module>\u001b[1;34m()\u001b[0m\n\u001b[0;32m     14\u001b[0m     \u001b[1;31m# scheduler.enter(delay, priority, action, argument=(), kwargs={})\u001b[0m\u001b[1;33m\u001b[0m\u001b[1;33m\u001b[0m\u001b[0m\n\u001b[0;32m     15\u001b[0m     \u001b[1;31m# delay: 延迟时间 ，priority：越小优先级越高，action：任务函数名，argument：元组式参数\u001b[0m\u001b[1;33m\u001b[0m\u001b[1;33m\u001b[0m\u001b[0m\n\u001b[1;32m---> 16\u001b[1;33m     \u001b[0mschedule\u001b[0m\u001b[1;33m.\u001b[0m\u001b[0menter\u001b[0m\u001b[1;33m(\u001b[0m\u001b[1;36m2\u001b[0m\u001b[1;33m,\u001b[0m \u001b[1;36m0\u001b[0m\u001b[1;33m,\u001b[0m \u001b[0mmyMonitor\u001b[0m\u001b[1;33m.\u001b[0m\u001b[0muser_id_dict_delete\u001b[0m\u001b[1;33m,\u001b[0m \u001b[1;33m(\u001b[0m\u001b[1;34m\"task_parameters\"\u001b[0m\u001b[1;33m,\u001b[0m \u001b[1;36m2\u001b[0m\u001b[1;33m)\u001b[0m\u001b[1;33m)\u001b[0m\u001b[1;33m\u001b[0m\u001b[0m\n\u001b[0m\u001b[0;32m     17\u001b[0m     \u001b[0mschedule\u001b[0m\u001b[1;33m.\u001b[0m\u001b[0mrun\u001b[0m\u001b[1;33m(\u001b[0m\u001b[1;33m)\u001b[0m\u001b[1;33m\u001b[0m\u001b[0m\n",
      "\u001b[1;31mNameError\u001b[0m: name 'myMonitor' is not defined"
     ]
    }
   ],
   "source": [
    "import sched\n",
    "import time\n",
    "import datetime\n",
    "\n",
    "schedule = sched.scheduler(time.time, time.sleep)\n",
    "\n",
    "def my_task(function_parameter,time_gap):\n",
    "    print(\"function_parameter : %s, time_gap : %d\"%(function_parameter,time_gap))\n",
    "    print(\"my_task:\",datetime.datetime.now())\n",
    "    schedule.enter(time_gap, 0, myMonitor.user_id_dict_delete, (\"task_parameters\", 2))\n",
    "    \n",
    "    \n",
    "if __name__==\"__main__\":\n",
    "    # scheduler.enter(delay, priority, action, argument=(), kwargs={}) \n",
    "    # delay: 延迟时间 ,单位秒. priority：越小优先级越高，action：任务函数名，argument：元组式参数\n",
    "    schedule.enter(2, 0, myMonitor.user_id_dict_delete, (\"task_parameters\", 2))\n",
    "    schedule.run()\n"
   ]
  }
 ],
 "metadata": {
  "kernelspec": {
   "display_name": "Python 3",
   "language": "python",
   "name": "python3"
  },
  "language_info": {
   "codemirror_mode": {
    "name": "ipython",
    "version": 3
   },
   "file_extension": ".py",
   "mimetype": "text/x-python",
   "name": "python",
   "nbconvert_exporter": "python",
   "pygments_lexer": "ipython3",
   "version": "3.7.0"
  }
 },
 "nbformat": 4,
 "nbformat_minor": 2
}
