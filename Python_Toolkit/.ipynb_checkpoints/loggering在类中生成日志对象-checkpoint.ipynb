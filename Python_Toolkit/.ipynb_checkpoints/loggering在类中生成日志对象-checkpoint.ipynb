{
 "cells": [
  {
   "cell_type": "code",
   "execution_count": null,
   "metadata": {},
   "outputs": [],
   "source": [
    "import logging\n",
    "\n",
    "class Yourclass():\n",
    "    \n",
    "    def __init__(self):\n",
    "        self.logger1 = self.get_logger('loggog1')\n",
    "        self.logger2 = self.get_logger('loggog2')\n",
    "    \n",
    "    # 创建日志对象\n",
    "    def get_logger(self, logger_name, log_file, level=logging.INFO):\n",
    "        l = logging.getLogger(logger_name)\n",
    "        formatter = logging.Formatter('%(asctime)s : %(message)s', \"%Y-%m-%d %H:%M:%S\")\n",
    "        fileHandler = logging.FileHandler(log_file, mode='a')\n",
    "        fileHandler.setFormatter(formatter)\n",
    "        l.setLevel(level)\n",
    "        l.addHandler(fileHandler)\n",
    "        \n",
    "        \n",
    "        \n",
    "    "
   ]
  }
 ],
 "metadata": {
  "kernelspec": {
   "display_name": "Python 3",
   "language": "python",
   "name": "python3"
  },
  "language_info": {
   "codemirror_mode": {
    "name": "ipython",
    "version": 3
   },
   "file_extension": ".py",
   "mimetype": "text/x-python",
   "name": "python",
   "nbconvert_exporter": "python",
   "pygments_lexer": "ipython3",
   "version": "3.7.0"
  }
 },
 "nbformat": 4,
 "nbformat_minor": 2
}
