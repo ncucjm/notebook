{
 "cells": [
  {
   "cell_type": "code",
   "execution_count": 2,
   "metadata": {},
   "outputs": [
    {
     "name": "stdout",
     "output_type": "stream",
     "text": [
      "保留中文: 我是一个中国人\n",
      "保留英文: IamJerryChenand\n",
      "保留数字: 12345\n"
     ]
    }
   ],
   "source": [
    "import re\n",
    "\n",
    "def string_filter(String,L):\n",
    "    ch = re.compile(\"[^\\u4e00-\\u9fa5]\")\n",
    "    en = re.compile(\"[^a-zA-Z]\")\n",
    "    num = re.compile(\"[^0-9]\")\n",
    "    tempString =  ''\n",
    "    if L == 'ch':\n",
    "        tempString = ch.sub('', String)\n",
    "    elif L == \"en\":\n",
    "        tempString = en.sub('', String)\n",
    "    elif L == \"num\":\n",
    "        tempString = num.sub('', String)\n",
    "    return tempString\n",
    "\n",
    "if __name__ == \"__main__\":\n",
    "    string = 'I am JerryChen and 我是一个中国人，12345'\n",
    "    print('保留中文:',string_filter(string,'ch' ))\n",
    "    print('保留英文:',string_filter(string, 'en'))\n",
    "    print('保留数字:',string_filter(string,'num'))"
   ]
  }
 ],
 "metadata": {
  "kernelspec": {
   "display_name": "Python 3",
   "language": "python",
   "name": "python3"
  },
  "language_info": {
   "codemirror_mode": {
    "name": "ipython",
    "version": 3
   },
   "file_extension": ".py",
   "mimetype": "text/x-python",
   "name": "python",
   "nbconvert_exporter": "python",
   "pygments_lexer": "ipython3",
   "version": "3.7.0"
  }
 },
 "nbformat": 4,
 "nbformat_minor": 2
}
