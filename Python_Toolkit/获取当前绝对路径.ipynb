{
 "cells": [
  {
   "cell_type": "code",
   "execution_count": 13,
   "metadata": {},
   "outputs": [
    {
     "name": "stdout",
     "output_type": "stream",
     "text": [
      "('E:\\\\mygit\\\\PythonLearn', 'E:\\\\mygit\\\\PythonLearn\\\\python_tool')\n"
     ]
    }
   ],
   "source": [
    "import os\n",
    "\n",
    "def path_get():\n",
    "    # 当前文件目录\n",
    "    current_path = os.path.abspath('')\n",
    "    # 当前文件夹父目录\n",
    "    father_path = os.path.abspath(os.path.dirname(current_path))\n",
    "    # corpus_path = os.path.join(father_path, corpus)\n",
    "    return father_path, current_path\n",
    "\n",
    "print(path_get())"
   ]
  }
 ],
 "metadata": {
  "kernelspec": {
   "display_name": "Python 3",
   "language": "python",
   "name": "python3"
  },
  "language_info": {
   "codemirror_mode": {
    "name": "ipython",
    "version": 3
   },
   "file_extension": ".py",
   "mimetype": "text/x-python",
   "name": "python",
   "nbconvert_exporter": "python",
   "pygments_lexer": "ipython3",
   "version": "3.7.6"
  }
 },
 "nbformat": 4,
 "nbformat_minor": 2
}
