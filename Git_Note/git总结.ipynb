{
 "cells": [
  {
   "cell_type": "markdown",
   "metadata": {},
   "source": [
    "![pic](pic/1.png)"
   ]
  },
  {
   "cell_type": "markdown",
   "metadata": {},
   "source": [
    "![pic](pic/2.png)\n",
    "![pic](pic/3.png)"
   ]
  },
  {
   "cell_type": "markdown",
   "metadata": {},
   "source": [
    "![pic](pic/4.png)\n",
    "![pic](pic/5.png)"
   ]
  },
  {
   "cell_type": "markdown",
   "metadata": {},
   "source": [
    "![pic](pic/6.png)"
   ]
  },
  {
   "cell_type": "markdown",
   "metadata": {},
   "source": [
    "![pic](pic/7.png)"
   ]
  },
  {
   "cell_type": "markdown",
   "metadata": {},
   "source": [
    "![pic](pic/8.png)"
   ]
  },
  {
   "cell_type": "markdown",
   "metadata": {},
   "source": [
    "## 本地与远程通信\n",
    "### ubuntu版本：\n",
    "1. ssh-keygen -t rsa -C \"1300887184@qq.com\"\n",
    "2. 在home目录，cd .ssh 打开隐藏目录\n",
    "3. gedit id_rsa.pub 打开公钥文件复制全部内容\n",
    "4. 在远程ssh设置中添加秘钥\n",
    "5. 克隆远程库到本地:git clone https://github.com/ncucjm/notebook.git\n",
    "6. 从远程库跟新最新版本到本地：git pull\n",
    "7. 从本地上传本地最新更改：git push origin master\n",
    "8. gitee/github创建远程库:\n",
    "        \n",
    "        1. git remote -v查看远程库信息\n",
    "        2. git remote rm origin 删除远程库origin\n",
    "        3. git remote add github（远程库名称） git@github.com:ncucjm/notebook.git (创建github远程库)\n",
    "        4. git remote add gitee（远程库名称） git@gitee.com:ncucjm/notebook.git (创建github远程库)\n",
    "        5. 向github推送:git push github master\n",
    "        6. 向gitee推送:git push gitee master"
   ]
  },
  {
   "cell_type": "markdown",
   "metadata": {},
   "source": [
    "## gitee拉取github项目\n",
    "![pic](pic/gitee1.png)\n",
    "![pic](pic/gitee2.png)"
   ]
  },
  {
   "cell_type": "code",
   "execution_count": null,
   "metadata": {},
   "outputs": [],
   "source": []
  }
 ],
 "metadata": {
  "kernelspec": {
   "display_name": "Python 3",
   "language": "python",
   "name": "python3"
  },
  "language_info": {
   "codemirror_mode": {
    "name": "ipython",
    "version": 3
   },
   "file_extension": ".py",
   "mimetype": "text/x-python",
   "name": "python",
   "nbconvert_exporter": "python",
   "pygments_lexer": "ipython3",
   "version": "3.7.6"
  }
 },
 "nbformat": 4,
 "nbformat_minor": 2
}
