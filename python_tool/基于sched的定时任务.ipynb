{
 "cells": [
  {
   "cell_type": "code",
   "execution_count": null,
   "metadata": {},
   "outputs": [
    {
     "name": "stdout",
     "output_type": "stream",
     "text": [
      "function_parameter : task_parameters, time_gap : 2\n",
      "my_task: 2019-04-10 21:34:29.530789\n",
      "function_parameter : task_parameters, time_gap : 2\n",
      "my_task: 2019-04-10 21:34:31.531105\n",
      "function_parameter : task_parameters, time_gap : 2\n",
      "my_task: 2019-04-10 21:34:33.531472\n",
      "function_parameter : task_parameters, time_gap : 2\n",
      "my_task: 2019-04-10 21:34:35.531980\n",
      "function_parameter : task_parameters, time_gap : 2\n",
      "my_task: 2019-04-10 21:34:37.532055\n",
      "function_parameter : task_parameters, time_gap : 2\n",
      "my_task: 2019-04-10 21:34:39.532584\n",
      "function_parameter : task_parameters, time_gap : 2\n",
      "my_task: 2019-04-10 21:34:41.533913\n",
      "function_parameter : task_parameters, time_gap : 2\n",
      "my_task: 2019-04-10 21:34:43.535015\n",
      "function_parameter : task_parameters, time_gap : 2\n",
      "my_task: 2019-04-10 21:34:45.536331\n",
      "function_parameter : task_parameters, time_gap : 2\n",
      "my_task: 2019-04-10 21:34:47.536884\n",
      "function_parameter : task_parameters, time_gap : 2\n",
      "my_task: 2019-04-10 21:34:49.536968\n",
      "function_parameter : task_parameters, time_gap : 2\n",
      "my_task: 2019-04-10 21:34:51.538317\n",
      "function_parameter : task_parameters, time_gap : 2\n",
      "my_task: 2019-04-10 21:34:53.538604\n",
      "function_parameter : task_parameters, time_gap : 2\n",
      "my_task: 2019-04-10 21:34:55.539977\n",
      "function_parameter : task_parameters, time_gap : 2\n",
      "my_task: 2019-04-10 21:34:57.542255\n",
      "function_parameter : task_parameters, time_gap : 2\n",
      "my_task: 2019-04-10 21:34:59.544573\n",
      "function_parameter : task_parameters, time_gap : 2\n",
      "my_task: 2019-04-10 21:35:01.544928\n",
      "function_parameter : task_parameters, time_gap : 2\n",
      "my_task: 2019-04-10 21:35:03.545204\n"
     ]
    }
   ],
   "source": [
    "import sched\n",
    "import time\n",
    "import datetime\n",
    "\n",
    "schedule = sched.scheduler(time.time, time.sleep)\n",
    "\n",
    "def my_task(function_parameter,time_gap):\n",
    "    print(\"function_parameter : %s, time_gap : %d\"%(function_parameter,time_gap))\n",
    "    print(\"my_task:\",datetime.datetime.now())\n",
    "    schedule.enter(time_gap, 0, my_task, (\"task_parameters\", 2))\n",
    "    \n",
    "    \n",
    "if __name__==\"__main__\":\n",
    "    # scheduler.enter(delay, priority, action, argument=(), kwargs={}) \n",
    "    # delay: 延迟时间 ,单位秒. priority：越小优先级越高，action：任务函数名，argument：元组式参数\n",
    "    schedule.enter(2, 0, my_task, (\"task_parameters\", 2))\n",
    "    schedule.run()\n"
   ]
  }
 ],
 "metadata": {
  "kernelspec": {
   "display_name": "Python 3",
   "language": "python",
   "name": "python3"
  },
  "language_info": {
   "codemirror_mode": {
    "name": "ipython",
    "version": 3
   },
   "file_extension": ".py",
   "mimetype": "text/x-python",
   "name": "python",
   "nbconvert_exporter": "python",
   "pygments_lexer": "ipython3",
   "version": "3.7.0"
  }
 },
 "nbformat": 4,
 "nbformat_minor": 2
}
