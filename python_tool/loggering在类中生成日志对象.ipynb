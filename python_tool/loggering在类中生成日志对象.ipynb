{
 "cells": [
  {
   "cell_type": "code",
   "execution_count": 1,
   "metadata": {},
   "outputs": [
    {
     "name": "stdout",
     "output_type": "stream",
     "text": [
      "logging record success!\n",
      "logging record success!\n"
     ]
    }
   ],
   "source": [
    "import logging\n",
    "\n",
    "class Yourclass():\n",
    "    \n",
    "        def __init__(self):\n",
    "            self.logger1 = self.get_logger('loggog1','E:\\mygit\\PythonLearn\\python_tool\\log1.txt')\n",
    "            self.logger2 = self.get_logger('loggog2','E:\\mygit\\PythonLearn\\python_tool\\log2.txt')\n",
    "\n",
    "        # 创建日志对象\n",
    "        # 可以在一个py脚本中对需要记录日志的模块，分文件和等级的记录日志\n",
    "        def get_logger(self, logger_name, log_file, level=logging.INFO):\n",
    "            \n",
    "            l = logging.getLogger(logger_name)\n",
    "            formatter = logging.Formatter('%(asctime)s : %(message)s', \"%Y-%m-%d %H:%M:%S\")\n",
    "            fileHandler = logging.FileHandler(log_file, mode='a')\n",
    "            fileHandler.setFormatter(formatter)\n",
    "            l.setLevel(level)\n",
    "            l.addHandler(fileHandler)\n",
    "            \n",
    "            return logging.getLogger(logger_name)\n",
    "\n",
    "        def function1(self):\n",
    "            a = 'i am function1'\n",
    "            self.logger1.info(a)\n",
    "            print('logging record success!')\n",
    "\n",
    "        def function2(self):\n",
    "            a = 'i am function2'\n",
    "            self.logger2.info(a)\n",
    "            print('logging record success!')\n",
    "\n",
    "            \n",
    "if __name__ == \"__main__\":\n",
    "    MyClass = Yourclass()\n",
    "    MyClass.function1()\n",
    "    MyClass.function2()"
   ]
  },
  {
   "cell_type": "code",
   "execution_count": null,
   "metadata": {},
   "outputs": [],
   "source": []
  }
 ],
 "metadata": {
  "kernelspec": {
   "display_name": "Python 3",
   "language": "python",
   "name": "python3"
  },
  "language_info": {
   "codemirror_mode": {
    "name": "ipython",
    "version": 3
   },
   "file_extension": ".py",
   "mimetype": "text/x-python",
   "name": "python",
   "nbconvert_exporter": "python",
   "pygments_lexer": "ipython3",
   "version": "3.7.0"
  }
 },
 "nbformat": 4,
 "nbformat_minor": 2
}
