{
 "cells": [
  {
   "cell_type": "code",
   "execution_count": null,
   "metadata": {},
   "outputs": [],
   "source": [
    "import os\n",
    "import time\n",
    "\n",
    "app = os.popen(\"ps -ef|grep /app/Mining_Code/FAQ_test/faq_server.py|grep -v grep\")\n",
    "# /app/Mining_Code/FAQ_test/faq_server.py :应用绝对路径/app/Mining_Code/FAQ_tes与应用名称faq_server.py\n",
    "flag = app.read()\n",
    "\n",
    "while 1:\n",
    "   time.sleep(2)\n",
    "   if flag:\n",
    "       app = os.popen(\"ps -ef|grep /app/Mining_Code/FAQ_test/faq_server.py|grep -v grep\")\n",
    "       flag = app.read()\n",
    "       print('实例存在')\n",
    "   else:\n",
    "       print('实例不存在')\n",
    "       print('重启实例')\n",
    "       os.system('nohup python3 /app/Mining_Code/FAQ_test/faq_server.py --port=91 &')\n",
    "       print('执行成功')\n",
    "       app = os.popen(\"ps -ef|grep /app/Mining_Code/FAQ_test/faq_server.py|grep -v grep\")\n",
    "       flag = app.read()"
   ]
  }
 ],
 "metadata": {
  "kernelspec": {
   "display_name": "Python 3",
   "language": "python",
   "name": "python3"
  },
  "language_info": {
   "codemirror_mode": {
    "name": "ipython",
    "version": 3
   },
   "file_extension": ".py",
   "mimetype": "text/x-python",
   "name": "python",
   "nbconvert_exporter": "python",
   "pygments_lexer": "ipython3",
   "version": "3.7.0"
  }
 },
 "nbformat": 4,
 "nbformat_minor": 2
}
