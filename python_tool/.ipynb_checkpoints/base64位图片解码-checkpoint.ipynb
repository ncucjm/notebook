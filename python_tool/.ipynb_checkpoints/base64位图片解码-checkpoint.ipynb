{
 "cells": [
  {
   "cell_type": "code",
   "execution_count": null,
   "metadata": {},
   "outputs": [],
   "source": [
    "import base64\n",
    "import os\n",
    "openpath = \"F:/PythonProgram/xinpian_pic\"\n",
    "savepath = \"F:/PythonProgram/xinpian\"\n",
    "xianchangfallpath = \"F:/PythonProgram/xianchangfall.txt\"\n",
    "xinpianfallpath = \"F:/PythonProgram/xinpianfall.txt\"\n",
    "\n",
    "filename = os.listdir(openpath)\n",
    "List = []\n",
    "\n",
    "for name in filename:\n",
    "    with open(openpath + \"/\" + name,'r') as pic_base64:\n",
    "        tempString = ''\n",
    "        try:\n",
    "            for String in pic_base64.readlines():\n",
    "                String.replace('/n','')\n",
    "                tempString = tempString + String \n",
    "            # 解码base64编码的图片\n",
    "            ori_pic = base64.b64decode(tempString)\n",
    "            with open(savepath + '/' + name +'.png','wb') as picture:\n",
    "                picture.write(ori_pic)\n",
    "        except:\n",
    "            List.append(name + \"\\n\")\n",
    "            \n",
    "with open(xinpianfallpath,'w') as file:\n",
    "    for line in List:\n",
    "        file.write(line)  "
   ]
  }
 ],
 "metadata": {
  "kernelspec": {
   "display_name": "Python 3",
   "language": "python",
   "name": "python3"
  },
  "language_info": {
   "codemirror_mode": {
    "name": "ipython",
    "version": 3
   },
   "file_extension": ".py",
   "mimetype": "text/x-python",
   "name": "python",
   "nbconvert_exporter": "python",
   "pygments_lexer": "ipython3",
   "version": "3.7.0"
  }
 },
 "nbformat": 4,
 "nbformat_minor": 2
}
