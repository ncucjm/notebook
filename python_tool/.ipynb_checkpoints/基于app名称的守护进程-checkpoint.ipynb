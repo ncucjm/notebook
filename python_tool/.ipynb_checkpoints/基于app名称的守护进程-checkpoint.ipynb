{
 "cells": [
  {
   "cell_type": "code",
   "execution_count": null,
   "metadata": {},
   "outputs": [],
   "source": [
    "import os\n",
    "import time\n",
    "\n",
    "# 获取应用 /app/FAQ/nlp_hexiaozhu/hexiaozhu_server.py 实例\n",
    "app = os.popen(\"ps -ef|grep /app/FAQ/nlp_hexiaozhu/hexiaozhu_server.py|grep -v grep\")\n",
    "flag = app.read()\n",
    "\n",
    "while 1:\n",
    "   time.sleep(2)\n",
    "   if flag:\n",
    "       app = os.popen(\"ps -ef|grep /app/FAQ/nlp_hexiaozhu/hexiaozhu_server.py|grep -v grep\")\n",
    "       flag = app.read()\n",
    "       print('实例存在')\n",
    "   else:\n",
    "       print('实例不存在')\n",
    "       print('重启实例')\n",
    "       os.system('nohup python3 /app/FAQ/nlp_hexiaozhu/hexiaozhu_server.py --port=9011 &')\n",
    "       print('执行成功')\n",
    "       app = os.popen(\"ps -ef|grep /app/FAQ/nlp_hexiaozhu/hexiaozhu_server.py|grep -v grep\")\n",
    "       flag = app.read()"
   ]
  }
 ],
 "metadata": {
  "kernelspec": {
   "display_name": "Python 3",
   "language": "python",
   "name": "python3"
  },
  "language_info": {
   "codemirror_mode": {
    "name": "ipython",
    "version": 3
   },
   "file_extension": ".py",
   "mimetype": "text/x-python",
   "name": "python",
   "nbconvert_exporter": "python",
   "pygments_lexer": "ipython3",
   "version": "3.7.0"
  }
 },
 "nbformat": 4,
 "nbformat_minor": 2
}
