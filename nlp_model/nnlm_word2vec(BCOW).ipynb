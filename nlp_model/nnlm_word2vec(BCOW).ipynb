{
 "cells": [
  {
   "cell_type": "markdown",
   "metadata": {},
   "source": [
    "# Content\n",
    "- N-gram语言模型简介\n",
    "- 神经语言模型简介\n",
    "- 神经语言模型\n",
    "- Word2Vec(CBOW)\n",
    "       \n",
    "       注意.view((1,-1))调整tensor维度为loss_function做准备\n",
    "    \n",
    "- CBOW网络拓扑\n",
    "- CBOW构建路程"
   ]
  },
  {
   "cell_type": "markdown",
   "metadata": {},
   "source": [
    "# N-gram语言模型简介\n",
    "![deque](pic/ngram.png)\n",
    "![deque](pic/ngram1.png)\n",
    "![deque](pic/ngram2.png)\n",
    "![deque](pic/ngram3.png)"
   ]
  },
  {
   "cell_type": "markdown",
   "metadata": {},
   "source": [
    "# 神经语言模型简介\n",
    "![deque](pic/神经语言模型.png)"
   ]
  },
  {
   "cell_type": "code",
   "execution_count": 5,
   "metadata": {},
   "outputs": [
    {
     "data": {
      "text/plain": [
       "<torch._C.Generator at 0x18ad347f4b0>"
      ]
     },
     "execution_count": 5,
     "metadata": {},
     "output_type": "execute_result"
    }
   ],
   "source": [
    "# 神经语言模型\n",
    "\n",
    "import torch \n",
    "import torch.autograd as autograd\n",
    "import torch.nn as nn \n",
    "import torch.nn.functional as F \n",
    "import torch.optim as optim\n",
    "\n",
    "device = torch.device('cuda' if torch.cuda.is_available() else 'cpu')\n",
    "\n",
    "torch.manual_seed(1)"
   ]
  },
  {
   "cell_type": "code",
   "execution_count": 2,
   "metadata": {},
   "outputs": [
    {
     "name": "stdout",
     "output_type": "stream",
     "text": [
      "lookup_tensor:\n",
      " tensor([0])\n",
      "tensor([ 0.4952, -1.2558,  0.4434, -0.4063, -1.0150], grad_fn=<SumBackward1>)\n",
      "hello_embed:\n",
      " tensor([[ 0.6614,  0.2669,  0.0617,  0.6213, -0.4519],\n",
      "        [-0.1661, -1.5228,  0.3817, -1.0276, -0.5631]],\n",
      "       grad_fn=<EmbeddingBackward>)\n"
     ]
    }
   ],
   "source": [
    "word_to_ix = {'hello':0, 'world':1}\n",
    "\n",
    "embeds = nn.Embedding(2, 5)\n",
    "# 2 单词数量 ； 5 单词维度\n",
    "\n",
    "lookup_tensor = torch.LongTensor([word_to_ix['hello']])\n",
    "print('lookup_tensor:\\n',lookup_tensor)\n",
    "\n",
    "lookup_tensor = torch.LongTensor([0,1])\n",
    "\n",
    "hello_embed = embeds(autograd.Variable(lookup_tensor))\n",
    "a = hello_embed[0]\n",
    "b = hello_embed[1]\n",
    "\n",
    "sum_embed = hello_embed.sum(0)\n",
    "\n",
    "print(sum_embed)\n",
    "print('hello_embed:\\n',hello_embed)"
   ]
  },
  {
   "cell_type": "code",
   "execution_count": 12,
   "metadata": {},
   "outputs": [
    {
     "name": "stdout",
     "output_type": "stream",
     "text": [
      "trigrams[:3]:\n",
      " [(['When', 'forty'], 'winters'), (['forty', 'winters'], 'shall'), (['winters', 'shall'], 'besiege')]\n",
      "[tensor([518.4762]), tensor([516.1401]), tensor([513.8240]), tensor([511.5272]), tensor([509.2499]), tensor([506.9915]), tensor([504.7505]), tensor([502.5263]), tensor([500.3181]), tensor([498.1255])]\n"
     ]
    }
   ],
   "source": [
    "test_sentence = \"\"\"When forty winters shall besiege thy brow,\n",
    "And dig deep trenches in thy beauty's field,\n",
    "Thy youth's proud livery so gazed on now,\n",
    "Will be a totter'd weed of small worth held:\n",
    "Then being asked, where all thy beauty lies,\n",
    "Where all the treasure of thy lusty days;\n",
    "To say, within thine own deep sunken eyes,\n",
    "Were an all-eating shame, and thriftless praise.\n",
    "How much more praise deserv'd thy beauty's use,\n",
    "If thou couldst answer 'This fair child of mine\n",
    "Shall sum my count, and make my old excuse,'\n",
    "Proving his beauty by succession thine!\n",
    "This were to be new made when thou art old,\n",
    "And see thy blood warm when thou feel'st it cold.\"\"\".split()\n",
    "\n",
    "# 构建trigram训练数据集 ：(['When', 'forty'], 'winters')\n",
    "trigrams = [([test_sentence[i], test_sentence[i+1]], test_sentence[i+2]) \n",
    "            for i in range(len(test_sentence) - 2)]\n",
    "print('trigrams[:3]:\\n',trigrams[:3])\n",
    "\n",
    "vocab = set(test_sentence)\n",
    "\n",
    "word_to_ix = {word: i for i,word in enumerate(vocab)}\n",
    "\n",
    "class NNLM(nn.Module):\n",
    "    \n",
    "    def __init__(self, vacab_size, embedding_dim, context_size):\n",
    "        super(NNLM,self).__init__()\n",
    "        \n",
    "        self.input_size = vacab_size # vocab_size / one-hot encoding\n",
    "        self.output_size = embedding_dim\n",
    "        self.context_size = context_size\n",
    "        \n",
    "        self.embeddings = nn.Embedding(self.input_size, self.output_size)\n",
    "        \n",
    "        self.fc1 = nn.Linear(self.context_size * self.output_size, 128)\n",
    "        \n",
    "        self.fc2 = nn.Linear(128, self.input_size)\n",
    "        \n",
    "    def forward(self, inputs):\n",
    "        \n",
    "        embeds = self.embeddings(inputs).view((1,-1))\n",
    "        # embeds.size ——> output_size / embedding_dim\n",
    "        outs = F.relu(self.fc1(embeds))\n",
    "        \n",
    "        outs = self.fc2(outs)\n",
    "        \n",
    "        outs = F.log_softmax(outs, dim=1)\n",
    "        \n",
    "        return outs\n",
    "\n",
    "losses = []\n",
    "\n",
    "# 超参\n",
    "vacab_size = len(vocab) # hot-one encoding / cocab_size\n",
    "embedding_dim =  5 # EMBEDDING_DIM\n",
    "context_size = 2\n",
    "learning_rate = 0.001\n",
    "\n",
    "model = NNLM(vacab_size, embedding_dim, context_size).to(device)\n",
    "\n",
    "loss_function = nn.NLLLoss()\n",
    "\n",
    "optimizer = optim.SGD(model.parameters(), lr=learning_rate)\n",
    "\n",
    "for epoch in range(10):\n",
    "    \n",
    "    total_loss = torch.Tensor([0])\n",
    "    \n",
    "    for context, target in trigrams:\n",
    "        \n",
    "        context_idxs = [word_to_ix[w] for w in context]\n",
    "        \n",
    "        context_var = autograd.Variable(torch.LongTensor(context_idxs)).to(device)\n",
    "        \n",
    "        model.zero_grad()\n",
    "        \n",
    "        log_probs = model(context_var)\n",
    "        \n",
    "        loss = loss_function(log_probs, \n",
    "        autograd.Variable(torch.LongTensor([word_to_ix[target]])).to(device))\n",
    "        \n",
    "        loss.backward()\n",
    "        optimizer.step()\n",
    "        \n",
    "        total_loss += loss.data\n",
    "    losses.append(total_loss)\n",
    "    \n",
    "print(losses)\n",
    "        "
   ]
  },
  {
   "cell_type": "markdown",
   "metadata": {},
   "source": [
    "# NNLM例子网络拓扑\n",
    "![deque](pic/神经语言模型1.png)"
   ]
  },
  {
   "cell_type": "code",
   "execution_count": 11,
   "metadata": {},
   "outputs": [
    {
     "name": "stdout",
     "output_type": "stream",
     "text": [
      "[tensor([239.4652]), tensor([239.0371]), tensor([238.6110]), tensor([238.1869]), tensor([237.7647]), tensor([237.3443]), tensor([236.9259]), tensor([236.5092]), tensor([236.0945]), tensor([235.6816]), tensor([235.2704]), tensor([234.8611]), tensor([234.4535]), tensor([234.0477]), tensor([233.6437]), tensor([233.2414]), tensor([232.8409]), tensor([232.4420]), tensor([232.0448]), tensor([231.6494]), tensor([231.2556]), tensor([230.8634]), tensor([230.4729]), tensor([230.0841]), tensor([229.6969]), tensor([229.3112]), tensor([228.9273]), tensor([228.5449]), tensor([228.1640]), tensor([227.7848]), tensor([227.4071]), tensor([227.0310]), tensor([226.6564]), tensor([226.2834]), tensor([225.9119]), tensor([225.5419]), tensor([225.1734]), tensor([224.8063]), tensor([224.4408]), tensor([224.0768]), tensor([223.7142]), tensor([223.3531]), tensor([222.9935]), tensor([222.6353]), tensor([222.2785]), tensor([221.9232]), tensor([221.5692]), tensor([221.2168]), tensor([220.8657]), tensor([220.5160]), tensor([220.1678]), tensor([219.8208]), tensor([219.4754]), tensor([219.1312]), tensor([218.7885]), tensor([218.4471]), tensor([218.1070]), tensor([217.7683]), tensor([217.4310]), tensor([217.0950]), tensor([216.7603]), tensor([216.4269]), tensor([216.0949]), tensor([215.7641]), tensor([215.4346]), tensor([215.1066]), tensor([214.7797]), tensor([214.4541]), tensor([214.1299]), tensor([213.8069]), tensor([213.4852]), tensor([213.1647]), tensor([212.8455]), tensor([212.5275]), tensor([212.2108]), tensor([211.8954]), tensor([211.5811]), tensor([211.2682]), tensor([210.9564]), tensor([210.6458]), tensor([210.3365]), tensor([210.0284]), tensor([209.7215]), tensor([209.4157]), tensor([209.1111]), tensor([208.8078]), tensor([208.5056]), tensor([208.2047]), tensor([207.9049]), tensor([207.6062]), tensor([207.3087]), tensor([207.0123]), tensor([206.7171]), tensor([206.4230]), tensor([206.1301]), tensor([205.8384]), tensor([205.5477]), tensor([205.2581]), tensor([204.9696]), tensor([204.6823])]\n"
     ]
    }
   ],
   "source": [
    "# Word2Vec(CBOW)\n",
    "\n",
    "# =====数据预处理\n",
    "raw_text = \"\"\"We are about to study the idea of a computational process.\n",
    "Computational processes are abstract beings that inhabit computers.\n",
    "As they evolve, processes manipulate other abstract things called data.\n",
    "The evolution of a process is directed by a pattern of rules\n",
    "called a program. People create programs to direct processes. In effect,\n",
    "we conjure the spirits of the computer with our spells.\"\"\".split()\n",
    "\n",
    "vocab = set(raw_text)\n",
    "\n",
    "vocab_size = len(vocab)\n",
    "\n",
    "# 词典\n",
    "word_to_ix = {word: i for i, word in enumerate(vocab)}\n",
    "\n",
    "data = []\n",
    "\n",
    "# 构造数据集\n",
    "for i in range(2, len(raw_text) - 2):\n",
    "    context = [raw_text[i - 2], raw_text[i - 1],\n",
    "               raw_text[i + 1], raw_text[i + 2]]\n",
    "    target = raw_text[i]\n",
    "\n",
    "    data.append((context, target))\n",
    "\n",
    "# =====CBOW模型\n",
    "class CBOW(nn.Module):\n",
    "\n",
    "    def __init__(self, vacab_size, embedding_dim, window_size):\n",
    "        super(CBOW, self).__init__()\n",
    "        \n",
    "        self.input_size = vacab_size\n",
    "        self.output_size = embedding_dim\n",
    "        self.window_size = window_size\n",
    "\n",
    "        self.window_size = window_size\n",
    "\n",
    "        self.embeddings = nn.Embedding(self.input_size, self.output_size)\n",
    "\n",
    "        self.fc = nn.Linear(self.output_size, self.input_size)\n",
    "\n",
    "    def forward(self, inputs):\n",
    "\n",
    "        embeds_avg = (self.embeddings(inputs).sum(0) / self.window_size).view((1, -1))\n",
    "        # embeds矩阵按行求和在求平均,\n",
    "        # 注意用view((1,-1))修改tensor维度否则loss_function计算报错\n",
    "\n",
    "        outs = self.fc(embeds_avg)\n",
    "\n",
    "        outs = F.log_softmax(outs, dim=1)\n",
    "\n",
    "        return outs\n",
    "\n",
    "# =====模型配置\n",
    "\n",
    "# 超参\n",
    "vocab_size = len(vocab)\n",
    "embedding_size = 5\n",
    "window_size = 2\n",
    "learning =0.001\n",
    "\n",
    "model = CBOW(vocab_size , embedding_size, window_size).to(device)\n",
    "\n",
    "loss_function = nn.NLLLoss()\n",
    "\n",
    "optimizer = optim.SGD(model.parameters(), lr=learning_rate)\n",
    "\n",
    "# =====training\n",
    "losses = []\n",
    "\n",
    "for epoch in range(100):\n",
    "\n",
    "    total_loss = torch.Tensor([0])\n",
    "\n",
    "    for context, target in data:\n",
    "        \n",
    "        context_idxs = [word_to_ix[w] for w in context]\n",
    "        \n",
    "        context_var = autograd.Variable(torch.LongTensor(context_idxs)).to(device)\n",
    "        \n",
    "        model.zero_grad()\n",
    "        \n",
    "        log_probs = model(context_var)\n",
    "        \n",
    "        loss = loss_function(log_probs, autograd.Variable(torch.LongTensor([word_to_ix[target]])).to(device))\n",
    "        \n",
    "        loss.backward()\n",
    "        \n",
    "        optimizer.step()\n",
    "\n",
    "        total_loss += loss.data\n",
    "\n",
    "    losses.append(total_loss)\n",
    "\n",
    "print(losses)"
   ]
  },
  {
   "cell_type": "markdown",
   "metadata": {},
   "source": [
    "# CBOW网络拓扑\n",
    "![deque](pic/CBOW.png)\n",
    "\n",
    "# CBOW构建路程\n",
    "![deque](pic/CBOW0.png)\n",
    "![deque](pic/CBOW1.png)\n",
    "![deque](pic/CBOW2.png)\n",
    "![deque](pic/CBOW3.png)\n",
    "![deque](pic/CBOW4.png)\n",
    "![deque](pic/CBOW5.png)\n"
   ]
  }
 ],
 "metadata": {
  "kernelspec": {
   "display_name": "Python 3",
   "language": "python",
   "name": "python3"
  },
  "language_info": {
   "codemirror_mode": {
    "name": "ipython",
    "version": 3
   },
   "file_extension": ".py",
   "mimetype": "text/x-python",
   "name": "python",
   "nbconvert_exporter": "python",
   "pygments_lexer": "ipython3",
   "version": "3.7.0"
  }
 },
 "nbformat": 4,
 "nbformat_minor": 2
}
