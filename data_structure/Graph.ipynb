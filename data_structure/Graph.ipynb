{
 "cells": [
  {
   "cell_type": "markdown",
   "metadata": {},
   "source": [
    "![deque](pic/Graph.png)\n",
    "\n",
    "1. 图中的路径是由边连接的顶点序列，例如从V3到V1的路径：（V3,V4,V0,V1）\n",
    "2. 未加权路径长度是路径中边的数目\n",
    "3. 加权路径长度是路径中所有边的权重的总和\n",
    "4. 一个顶点也可能有额外信息，称为“有效载荷”"
   ]
  },
  {
   "cell_type": "code",
   "execution_count": 1,
   "metadata": {},
   "outputs": [],
   "source": [
    "class Vertex:\n",
    "    \n",
    "    def __init__(self, key):\n",
    "        self.id = key#顶点名称\n",
    "        self.connectedTo = {}#顶点连接管理字典,键：连接的顶点对象 / 值：权值\n",
    "            \n",
    "    def addNeighbor(self, nbr, weight=0):\n",
    "        self.connectedTo[nbr] = weight\n",
    "        \n",
    "    def __str__(self):\n",
    "        return str(self.id) + 'connectedTo:' + str([x.id for x in self.connectedTo])\n",
    "    \n",
    "    def getConnections(self):\n",
    "        return self.connectedTo.keys()\n",
    "    \n",
    "    def getId(self):\n",
    "        return self.id\n",
    "    \n",
    "    def getWeight(self, nbr):\n",
    "        return self.connectedTo[nbr]"
   ]
  },
  {
   "cell_type": "code",
   "execution_count": 5,
   "metadata": {},
   "outputs": [
    {
     "name": "stdout",
     "output_type": "stream",
     "text": [
      "hellow\n",
      "{<class '__main__.A'>: 1}\n"
     ]
    }
   ],
   "source": [
    "class A:\n",
    "    print('hellow')\n",
    "    \n",
    "a = A\n",
    "b = {a:1}\n",
    "print(b)"
   ]
  },
  {
   "cell_type": "code",
   "execution_count": 9,
   "metadata": {},
   "outputs": [],
   "source": [
    "class Graph:\n",
    "    \n",
    "    def __init__(self):\n",
    "        self.vertList = {} #键：顶点编号，值：节点对象 \n",
    "        self.numVertices = 0\n",
    "        \n",
    "    def addVertex(self, key):\n",
    "        self.numVertices = self.numVertices + 1\n",
    "        newVertex = Vertex(key)\n",
    "        self.vertList[key] = newVertex\n",
    "        return newVertex\n",
    "    \n",
    "    def getVertex(self, n):\n",
    "        if n in self.vertList:\n",
    "            return self.vertList[n]\n",
    "        else:\n",
    "            return None\n",
    "        \n",
    "    def __contain__(self, n):\n",
    "        return n in self.vertList\n",
    "    \n",
    "    def addEdge(self, f, t, cost=0):\n",
    "        if f not in self.vertList:\n",
    "            nv = self.addVertex(f)\n",
    "        if t not in self.vertList:\n",
    "            nv = self.addVertex(t)\n",
    "        self.vertList[f].addNeighbor(self.vertList[t], cost)\n",
    "        \n",
    "    def getVertices(self):\n",
    "        return self.vertList.keys()\n",
    "    \n",
    "    def __iter__(self):\n",
    "        return iter(self.vertList.values())\n",
    "        "
   ]
  },
  {
   "cell_type": "code",
   "execution_count": 28,
   "metadata": {},
   "outputs": [
    {
     "name": "stdout",
     "output_type": "stream",
     "text": [
      "(0, 1, 5)\n",
      "(0, 5, 2)\n"
     ]
    }
   ],
   "source": [
    "g = Graph()\n",
    "\n",
    "for i in range(6):\n",
    "    g.addVertex(i)\n",
    "\n",
    "g.addEdge(0, 1, 5)\n",
    "g.addEdge(0, 5, 2)\n",
    "\n",
    "for v in g:\n",
    "    for w in v.getConnections():\n",
    "         print(\"(%s, %s, %d)\" % (v.getId(),w.getId(), v.connectedTo[w]))"
   ]
  },
  {
   "cell_type": "code",
   "execution_count": 30,
   "metadata": {},
   "outputs": [
    {
     "name": "stdout",
     "output_type": "stream",
     "text": [
      "abc\n"
     ]
    }
   ],
   "source": [
    "a = 'abcd'\n",
    "print(a[:-1])"
   ]
  },
  {
   "cell_type": "markdown",
   "metadata": {},
   "source": [
    "## BFS广度优先搜索\n",
    "### 字梯问题\n",
    "![deque](pic/zitiwenti.png)"
   ]
  },
  {
   "cell_type": "code",
   "execution_count": 4,
   "metadata": {},
   "outputs": [
    {
     "name": "stdout",
     "output_type": "stream",
     "text": [
      "pale 4\n",
      "pole 3\n",
      "poll 2\n",
      "pool 1\n",
      "fool\n"
     ]
    }
   ],
   "source": [
    "'''\n",
    "1.将非线性结构转化为半线性结构的过程。经遍历而确定的弧类型中，最重要的一类即所谓的树边，\n",
    "它们与所有顶点共同构成了原图的一棵支撑树（森林），称作遍历树（traversal tree），BFS将是其中的一种\n",
    "2.构建的图与教程7.9的图不同，所以路径上的单词不同\n",
    "3.广度优先搜索，从任意节点出发构建一颗BFS树\n",
    "'''\n",
    "from pythonds.graphs import Graph\n",
    "from pythonds.basic import Queue\n",
    "\n",
    "def buildGraph():\n",
    "    wordlist = ['fool', 'pool', 'foil', 'foul', 'cool', 'poil',\n",
    "                'fail', 'pole', 'poll', 'pall', 'sage', 'pope', 'sale', 'pale',\n",
    "                 'page']\n",
    "    d = {}\n",
    "    g = Graph()\n",
    "    #构图规则\n",
    "    for word in wordlist:\n",
    "        for i in range(len(word)):\n",
    "            bucket = word[:i] + '_' + word[i+1:]\n",
    "            if bucket in d:\n",
    "                d[bucket].append(word)\n",
    "            else:\n",
    "                d[bucket] = [word]\n",
    "\n",
    "    # add vertices and edges for words in the same bucket\n",
    "    # 按照构图规则建立图数据结构\n",
    "    for bucket in d.keys():\n",
    "        for word1 in d[bucket]:\n",
    "            for word2 in d[bucket]:\n",
    "                # 只有满足至少有一个相邻顶点的顶点才会被添加到图中\n",
    "                if word1 != word2:\n",
    "                    g.addEdge(word1, word2)\n",
    "    return g\n",
    "\n",
    "#bfs遍历后形成一个以start为根的BFS遍历树结构\n",
    "def bfs(start, end_id):\n",
    "\n",
    "    start.setDistance(0)\n",
    "    start.setPred(None)\n",
    "    vertQueue = Queue()\n",
    "    vertQueue.enqueue(start)\n",
    "\n",
    "    while (not vertQueue.isEmpty()):\n",
    "\n",
    "        currentVert = vertQueue.dequeue()\n",
    "\n",
    "        for nbr in currentVert.getConnections():\n",
    "\n",
    "            if (nbr.getColor() == \"white\"):\n",
    "                nbr.setColor(\"gray\")\n",
    "                nbr.setDistance(currentVert.getDistance() + 1)\n",
    "                nbr.setPred(currentVert)\n",
    "                vertQueue.enqueue(nbr)\n",
    "                #找到end_id节点返回路径\n",
    "                if nbr.getId() == end_id:\n",
    "                    return traverse(nbr)\n",
    "\n",
    "        currentVert.setColor(\"black\")\n",
    "\n",
    "    return traverse(currentVert)\n",
    "\n",
    "#回溯节点前键\n",
    "def traverse(y):\n",
    "\n",
    "    x = y\n",
    "\n",
    "    while (x.getPred()):\n",
    "\n",
    "        print(x.getId(), x.getDistance())\n",
    "\n",
    "        x = x.getPred()\n",
    "\n",
    "    print(x.getId())\n",
    "\n",
    "if __name__==\"__main__\":\n",
    "    g = buildGraph()\n",
    "    start_vertex = g.getVertex('fool')\n",
    "    end_id = 'pale'\n",
    "    bfs(start_vertex, end_id)"
   ]
  },
  {
   "cell_type": "markdown",
   "metadata": {},
   "source": [
    "### BFS与DFS\n",
    "\n",
    "![deque](pic/BFS.png)\n",
    "<center>BFS<center>\n",
    "\n",
    "![deque](pic/DFS.png)\n",
    "<center>DFS<center>"
   ]
  },
  {
   "cell_type": "code",
   "execution_count": null,
   "metadata": {},
   "outputs": [],
   "source": [
    "#无向图\n",
    "grapy = {'北京': ['沈阳', '天津', '呼和浩特', '石家庄', '济南'],\n",
    "         '石家庄': ['北京', '太原', '郑州'],\n",
    "         '济南': ['北京', '青岛', '烟台' , '南京'],\n",
    "         '天津': ['北京', '秦皇岛', '北戴河'],\n",
    "         '沈阳': ['北京'],\n",
    "         '呼和浩特': ['北京'],\n",
    "         '太原': ['石家庄'],\n",
    "         '郑州': ['石家庄'],\n",
    "         '青岛': ['济南'],\n",
    "         '烟台': ['济南'],\n",
    "         '南京': ['济南'],\n",
    "         '秦皇岛': ['天津'],\n",
    "         '北戴河': ['天津']}\n",
    "\n",
    "def dfs(startvertex):\n",
    "    searched = []\n",
    "    stack = []\n",
    "\n",
    "    #栈的作用:保存上文,从栈顶开始处理对象——递归处理\n",
    "    stack.append(startvertex)\n",
    "\n",
    "    while stack:\n",
    "\n",
    "        currentvertex = stack.pop()\n",
    "        #存储dfs应该访问的顶点\n",
    "        searched.append(currentvertex)\n",
    "\n",
    "        for nbr in grapy[currentvertex]:\n",
    "            #判断节点是否被访问过\n",
    "            if nbr not in searched and nbr not in stack:\n",
    "                #\n",
    "                stack.append(nbr)\n",
    "\n",
    "    return searched\n",
    "\n",
    "def bfs(startvertex):\n",
    "    searched = []\n",
    "    quence = []\n",
    "    #队列：保存上文，从队首开始处理对象——顺序处理\n",
    "    quence.append(startvertex)\n",
    "\n",
    "    searched.append(startvertex)\n",
    "\n",
    "    while quence:\n",
    "\n",
    "        currentvertex = quence.pop(0)\n",
    "\n",
    "        for nbr in grapy[currentvertex]:\n",
    "            # 判断节点是否被访问过\n",
    "            if nbr not in searched:\n",
    "                quence.append(nbr)\n",
    "                # 记录访问节点\n",
    "                searched.append(nbr)\n",
    "\n",
    "    return searched\n",
    "\n",
    "if __name__=='__main__':\n",
    "    print('dfs', dfs('北京'))\n",
    "    #print('bfs', bfs('北京'))"
   ]
  }
 ],
 "metadata": {
  "kernelspec": {
   "display_name": "Python 3",
   "language": "python",
   "name": "python3"
  },
  "language_info": {
   "codemirror_mode": {
    "name": "ipython",
    "version": 3
   },
   "file_extension": ".py",
   "mimetype": "text/x-python",
   "name": "python",
   "nbconvert_exporter": "python",
   "pygments_lexer": "ipython3",
   "version": "3.6.4"
  }
 },
 "nbformat": 4,
 "nbformat_minor": 2
}
