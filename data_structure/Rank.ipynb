{
 "cells": [
  {
   "cell_type": "markdown",
   "metadata": {},
   "source": [
    "## No1 冒泡排序\n",
    "**每一次遍历把序列的最大的元素放到遍历的最后一个索引**\n"
   ]
  },
  {
   "cell_type": "code",
   "execution_count": 6,
   "metadata": {},
   "outputs": [
    {
     "name": "stdout",
     "output_type": "stream",
     "text": [
      "[17, 20, 26, 31, 44, 54, 55, 77, 93]\n"
     ]
    }
   ],
   "source": [
    "alist = [54,26,93,17,77,31,44,55,20]\n",
    "\n",
    "def bubble_sort(alist):\n",
    "    alist_len = len(alist)\n",
    "    for point1 in range(alist_len):\n",
    "        for point2 in range(0, alist_len - point1 - 1, 1):\n",
    "            if alist[point2] > alist[point2 + 1]:\n",
    "                alist[point2], alist[point2 + 1] = alist[point2 + 1], alist[point2]\n",
    "                \n",
    "    return alist\n",
    "\n",
    "if __name__==\"__main__\":\n",
    "    alist = bubble_sort(alist)\n",
    "    print(alist)"
   ]
  },
  {
   "cell_type": "markdown",
   "metadata": {},
   "source": [
    "## No2 选择排序\n",
    "**每一次遍历把最小的元素放到遍历开始的索引**"
   ]
  },
  {
   "cell_type": "code",
   "execution_count": 10,
   "metadata": {},
   "outputs": [
    {
     "name": "stdout",
     "output_type": "stream",
     "text": [
      "[17, 20, 26, 31, 44, 54, 55, 77, 93]\n"
     ]
    }
   ],
   "source": [
    "alist = [54,26,93,17,77,31,44,55,20]\n",
    "\n",
    "def select_sort(alist):\n",
    "    alist_len = len(alist)\n",
    "    for point1 in range(alist_len):\n",
    "        for point2 in range(point1 + 1, alist_len, 1):\n",
    "            if alist[point1] > alist[point2]:\n",
    "                alist[point1], alist[point2] = alist[point2], alist[point1]\n",
    "    return alist\n",
    "if __name__==\"__main__\":\n",
    "    alist = select_sort(alist)\n",
    "    print(alist)"
   ]
  },
  {
   "cell_type": "markdown",
   "metadata": {},
   "source": [
    "## No3 插入排序\n",
    "**向后遍历序列找到触发交换条件的元素索引，从此索引开始向前遍历并开始交换元素直到退出向前遍历，再从触发条件的序列索引继续向后遍历**"
   ]
  },
  {
   "cell_type": "code",
   "execution_count": 2,
   "metadata": {},
   "outputs": [
    {
     "name": "stdout",
     "output_type": "stream",
     "text": [
      "[17, 20, 26, 31, 44, 54, 55, 77, 93]\n"
     ]
    }
   ],
   "source": [
    "alist = [54,26,93,17,77,31,44,55,20]\n",
    "\n",
    "def insert_sort(alist):\n",
    "    alist_len = len(alist)\n",
    "    for point1 in range(1, alist_len, 1):\n",
    "        if alist[point1] < alist[point1 - 1]:\n",
    "            for point2 in range(point1, 0, -1):\n",
    "                if alist[point2] < alist[point2 - 1]:\n",
    "                    alist[point2], alist[point2 - 1] = alist[point2 - 1], alist[point2]\n",
    "                else:\n",
    "                    break\n",
    "                \n",
    "    return alist\n",
    "if __name__==\"__main__\":\n",
    "    alist = insert_sort(alist)\n",
    "    print(alist)"
   ]
  },
  {
   "cell_type": "markdown",
   "metadata": {},
   "source": [
    "## No4 希尔排序\n",
    "1. 将序列按gap代表的序列索引号进行分割\n",
    "2. gap = ListLen // n\n",
    "2. 每个子序列进行插入排序\n",
    "3. 每轮需要排序的子序列个数为间隔数gap\n",
    "4. 每轮子序的长度至少为：从一次分割开始到本次分割，n的累计乘积\n",
    "5. 缩短分割间隔gap直至间隔gap为1，对序列全体做插入排序"
   ]
  },
  {
   "cell_type": "code",
   "execution_count": 4,
   "metadata": {},
   "outputs": [
    {
     "name": "stdout",
     "output_type": "stream",
     "text": [
      "[17, 20, 26, 31, 44, 54, 55, 77, 93]\n"
     ]
    }
   ],
   "source": [
    "alist = [54, 26, 93, 17, 77, 31, 44, 55, 20]\n",
    "\n",
    "def hell_sort(alist):\n",
    "    alist_len = len(alist)\n",
    "\n",
    "    gap = alist_len // 2\n",
    "\n",
    "    while gap:\n",
    "        for num in range(gap): # gap每次划分需要排序的子序列数\n",
    "            for point1 in range(gap + num, alist_len, gap):\n",
    "                if alist[point1] < alist[point1 - gap]:\n",
    "                    for point2 in range(point1, 0, -gap):\n",
    "                        if (point2 - gap) < 0:\n",
    "                            break\n",
    "                        elif alist[point2] < alist[point2 - gap]:\n",
    "                            alist[point2], alist[point2 - gap] = alist[point2 - gap], alist[point2]\n",
    "                        else:\n",
    "                            break\n",
    "        gap = gap // 2\n",
    "\n",
    "    return alist\n",
    "\n",
    "\n",
    "if __name__ == \"__main__\":\n",
    "    alist = hell_sort(alist)\n",
    "    print(alist)"
   ]
  },
  {
   "cell_type": "markdown",
   "metadata": {},
   "source": [
    "## No5 归并排序\n",
    "1. 递归分解：将原问题通过递归分解为若干个规模较小，相互独立，与原问题形式相同的子问题\n",
    "2. 合并解决：对子问题进行合并解决返回已解决的合并子问题\n",
    "3. 最小问题定位与递归终止"
   ]
  },
  {
   "cell_type": "code",
   "execution_count": 6,
   "metadata": {},
   "outputs": [
    {
     "name": "stdout",
     "output_type": "stream",
     "text": [
      "[17, 20, 26, 31, 44, 54, 55, 77, 93]\n"
     ]
    }
   ],
   "source": [
    "alist = [54, 26, 93, 17, 77, 31, 44, 55, 20]\n",
    "\n",
    "def _divide(alist):\n",
    "    #最小问题定位与递归终止\n",
    "    if len(alist) > 1:\n",
    "\n",
    "        break_point = len(alist) // 2\n",
    "        \n",
    "        #递归拆分问题\n",
    "        left = _divide(alist[:break_point])\n",
    "        right = _divide(alist[break_point:])\n",
    "        \n",
    "        #问题合并与解决\n",
    "        merge_list = _merge(left, right)\n",
    "        \n",
    "        return merge_list\n",
    "    else:\n",
    "        return alist #递归终止条件\n",
    "\n",
    "def _merge(left,right):\n",
    "    \n",
    "    left_index = len(left) - 1\n",
    "    right_index = len(right) - 1\n",
    "    left_point = 0\n",
    "    right_point = 0\n",
    "    merge_list = []\n",
    "    \n",
    "    while left_point <= left_index and right_point <= right_index:\n",
    "        if left[left_point] < right[right_point]:\n",
    "            merge_list.append(left[left_point])\n",
    "            left_point += 1\n",
    "        else:\n",
    "            merge_list.append(right[right_point])\n",
    "            right_point += 1\n",
    "            \n",
    "        \n",
    "    merge_list += left[left_point:] # a = [1,2,3] print(a[3:])——>[]\n",
    "    merge_list += right[right_point:]\n",
    "        \n",
    "    return merge_list\n",
    "            \n",
    "if __name__ == \"__main__\":\n",
    "    alist = _divide(alist)\n",
    "    print(alist)"
   ]
  },
  {
   "cell_type": "markdown",
   "metadata": {},
   "source": [
    "## 快速排序\n",
    "1. 在序列中确定分割点元素\n",
    "2. 大于分割点元素的元素放在分割点元素右边形成新子序列right，小于等于分割点元素的元素放在分割点元素左边形成新子序列left\n",
    "3. right,left子序列递归操作\n",
    "4. 当子序列长度小于等于1时，终止递归返回上一层\n",
    "\n",
    "### 思想： 治—>分—>合并"
   ]
  },
  {
   "cell_type": "code",
   "execution_count": 16,
   "metadata": {},
   "outputs": [
    {
     "name": "stdout",
     "output_type": "stream",
     "text": [
      "[17, 17, 20, 26, 31, 44, 54, 55, 77, 93]\n"
     ]
    }
   ],
   "source": [
    "alist = [54, 26, 93, 17, 17, 77, 31, 44, 55, 20]\n",
    "\n",
    "def quick_sort(alist):\n",
    "    left = []#存储小于分割点的元素\n",
    "    right = []#存储大于分割点的元素\n",
    "    equal = []#存储分割点本身、与之相同的元素\n",
    "    if len(alist) > 1:\n",
    "\n",
    "        break_point = alist[0]\n",
    "\n",
    "        for element in alist:\n",
    "\n",
    "            if element > break_point:\n",
    "                right.append(element)\n",
    "            elif element < break_point:\n",
    "                left.append(element)\n",
    "            else:\n",
    "                equal.append(element)\n",
    "\n",
    "        left = quick_sort(left)\n",
    "        right = quick_sort(right)\n",
    "\n",
    "        return left + equal + right\n",
    "    else:\n",
    "        return alist\n",
    "\n",
    "\n",
    "if __name__ == \"__main__\":\n",
    "    print(quick_sort(alist))        "
   ]
  },
  {
   "cell_type": "code",
   "execution_count": 19,
   "metadata": {},
   "outputs": [
    {
     "name": "stdout",
     "output_type": "stream",
     "text": [
      "因为把分割点放到了新子序列中，所以出现了死循环\n"
     ]
    }
   ],
   "source": [
    "alist = [54, 26, 93, 17, 17, 77, 31, 44, 55, 20]\n",
    "\n",
    "def quick_sort(alist):\n",
    "    left = []\n",
    "    right = []\n",
    "    equal = []\n",
    "    if len(alist) > 1:\n",
    "\n",
    "        break_point = alist[0]\n",
    "\n",
    "        for element in alist:\n",
    "\n",
    "            if element > break_point:\n",
    "                right.append(element)\n",
    "            elif element <= break_point:#因为把分割点放到了新子序列中，所以出现了死循环\n",
    "                left.append(element)\n",
    "\n",
    "        left = quick_sort(left)\n",
    "        right = quick_sort(right)\n",
    "\n",
    "        return left + right\n",
    "    else:\n",
    "        return alist\n",
    "\n",
    "\n",
    "if __name__ == \"__main__\":\n",
    "    print('因为把分割点放到了新子序列中，所以出现了死循环')        "
   ]
  }
 ],
 "metadata": {
  "kernelspec": {
   "display_name": "Python 3",
   "language": "python",
   "name": "python3"
  },
  "language_info": {
   "codemirror_mode": {
    "name": "ipython",
    "version": 3
   },
   "file_extension": ".py",
   "mimetype": "text/x-python",
   "name": "python",
   "nbconvert_exporter": "python",
   "pygments_lexer": "ipython3",
   "version": "3.6.4"
  }
 },
 "nbformat": 4,
 "nbformat_minor": 2
}
