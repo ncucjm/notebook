{
 "cells": [
  {
   "cell_type": "code",
   "execution_count": 3,
   "metadata": {},
   "outputs": [
    {
     "name": "stdout",
     "output_type": "stream",
     "text": [
      "False\n"
     ]
    }
   ],
   "source": [
    "#无顺序查询列表中是否存在某一个item\n",
    "def sequentialSearch(alist,item):\n",
    "    length = len(alist)\n",
    "    pos = 0\n",
    "    while(pos < length):\n",
    "        if alist[pos] == item:\n",
    "            return True\n",
    "        else:\n",
    "            pos += 1\n",
    "    return False\n",
    "\n",
    "alist = [1,2,3,4,5]\n",
    "print(sequentialSearch(alist,6))"
   ]
  },
  {
   "cell_type": "code",
   "execution_count": 5,
   "metadata": {},
   "outputs": [
    {
     "name": "stdout",
     "output_type": "stream",
     "text": [
      "False\n"
     ]
    }
   ],
   "source": [
    "#有序表中查询一个item是否存在\n",
    "def sequentialSearch1(alist,item):\n",
    "    length = len(alist)\n",
    "    pos = 0\n",
    "    while(pos<length and alist[pos] <= item):\n",
    "        if alist[pos] == item:\n",
    "            return True\n",
    "        else:\n",
    "            pos += 1\n",
    "    return False\n",
    "\n",
    "alist = [1,23,43,123,145,233]\n",
    "print(sequentialSearch1(alist,15))\n"
   ]
  },
  {
   "cell_type": "markdown",
   "metadata": {},
   "source": [
    "## 二分查找的核心：1.序列有序 2.分治\n",
    "![Node](pic/erfensearch.png)\n",
    "<center>二分查找复杂度分析<center>"
   ]
  },
  {
   "cell_type": "code",
   "execution_count": 22,
   "metadata": {},
   "outputs": [
    {
     "name": "stdout",
     "output_type": "stream",
     "text": [
      "False\n"
     ]
    }
   ],
   "source": [
    "#二分查找有序列表\n",
    "#mycode\n",
    "import math\n",
    "import copy\n",
    "def binarySearch1(alist, item):\n",
    "    left = 0\n",
    "    right = len(alist) - 1\n",
    "    checkpos = 0\n",
    "    while (right - left) != 0:\n",
    "\n",
    "        tempcheckpos = copy.deepcopy(checkpos)\n",
    "        #判断左右节点相遇前，左右节点的移动情况\n",
    "        \n",
    "        checkpos = math.floor((left + right) / 2)\n",
    "\n",
    "        if left == right - 1:#左右两个节点相邻的情况\n",
    "            if tempcheckpos > checkpos:\n",
    "                right = left\n",
    "            else:\n",
    "                checkpos = right\n",
    "                left = right\n",
    "\n",
    "        if alist[checkpos] == item:\n",
    "            return True\n",
    "        elif alist[checkpos] > item:\n",
    "            right = checkpos\n",
    "            continue\n",
    "        elif alist[checkpos] < item:\n",
    "            left = checkpos\n",
    "            continue\n",
    "    return False\n",
    "\n",
    "\n",
    "a = [1, 22, 33, 41, 52, 64, 75, 81, 93, 107]\n",
    "print(binarySearch(a, 94))"
   ]
  },
  {
   "cell_type": "code",
   "execution_count": 8,
   "metadata": {},
   "outputs": [
    {
     "name": "stdout",
     "output_type": "stream",
     "text": [
      "2\n"
     ]
    }
   ],
   "source": [
    "import math\n",
    "a = 5\n",
    "b = 2\n",
    "print (math.floor(a/b))"
   ]
  },
  {
   "cell_type": "code",
   "execution_count": 28,
   "metadata": {},
   "outputs": [
    {
     "name": "stdout",
     "output_type": "stream",
     "text": [
      "False\n"
     ]
    }
   ],
   "source": [
    "#tech code\n",
    "def binarySearch(alist, item):\n",
    "        first = 0\n",
    "        last = len(alist)-1\n",
    "        found = False\n",
    "\n",
    "        while first<=last and not found: #停止条件左端的值查过右端点\n",
    "            midpoint = (first + last)//2 #取整除，向下取整\n",
    "            if alist[midpoint] == item:\n",
    "                found = True\n",
    "            else:\n",
    "                if item < alist[midpoint]:\n",
    "                    last = midpoint-1\n",
    "                else:\n",
    "                    first = midpoint+1\n",
    "\n",
    "        return found\n",
    "\n",
    "testlist = [0, 1, 2, 8, 13, 17, 19, 32, 42,]\n",
    "print(binarySearch(testlist, 0.99))\n",
    "#print(binarySearch(testlist, 13)"
   ]
  },
  {
   "cell_type": "code",
   "execution_count": 27,
   "metadata": {},
   "outputs": [
    {
     "name": "stdout",
     "output_type": "stream",
     "text": [
      "5\n"
     ]
    }
   ],
   "source": [
    "print(11//2)"
   ]
  },
  {
   "cell_type": "code",
   "execution_count": 1,
   "metadata": {},
   "outputs": [
    {
     "name": "stdout",
     "output_type": "stream",
     "text": [
      "False\n",
      "True\n"
     ]
    }
   ],
   "source": [
    "#teach code 递归二分查找有序列表\n",
    "def binarySearch2(alist, item):\n",
    "    if len(alist) == 0:#递归退出条件\n",
    "        return False\n",
    "    else:\n",
    "        midpoint = len(alist)//2\n",
    "        if alist[midpoint] == item:\n",
    "            return True\n",
    "        else:\n",
    "            if item < alist[midpoint]:\n",
    "                return binarySearch2(alist[:midpoint], item)\n",
    "            if item > alist[midpoint]:\n",
    "                return binarySearch2(alist[midpoint+1:],item)\n",
    "            \n",
    "testlist = [0,1,2,3,4,5,6,7,8]\n",
    "print(binarySearch2(testlist,10))\n",
    "print(binarySearch2(testlist,5))\n"
   ]
  },
  {
   "cell_type": "code",
   "execution_count": 2,
   "metadata": {},
   "outputs": [
    {
     "name": "stdout",
     "output_type": "stream",
     "text": [
      "[1, 2, 3]\n",
      "[3, 4, 5, 6]\n"
     ]
    }
   ],
   "source": [
    "a = [1,2,3,4,5,6]\n",
    "print(a[:3])#不包含终点\n",
    "print(a[2:])#包含起点"
   ]
  },
  {
   "cell_type": "markdown",
   "metadata": {},
   "source": [
    "## hash查找\n",
    "\n",
    "1. hash表：项由hash函数映射为hash值并存放在hash值所代表的地址中的表结构\n",
    "2. hash函数：项与该项在hash表中所属的hash值之间的映射关系，hash函数的值域是hash表的长度所包含的非负整数\n",
    "   * hash函数：余数法,例如：hashvalue = item%len(hashlist),因为取余数的结果都在hash表所覆盖的地址范围内\n",
    "   * 没有系统的方法构造完美的hash函数，——完美hash函数：所有存储项经过一次hash都能正确存储到hash表中不产生冲突\n",
    "   * 冲突：当两个不同的项经过hash函数后，得到相同的hash值\n",
    "   * 冲突解决：\n",
    "       * 查找hash表，尝试查找到另一个空索引以保存导致冲突的项，线性探测开放寻址\n",
    "       * 经过线性探测开放寻址建立的hash表，需要以相同的方式来搜索项\n",
    "       * 线性探测开放寻址会遇到项聚集问题，解决办法：扩展线性探测技术，使得不是顺序地查找下一个索引，而是跳过下一个索引，从而更均匀地分布已经引起冲突的项\n",
    "       * 为了解决冲突而重新确定的hash的过程称为：重新hash           \n",
    "           * rehash(pos)=(pos + 1)％sizeoftable。 加3rehash 可以定义为rehash(pos)=(pos + 3)％sizeoftable。一般来说，rehash(pos)=(pos + skip)％sizeoftable。重要的是要注意，“跳过”的大小必须使得表中的所有槽最终都被访问。否则，表的一部分将不被使用。为了确保这一点，通常建议表大小是素数\n",
    "           * 二次探测开放寻址（二次表示探测步长的平方）:这意味着如果第一哈希值是 h，则连续值是h + 1，h + 4，h + 9，h + 16，等等。换句话说，二次探测使用由连续正整数平方组成的跳跃。\n",
    "       * 可以用一hash值存储一个链表的方式来解决冲突，使得一个hash值可以通过链表存储多个项\n",
    "3. hash值：hash函数的因变量，hash表的索引号"
   ]
  },
  {
   "cell_type": "markdown",
   "metadata": {},
   "source": [
    "![Node](pic/hash.png)\n",
    "<center>用链表来解决冲突<center>"
   ]
  },
  {
   "cell_type": "code",
   "execution_count": 34,
   "metadata": {},
   "outputs": [],
   "source": [
    "class hashtable:#哈希表实现一个字典数据结构\n",
    "    def __init__(self, num):\n",
    "        self.slots = [None] * num\n",
    "        self.data = [None] * num\n",
    "\n",
    "    def hashfunc(self, astring, tablesize):\n",
    "        sum = 0\n",
    "        for pos in range(len(astring)):\n",
    "            sum = sum + ord(astring[pos])#ord()返回对应的 ASCII 数值，或者 Unicode 数值\n",
    "        return sum%tablesize\n",
    "    \n",
    "#     def hashfunc(self,key,size):\n",
    "#         return key%size\n",
    "\n",
    "\n",
    "    def rehash(self, oldhash, size):\n",
    "        return (oldhash+1) % size\n",
    "\n",
    "    def put(self, key, data):\n",
    "        hashvalue = self.hashfunc(key, len(self.slots))\n",
    "\n",
    "        count = 0\n",
    "        for i in self.slots:\n",
    "            if i != None:\n",
    "               count += 1\n",
    "            if count == len(self.slots):\n",
    "                return \"the dictionary has no space\"\n",
    "\n",
    "        if self.slots[hashvalue] == None:#hhash值对应位置的key值为空，在相应hashvalue值处填入键与值\n",
    "            self.slots[hashvalue] = key\n",
    "            self.data[hashvalue] = data\n",
    "        else:\n",
    "            if self.slots[hashvalue] == key:#在hashvalue对应的slots中，写入的键已经存在，替换值\n",
    "                self.data[hashvalue] = data\n",
    "            else:#hashvalue对应的slots已经有其他Key填充，重新寻址\n",
    "\n",
    "                nextslots = self.rehash(hashvalue, len(self.slots))\n",
    "                while self.slots[nextslots] != None and self.slots[nextslots] != key:\n",
    "                    #确定nextslots的条件，hashtable中hashvalue的槽为空，或hashvalue值对应的slot键值与写入键值相同\n",
    "                    nextslots = self.rehash(nextslots, len(self.slots))\n",
    "\n",
    "            if self.slots[nextslots] == None :\n",
    "                self.slots[nextslots] = key\n",
    "                self.data[nextslots] = data\n",
    "            else:\n",
    "                self.data[nextslots] = data\n",
    "\n",
    "    def get(self, key):\n",
    "        hashvalue = self.hashfunc(key, len(self.slots))\n",
    "\n",
    "        if self.slots[hashvalue] == key:\n",
    "            return self.data[hashvalue]\n",
    "        else:\n",
    "            if self.slots[hashvalue] == None:\n",
    "                return None\n",
    "            else:\n",
    "                nexthash = self.rehash(hashvalue, len(self.slots))\n",
    "                num = 1\n",
    "                while self.slots[nexthash] != key and num != len(self.slots) - 1:\n",
    "                    nexthash = self.rehash(nexthash, len(self.slots))\n",
    "                    num += 1\n",
    "\n",
    "                if self.slots[nexthash] == key:\n",
    "                    return self.data[nexthash]\n",
    "                else:\n",
    "                    return None\n",
    "\n",
    "    def __getitem__(self, key):\n",
    "        return self.get(key)\n",
    "\n",
    "    def __setitem__(self, key, data):\n",
    "        return self.put(key, data)"
   ]
  },
  {
   "cell_type": "code",
   "execution_count": 3,
   "metadata": {},
   "outputs": [
    {
     "name": "stdout",
     "output_type": "stream",
     "text": [
      "4\n",
      "5\n",
      "6\n",
      "7\n",
      "8\n",
      "9\n",
      "10\n",
      "0\n",
      "1\n",
      "2\n",
      "3\n"
     ]
    }
   ],
   "source": [
    "def rehash(oldhash, size):\n",
    "    return (oldhash+1) % size\n",
    "\n",
    "oldhash = 3\n",
    "size = 11\n",
    "\n",
    "for i in range(size):\n",
    "    oldhash = rehash(oldhash, size)\n",
    "    print(oldhash)"
   ]
  },
  {
   "cell_type": "code",
   "execution_count": 35,
   "metadata": {},
   "outputs": [
    {
     "name": "stdout",
     "output_type": "stream",
     "text": [
      "['bird', 'cow', 'chicken', None, None, 'dog', 'cat', 'tiger', 'goat', 'lion', 'pig']\n",
      "pig\n"
     ]
    }
   ],
   "source": [
    "H = hashtable(11)\n",
    "H['54']=\"cat\"\n",
    "H['26']=\"dog\"\n",
    "H['93']=\"lion\"\n",
    "H['17']=\"tiger\"\n",
    "H['77']=\"bird\"\n",
    "H['31']=\"cow\"\n",
    "H['44']=\"goat\"\n",
    "H['55']=\"pig\"\n",
    "H['20']=\"chicken\"\n",
    "\n",
    "# H[54]=\"cat\"\n",
    "# H[26]=\"dog\"\n",
    "# H[93]=\"lion\"\n",
    "# H[17]=\"tiger\"\n",
    "# H[77]=\"bird\"\n",
    "# H[31]=\"cow\"\n",
    "# H[44]=\"goat\"\n",
    "# H[55]=\"pig\"\n",
    "# H[20]=\"chicken\"\n",
    "#print(H.slots)\n",
    "print(H.data)\n",
    "print(H['55'])"
   ]
  },
  {
   "cell_type": "markdown",
   "metadata": {},
   "source": [
    "## 冒泡排序\n",
    "![Node](pic/maopao.png)\n",
    "<center>冒泡排序<center>\n",
    "\n",
    "**时间复杂**： 假设排序的规模是n，则需要比较的次数为n-1到1的正整数求和次：（1/2)n^2 - (1/2)n，时间复杂度为O（n^2）"
   ]
  },
  {
   "cell_type": "code",
   "execution_count": null,
   "metadata": {},
   "outputs": [],
   "source": [
    "def bubbleSort(alist):\n",
    "    for listlen in range(len(alist)-1, 0, -1):#range(5,0,-1)-> 5 4 3 2 1不包含端点0\n",
    "        for i in range(listlen):\n",
    "            if alist[i] > alist[i + 1]:\n",
    "                alist[i], alist[i+1] = alist[i+1], alist[i]\n",
    "\n",
    "alist = [54,26,93,17,77,31,44,55,20]\n",
    "bubbleSort(alist)\n",
    "print(alist)"
   ]
  },
  {
   "cell_type": "markdown",
   "metadata": {},
   "source": [
    "### 短冒泡排序：\n",
    "    如果在遍历期间没有交换，则我们知道该列表已排序。如果发现列表已排序，可以修改冒泡排序提前停止。这意味着对于只需要遍历几次列表，冒泡排序具有识别排序列表和停止的优点。"
   ]
  },
  {
   "cell_type": "code",
   "execution_count": 1,
   "metadata": {},
   "outputs": [
    {
     "name": "stdout",
     "output_type": "stream",
     "text": [
      "[17, 20, 26, 31, 44, 54, 55, 77, 93]\n"
     ]
    }
   ],
   "source": [
    "\n",
    "def shortBubbleSort(alist):\n",
    "    exchanges = True\n",
    "    passnum = len(alist) - 1\n",
    "    while passnum > 0 and exchanges:\n",
    "\n",
    "        exchanges = False\n",
    "        # 只要没有一次交换（序列已经有序），则停止排序\n",
    "\n",
    "        for i in range(passnum):\n",
    "            if alist[i] > alist[i + 1]:\n",
    "                exchanges = True\n",
    "                alist[i], alist[i+1] = alist[i+1], alist[i]\n",
    "        passnum = passnum - 1\n",
    "\n",
    "alist = [54,26,93,17,77,31,44,55,20]\n",
    "shortBubbleSort(alist)\n",
    "print(alist)"
   ]
  },
  {
   "cell_type": "markdown",
   "metadata": {},
   "source": [
    "## 选择排序\n",
    "![Node](pic/select.png)\n",
    "<center>选择排序<center>\n",
    "\n",
    "**时间复杂度**：O(n^2),比较次数与冒泡排序相似，交换次数比冒泡排序少"
   ]
  },
  {
   "cell_type": "code",
   "execution_count": null,
   "metadata": {},
   "outputs": [],
   "source": [
    "def selectSort(alist):\n",
    "    for passnum in range(len(alist) - 1, 0, -1):\n",
    "        for index in range(passnum - 1):\n",
    "            if alist[passnum] < alist[index]:\n",
    "                alist[passnum], alist[index] = alist[index], alist[passnum]\n",
    "\n",
    "alist = [54,26,93,17,77,31,44,55,20]\n",
    "selectSort(alist)\n",
    "print(alist)"
   ]
  },
  {
   "cell_type": "markdown",
   "metadata": {},
   "source": [
    "## 插入排序"
   ]
  },
  {
   "cell_type": "markdown",
   "metadata": {},
   "source": [
    "![Node](pic/charurank.png)\n",
    "<center>插入排序<center>\n",
    "    \n",
    "**时间复杂度：**O(n^2)"
   ]
  },
  {
   "cell_type": "code",
   "execution_count": 1,
   "metadata": {},
   "outputs": [
    {
     "name": "stdout",
     "output_type": "stream",
     "text": [
      "[17, 20, 26, 31, 44, 54, 55, 77, 93, 199]\n"
     ]
    }
   ],
   "source": [
    "#my code1\n",
    "def InsertSort(alist):\n",
    "    for passnum in range(0, len(alist), 1):\n",
    "        if passnum == 0:\n",
    "            continue\n",
    "        elif passnum == 1:\n",
    "            if alist[0] > alist[1]:\n",
    "                alist[0], alist[1] = alist[1], alist[0]\n",
    "        else:\n",
    "            temp = alist[passnum]\n",
    "            for i in range(passnum-1, -1, -1):\n",
    "                if i == 0:\n",
    "                    if alist[0] > temp:\n",
    "                        alist[1] = alist[0]\n",
    "                        alist[0] = temp\n",
    "                    else:\n",
    "                        alist[1] = temp\n",
    "                elif alist[i] > temp:\n",
    "                    alist[i+1] = alist[i]\n",
    "                else:\n",
    "                    alist[i+1] = temp\n",
    "                    break\n",
    "\n",
    "alist = [54,26,93,17,77,31,44,55,20,199]\n",
    "InsertSort(alist)\n",
    "print(alist)"
   ]
  },
  {
   "cell_type": "code",
   "execution_count": 13,
   "metadata": {},
   "outputs": [
    {
     "name": "stdout",
     "output_type": "stream",
     "text": [
      "[14, 16, 17, 20, 31, 44, 55, 77, 93, 199]\n"
     ]
    }
   ],
   "source": [
    "#my code2\n",
    "def InsertSort(alist):\n",
    "    for passnum in range(0, len(alist), 1):\n",
    "            temp = alist[passnum]\n",
    "            for position in range(passnum-1, -1, -1):\n",
    "                if alist[position] > temp:\n",
    "                    alist[passnum] = alist[position]\n",
    "                    passnum = position\n",
    "                else:\n",
    "                    break\n",
    "            alist[passnum] = temp\n",
    "\n",
    "alist = [14,16,93,17,77,31,44,55,20,199]\n",
    "InsertSort(alist)\n",
    "print(alist)"
   ]
  },
  {
   "cell_type": "code",
   "execution_count": 3,
   "metadata": {},
   "outputs": [
    {
     "name": "stdout",
     "output_type": "stream",
     "text": [
      "[17, 20, 26, 31, 44, 54, 55, 77, 93]\n"
     ]
    }
   ],
   "source": [
    "#tech code\n",
    "def insertionSort(alist):\n",
    "   for index in range(1,len(alist)):\n",
    "\n",
    "     currentvalue = alist[index]\n",
    "     position = index\n",
    "\n",
    "     while position>0 and alist[position-1]>currentvalue:\n",
    "         alist[position]=alist[position-1]\n",
    "         position = position-1\n",
    "\n",
    "     alist[position]=currentvalue\n",
    "\n",
    "alist = [54,26,93,17,77,31,44,55,20]\n",
    "insertionSort(alist)\n",
    "print(alist)"
   ]
  },
  {
   "cell_type": "markdown",
   "metadata": {},
   "source": [
    "## 希尔排序——递减增量排序\n",
    "![Node](pic/shellsort.png)\n",
    "<center>希尔排序<center>\n",
    "\n",
    "**时间复杂度:O(n)~O(n^2)之间，看希尔排序的增量选择**\n",
    "\n",
    "1. Shell排序通过将数据分成不同的组，先对每一组进行排序，然后再对所有的元素进行一次插入排序，以减少数据交换和移动的次数。\n",
    "\n",
    "2. 希尔排序是按照不同步长对元素进行插入排序，当刚开始元素很无序的时候，步长最大，所以插入排序的元素个数很少，速度很快；当元素基本有序了，步长很小，插入排序对于有序的序列效率很高。\n",
    "\n",
    "3. 由于多次插入排序，我们知道一次插入排序是稳定的，不会改变相同元素的相对顺序，但在不同的插入排序过程中，相同的元素可能在各自的插入排序中移动，最后其稳定性就会被打乱，所以，Shell排序是不稳定的。\n",
    "\n",
    "4. 希尔排序平均效率是O(nlogn)。其中分组的合理性会对算法产生重要的影响。现在多用D.E.Knuth的分组方法。\n",
    "\n",
    "![Node](pic/shellsort1.png)"
   ]
  },
  {
   "cell_type": "code",
   "execution_count": 30,
   "metadata": {},
   "outputs": [
    {
     "name": "stdout",
     "output_type": "stream",
     "text": [
      "the gap:15 the 1 ranked:\n",
      "[1, 9, 2, 10, 3, 11, 4, 12, 5, 13, 6, 14, 7, 15, 8, 16]\n",
      "the gap:7 the 2 ranked:\n",
      "[1, 5, 2, 6, 3, 7, 4, 8, 9, 13, 10, 14, 11, 15, 12, 16]\n",
      "the gap:3 the 3 ranked:\n",
      "[1, 3, 2, 4, 5, 7, 6, 8, 9, 11, 10, 12, 13, 15, 14, 16]\n",
      "the gap:1 the 4 ranked:\n",
      "[1, 2, 3, 4, 5, 6, 7, 8, 9, 10, 11, 12, 13, 14, 15, 16]\n"
     ]
    }
   ],
   "source": [
    "#my code\n",
    "#减半缩小希尔排序\n",
    "import math\n",
    "\n",
    "def shellsort(alist):\n",
    "    #gap = len(alist)//2\n",
    "    n = math.floor(math.log2(len(alist)))\n",
    "    gap = int(2**n - 1)\n",
    "    num = 0\n",
    "    while gap > 0:\n",
    "        for startposition in range(gap):\n",
    "            \n",
    "            subinsertsort(alist, startposition, gap)\n",
    "            #按gap的宽度给序列分成子序列再对每一个子序列进行插入排序\n",
    "        num += 1\n",
    "        print('the' + ' ' + 'gap:' + str(gap) + ' ' + 'the' + ' ' + str(num) +' '+ 'ranked:')\n",
    "        print(alist)\n",
    "        \n",
    "        n = n - 1\n",
    "        gap = int(2**n - 1)\n",
    "\n",
    "\n",
    "def subinsertsort(alist, startposition, shellnode):\n",
    "    for passnum in range(startposition + shellnode, len(alist), shellnode):\n",
    "        temp = alist[passnum]\n",
    "\n",
    "        for position in range(passnum - shellnode, startposition - 1,  - shellnode):\n",
    "            if alist[position] > temp:\n",
    "                alist[passnum] = alist[position] \n",
    "                passnum = position\n",
    "            else:\n",
    "                break\n",
    "        alist[passnum] = temp\n",
    "\n",
    "alist = [1, 9, 2, 10, 3, 11, 4, 12, 5, 13, 6, 14, 7, 15, 8, 16]\n",
    "shellsort(alist)"
   ]
  },
  {
   "cell_type": "markdown",
   "metadata": {},
   "source": [
    "## 归并排序\n",
    "![Node](pic/guibing1.png)\n",
    "<center>向下分解序列直到满足基本排序序列</center>\n",
    "![Node](pic/guibing2.png)\n",
    "<center>子序列排序好以后向上返回并排序</center>\n",
    "    \n",
    "**时间复杂度：O(nlog(n))**\n",
    "\n",
    "1. 长度为n的列表拆分为单个元素的所需要的操作为2log(n)，常数项可以省略，所以执行的步骤为log(n)\n",
    "2. 长度为n的序列被拆分n个元素后合并的操作需要n-1个步骤,常数项省略，所以执行的步骤为n"
   ]
  },
  {
   "cell_type": "code",
   "execution_count": 29,
   "metadata": {},
   "outputs": [
    {
     "name": "stdout",
     "output_type": "stream",
     "text": [
      "[17, 20, 26, 31, 44, 54, 55, 77, 93]\n"
     ]
    }
   ],
   "source": [
    "def mergesort(alist):\n",
    "    if len(alist) > 2:#分割序列的依据，子序列的长度大于2\n",
    "        sub = int(len(alist)/2)\n",
    "        \n",
    "        #递归调用切分序列\n",
    "        leftseq = mergesort(alist[:sub])\n",
    "        rightseq = mergesort(alist[sub:])\n",
    "        \n",
    "        alist = leftseq + rightseq \n",
    "        #合并左右有序子序列\n",
    "        \n",
    "        #对合并序列进行插入排序\n",
    "        for position in range(len(leftseq), len(alist), 1):\n",
    "            temp = alist[position]\n",
    "            for leftindex in range(position - 1, -1, -1):\n",
    "                if alist[leftindex] > temp:\n",
    "                    alist[position] = alist[leftindex]\n",
    "                    position = leftindex\n",
    "                else:\n",
    "                    break\n",
    "            alist[position] = temp\n",
    "        return alist\n",
    "\n",
    "    else:#对基本子序列进行操作：1.子序列中有两个值：排序2.子序列中只有一个值：不操作\n",
    "        if len(alist) == 2:\n",
    "            if alist[0] > alist[1]:\n",
    "                alist[0], alist[1] = alist[1], alist[0]\n",
    "        return alist\n",
    "\n",
    "\n",
    "alist = [54,26,93,17,77,31,44,55,20]\n",
    "alist = mergesort(alist)\n",
    "print(alist)"
   ]
  },
  {
   "cell_type": "markdown",
   "metadata": {},
   "source": [
    "## 快速排序\n",
    "![Node](pic/quicksort1.png)\n",
    "![Node](pic/quicksort2.png)\n",
    "<center>快速排序<center>\n",
    "\n",
    "**复杂度：O（nlog(n)）**\n",
    "\n",
    "对于长度为 n 的列表，如果分区总是出现在列表中间，则会再次出现 log(n) 分区。为了找到分割点，需要针对枢轴值检查 n 个项中的每一个。结果是 nlog(n)"
   ]
  },
  {
   "cell_type": "code",
   "execution_count": 1,
   "metadata": {},
   "outputs": [
    {
     "name": "stdout",
     "output_type": "stream",
     "text": [
      "[17, 20, 26, 31, 44, 54, 55, 77, 93]\n"
     ]
    }
   ],
   "source": [
    "def quicksort(alist):\n",
    "    quicksortrecursion(alist, 0, len(alist) - 1)\n",
    "\n",
    "def quicksortrecursion(alist, first, last):\n",
    "\n",
    "    if first < last: #递归停止条件：子序列至少有两个元素\n",
    "        spiltpoint = sort(alist, first, last)#排序\n",
    "\n",
    "        quicksortrecursion(alist, first, spiltpoint - 1)#左子序列排序\n",
    "        quicksortrecursion(alist, spiltpoint + 1, last)#右子序列排序\n",
    "\n",
    "def sort(alist, first, last):\n",
    "\n",
    "    leftmark = first + 1\n",
    "    rightmark = last\n",
    "\n",
    "    done = False\n",
    "\n",
    "    while not done:\n",
    "\n",
    "        #1.确定从左到右检测大于序列第一个值指针leftmark的值(即序列中需要往右移动数据的索引值)\n",
    "        #2.将leftmark指针的置为为 leftmark = rightmark 或 leftmark = last + 1\n",
    "        while alist[leftmark] <= alist[first] and leftmark <= rightmark:\n",
    "            leftmark += 1\n",
    "\n",
    "        #1.确定从右到左检测小于序列第一个值指针rightmark的值(即序列中需要往左移动数据的索引)\n",
    "        #2.将rightmark指针置为 rightmark = leftmark 或 rightmark = frist\n",
    "        while alist[rightmark] >= alist[first] and leftmark <= rightmark:\n",
    "            rightmark = rightmark - 1\n",
    "\n",
    "        if rightmark < leftmark:#除序列第一个数据外，左右不做任何交换的情况\n",
    "            done = True\n",
    "        else:\n",
    "            alist[leftmark], alist[rightmark] = alist[rightmark], alist[leftmark]\n",
    "\n",
    "\n",
    "    alist[first], alist[rightmark] = alist[rightmark], alist[first]#将序列第一个数据与枢轴值索引位置数据交换\n",
    "\n",
    "    return rightmark#返回枢轴值索引为分割序列做准备\n",
    "\n",
    "alist = [54,26,93,17,77,31,44,55,20]\n",
    "quicksort(alist)\n",
    "print(alist)\n",
    "\n"
   ]
  },
  {
   "cell_type": "markdown",
   "metadata": {},
   "source": [
    "## 总结\n",
    "![Node](pic/ranksearch.png)"
   ]
  },
  {
   "cell_type": "code",
   "execution_count": null,
   "metadata": {},
   "outputs": [],
   "source": []
  }
 ],
 "metadata": {
  "kernelspec": {
   "display_name": "Python 3",
   "language": "python",
   "name": "python3"
  },
  "language_info": {
   "codemirror_mode": {
    "name": "ipython",
    "version": 3
   },
   "file_extension": ".py",
   "mimetype": "text/x-python",
   "name": "python",
   "nbconvert_exporter": "python",
   "pygments_lexer": "ipython3",
   "version": "3.6.4"
  }
 },
 "nbformat": 4,
 "nbformat_minor": 2
}
