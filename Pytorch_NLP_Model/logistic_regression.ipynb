{
 "cells": [
  {
   "cell_type": "markdown",
   "metadata": {},
   "source": [
    "# content\n",
    "- 回归模型网络拓扑\n",
    "- 模型训练"
   ]
  },
  {
   "cell_type": "code",
   "execution_count": 1,
   "metadata": {},
   "outputs": [
    {
     "data": {
      "text/plain": [
       "<torch._C.Generator at 0x27b003ef4f0>"
      ]
     },
     "execution_count": 1,
     "metadata": {},
     "output_type": "execute_result"
    }
   ],
   "source": [
    "import torch \n",
    "import torch.autograd as autograd\n",
    "import torch.nn as nn \n",
    "import torch.nn.functional as F\n",
    "import torch.optim as optim \n",
    "\n",
    "device = torch.device( 'cuda' if torch.cuda.is_available() else 'cpu')\n",
    "\n",
    "torch.manual_seed(1)"
   ]
  },
  {
   "cell_type": "code",
   "execution_count": 9,
   "metadata": {},
   "outputs": [
    {
     "name": "stdout",
     "output_type": "stream",
     "text": [
      "word_to_ix:\n",
      " {'me': 0, 'gusta': 1, 'comer': 2, 'en': 3, 'la': 4, 'cafeteria': 5, 'Give': 6, 'it': 7, 'to': 8, 'No': 9, 'creo': 10, 'que': 11, 'sea.': 12, 'una': 13, 'buena': 14, 'idea': 15, 'is': 16, 'not': 17, 'a': 18, 'good': 19, 'get': 20, 'lost': 21, 'at': 22, 'sea': 23, 'Yo': 24, 'si': 25, 'on': 26}\n",
      "label_to_ix:\n",
      " {'SPANISH': 0, 'ENGLISH': 1}\n"
     ]
    }
   ],
   "source": [
    "# 回归模型网络拓扑\n",
    "data = [('me gusta comer en la cafeteria'.split(), 'SPANISH'),\n",
    "        ('Give it to me'.split(), 'ENGLISH'),\n",
    "        ('No creo que sea. una buena idea'.split(), 'SPANISH'),\n",
    "        ('No it is not a good idea to get lost at sea'.split(), 'ENGLISH')]\n",
    "\n",
    "test_data = [('Yo creo que si'.split(), 'SPANSIH'),\n",
    "             ('it is lost on me'.split(),'ENGLISH')]\n",
    "\n",
    "# word 词典 \n",
    "word_to_ix = {}\n",
    "for sent, _ in data + test_data:\n",
    "    for word in sent:\n",
    "        if word not in word_to_ix:\n",
    "            word_to_ix[word]  = len(word_to_ix)\n",
    "            \n",
    "label_to_ix = {\"SPANISH\": 0, \"ENGLISH\": 1}\n",
    "\n",
    "print('word_to_ix:\\n',word_to_ix)\n",
    "print('label_to_ix:\\n',label_to_ix)\n",
    "\n",
    "# 将sentence转化为Bow_vector表达\n",
    "def make_bow_vector(sentence, word_to_ix):\n",
    "    vec = torch.zeros(len(word_to_ix))\n",
    "    for word in sentence:\n",
    "        vec[word_to_ix[word]] = 1\n",
    "    return vec.view(1,-1)\n",
    "        \n",
    "def make_target(label, label_to_ix):\n",
    "    \n",
    "    return torch.LongTensor([label_to_ix[label]])\n",
    "    \n",
    "class BoWClassfier(nn.Module):\n",
    "    \n",
    "    def __init__(self, input_size, output_size):\n",
    "        super(BoWClassfier, self).__init__()\n",
    "        \n",
    "        self.input_size = input_size\n",
    "        self.output_size = output_size\n",
    "        \n",
    "        # 线性变换\n",
    "        self.fc = nn.Linear(self.input_size, self.output_size)\n",
    "    \n",
    "    # 重写 forward方法定义前向计算\n",
    "    def forward(self, inputs):\n",
    "        \n",
    "        outs = F.log_softmax(self.fc(inputs), dim=1)\n",
    "        # dim = 1 按行计算log_softmax\n",
    "        \n",
    "        return outs "
   ]
  },
  {
   "cell_type": "code",
   "execution_count": 10,
   "metadata": {},
   "outputs": [
    {
     "name": "stdout",
     "output_type": "stream",
     "text": [
      "tensor([[-0.1579, -1.9236]], device='cuda:0', grad_fn=<LogSoftmaxBackward>)\n",
      "tensor([[-3.0547, -0.0483]], device='cuda:0', grad_fn=<LogSoftmaxBackward>)\n",
      "tensor([ 0.2882, -0.4156], device='cuda:0', grad_fn=<SelectBackward>)\n"
     ]
    }
   ],
   "source": [
    "# 模型训练\n",
    "\n",
    "# 超参\n",
    "input_size = len(word_to_ix) # vocab_size\n",
    "output_size = 2 # num_label\n",
    "\n",
    "# 实例化模型/定义损失函数/优化器\n",
    "model = BoWClassfier(input_size, output_size).to(device) \n",
    "loss_function = nn.NLLLoss()\n",
    "optimizer = optim.SGD(model.parameters(), lr=0.1)\n",
    "\n",
    "for epoch in range(100):\n",
    "    for instance, label in data:\n",
    "        \n",
    "        # 开始训练时清理模型参数保存的上一轮训练梯度\n",
    "        model.zero_grad() \n",
    "        \n",
    "        # 生成bow_vec向量,Variable封装\n",
    "        bow_vec = autograd.Variable(make_bow_vector(instance, word_to_ix)).to(device)\n",
    "        \n",
    "        # 生成target 目标Variable: 0 或 1，Variable封装\n",
    "        target = autograd.Variable(make_target(label, label_to_ix)).to(device)\n",
    "        \n",
    "        # 前向计算\n",
    "        log_probs = model(bow_vec)\n",
    "        \n",
    "        # 计算损失，梯度，优化参数\n",
    "        loss = loss_function(log_probs, target)\n",
    "        loss.backward()\n",
    "        optimizer.step()\n",
    "\n",
    "# 测试\n",
    "for instance, label in test_data:\n",
    "    bow_vec = autograd.Variable(make_bow_vector(instance, word_to_ix))\n",
    "    log_probs = model(bow_vec.to(device))\n",
    "    print(log_probs)\n",
    "\n",
    "print(next(model.parameters())[:,word_to_ix['creo']])    "
   ]
  }
 ],
 "metadata": {
  "kernelspec": {
   "display_name": "Python 3",
   "language": "python",
   "name": "python3"
  },
  "language_info": {
   "codemirror_mode": {
    "name": "ipython",
    "version": 3
   },
   "file_extension": ".py",
   "mimetype": "text/x-python",
   "name": "python",
   "nbconvert_exporter": "python",
   "pygments_lexer": "ipython3",
   "version": "3.7.0"
  }
 },
 "nbformat": 4,
 "nbformat_minor": 2
}
