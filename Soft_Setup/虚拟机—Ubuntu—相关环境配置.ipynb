{
 "cells": [
  {
   "cell_type": "markdown",
   "metadata": {},
   "source": [
    "## 基于VMware的Ubuntu安装\n",
    "\n",
    "1. 安装教程URL：https://blog.csdn.net/github_39655029/article/details/80626374\n",
    "\n",
    "2. 安装结束后暂停虚拟机，然后按以下操作：\n",
    "![deque](pic/虚拟机1.png)\n",
    "\n",
    "3.WMware tools安装教程：https://www.jianshu.com/p/217e8cc316f3 \n",
    "\n",
    "    ps:Ubuntu需要有CD光驱才能安装VMware tools\n",
    "![deque](pic/虚拟机.png)"
   ]
  },
  {
   "cell_type": "markdown",
   "metadata": {},
   "source": [
    "# anaconda\n",
    "1. anaconda安装教程：https://www.howtoing.com/how-to-install-anaconda-on-ubuntu-18-04-quickstart\n",
    "\n",
    "2. 环境变量配置：     \n",
    "        1. 安装vim:sudo apt-get install vim-gtk\n",
    "        2. 找到anaconda bin目录路径例如：/home/jerry/anaconda3/bin\n",
    "        3. 在用户目录，例如jerry中使用命令 vim ~/.bashrc 打开.bashrc脚本\n",
    "        4. 在脚本中最后一行添加环境变量：export PATH=/home/jerry/anaconda3/bin:$PATH\n",
    "        5. 保存退出后输入命令source ~/.bashrc让环境变量生效\n",
    "        6. 输入conda命令验证\n",
    "        \n",
    "3. ubuntu中启动anaconda的图像化界面navigator：(https://www.jianshu.com/p/9a4ef63786f3)\n",
    "        1. 在需要jupyter生效的目录环境输入命令：conda install -c anaconda anaconda-navigator\n",
    "        2. 输入命令：anaconda-navigator 启动navigator\n",
    "        "
   ]
  }
 ],
 "metadata": {
  "kernelspec": {
   "display_name": "Python 3",
   "language": "python",
   "name": "python3"
  },
  "language_info": {
   "codemirror_mode": {
    "name": "ipython",
    "version": 3
   },
   "file_extension": ".py",
   "mimetype": "text/x-python",
   "name": "python",
   "nbconvert_exporter": "python",
   "pygments_lexer": "ipython3",
   "version": "3.7.6"
  }
 },
 "nbformat": 4,
 "nbformat_minor": 4
}
