{
 "cells": [
  {
   "cell_type": "markdown",
   "metadata": {},
   "source": [
    "### 配置python实验环境时，注意基底python版本是否能适配所要安装的其他python库\n",
    "* 不同的pytorch适配python的版本不同，例如torch1.1.0适配python3.6/3.7版本，使用python3.8无法安装torch1.1.0\n",
    "* 不同版本的python 包适配不同的python版本"
   ]
  }
 ],
 "metadata": {
  "kernelspec": {
   "display_name": "Python 3",
   "language": "python",
   "name": "python3"
  },
  "language_info": {
   "codemirror_mode": {
    "name": "ipython",
    "version": 3
   },
   "file_extension": ".py",
   "mimetype": "text/x-python",
   "name": "python",
   "nbconvert_exporter": "python",
   "pygments_lexer": "ipython3",
   "version": "3.7.6"
  }
 },
 "nbformat": 4,
 "nbformat_minor": 4
}
